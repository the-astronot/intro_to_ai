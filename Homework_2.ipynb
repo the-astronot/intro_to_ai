{
  "nbformat": 4,
  "nbformat_minor": 0,
  "metadata": {
    "colab": {
      "provenance": [],
      "collapsed_sections": [],
      "authorship_tag": "ABX9TyMwLn2+tMnoFWsavKRogRbf",
      "include_colab_link": true
    },
    "kernelspec": {
      "name": "python3",
      "display_name": "Python 3"
    },
    "language_info": {
      "name": "python"
    }
  },
  "cells": [
    {
      "cell_type": "markdown",
      "metadata": {
        "id": "view-in-github",
        "colab_type": "text"
      },
      "source": [
        "<a href=\"https://colab.research.google.com/github/the-astronot/intro_to_ai/blob/main/Homework_2.ipynb\" target=\"_parent\"><img src=\"https://colab.research.google.com/assets/colab-badge.svg\" alt=\"Open In Colab\"/></a>"
      ]
    },
    {
      "cell_type": "markdown",
      "source": [
        "# Pre-Reqs"
      ],
      "metadata": {
        "id": "j3_BVmAS9TkP"
      }
    },
    {
      "cell_type": "code",
      "execution_count": 1,
      "metadata": {
        "id": "cU2sJgtfhkWB"
      },
      "outputs": [],
      "source": [
        "# Mass imports\n",
        "import time\n",
        "import pandas as pd\n",
        "import matplotlib.pyplot as plt\n",
        "import seaborn as sns\n",
        "import numpy as np\n",
        "from sklearn.model_selection import train_test_split, cross_val_score\n",
        "from sklearn.metrics import accuracy_score\n",
        "from sklearn.metrics import f1_score\n",
        "from sklearn.metrics import ConfusionMatrixDisplay as CMD\n",
        "from sklearn.preprocessing import Normalizer\n",
        "from sklearn.tree import DecisionTreeClassifier\n",
        "from sklearn.ensemble import BaggingClassifier, AdaBoostClassifier\n",
        "import warnings\n",
        "warnings.filterwarnings(\"ignore\")"
      ]
    },
    {
      "cell_type": "code",
      "source": [
        "# Quick timer\n",
        "class Timer:\n",
        "  def __init__(self):\n",
        "    self.active = False\n",
        "    self.duration = 0\n",
        "    self.began = 0\n",
        "  \n",
        "  def start(self):\n",
        "    if self.active == False:\n",
        "      self.began = time.time()\n",
        "      self.active = True\n",
        "  \n",
        "  def stop(self):\n",
        "    if self.active == True:\n",
        "      self.duration = time.time() - self.began\n",
        "      self.active = False\n",
        "\n",
        "  def read(self):\n",
        "    if self.active == False:\n",
        "      return self.duration\n",
        "    return -1"
      ],
      "metadata": {
        "id": "Y5Bi2AvX9XII"
      },
      "execution_count": 2,
      "outputs": []
    },
    {
      "cell_type": "code",
      "source": [
        "debug = False\n",
        "t = Timer()"
      ],
      "metadata": {
        "id": "r-3VVv6H9X5M"
      },
      "execution_count": 3,
      "outputs": []
    },
    {
      "cell_type": "markdown",
      "source": [
        "# Homework 2\n",
        "\n",
        "In Homework 2, I am re-implementing my Galaxy classifier with a Decision Tree Classifier rather than Logistic Regression. Once again, I'll be using [this stellar classification](https://www.kaggle.com/datasets/fedesoriano/stellar-classification-dataset-sdss17) dataset from Kaggle, and attempting to classify the included astral bodies as either galaxies or not galaxies."
      ],
      "metadata": {
        "id": "T3FRfOyHiW2F"
      }
    },
    {
      "cell_type": "code",
      "source": [
        "df = pd.read_csv('star_classification.csv')\n",
        "df.head(10)"
      ],
      "metadata": {
        "id": "t909yS6nitZd",
        "colab": {
          "base_uri": "https://localhost:8080/",
          "height": 427
        },
        "outputId": "7cf9ea1d-8cef-4db9-f3ef-3dde7b7432dc"
      },
      "execution_count": 4,
      "outputs": [
        {
          "output_type": "execute_result",
          "data": {
            "text/plain": [
              "         obj_ID       alpha      delta         u         g         r  \\\n",
              "0  1.237661e+18  135.689107  32.494632  23.87882  22.27530  20.39501   \n",
              "1  1.237665e+18  144.826101  31.274185  24.77759  22.83188  22.58444   \n",
              "2  1.237661e+18  142.188790  35.582444  25.26307  22.66389  20.60976   \n",
              "3  1.237663e+18  338.741038  -0.402828  22.13682  23.77656  21.61162   \n",
              "4  1.237680e+18  345.282593  21.183866  19.43718  17.58028  16.49747   \n",
              "5  1.237680e+18  340.995121  20.589476  23.48827  23.33776  21.32195   \n",
              "6  1.237679e+18   23.234926  11.418188  21.46973  21.17624  20.92829   \n",
              "7  1.237679e+18    5.433176  12.065186  22.24979  22.02172  20.34126   \n",
              "8  1.237661e+18  200.290475  47.199402  24.40286  22.35669  20.61032   \n",
              "9  1.237671e+18   39.149691  28.102842  21.74669  20.03493  19.17553   \n",
              "\n",
              "          i         z  run_ID  rerun_ID  cam_col  field_ID   spec_obj_ID  \\\n",
              "0  19.16573  18.79371    3606       301        2        79  6.543777e+18   \n",
              "1  21.16812  21.61427    4518       301        5       119  1.176014e+19   \n",
              "2  19.34857  18.94827    3606       301        2       120  5.152200e+18   \n",
              "3  20.50454  19.25010    4192       301        3       214  1.030107e+19   \n",
              "4  15.97711  15.54461    8102       301        3       137  6.891865e+18   \n",
              "5  20.25615  19.54544    8102       301        3       110  5.658977e+18   \n",
              "6  20.60826  20.42573    7773       301        2       462  1.246262e+19   \n",
              "7  19.48794  18.84999    7773       301        2       346  6.961443e+18   \n",
              "8  19.46490  18.95852    3716       301        5       108  7.459285e+18   \n",
              "9  18.81823  18.65422    5934       301        4       122  2.751763e+18   \n",
              "\n",
              "    class  redshift  plate    MJD  fiber_ID  \n",
              "0  GALAXY  0.634794   5812  56354       171  \n",
              "1  GALAXY  0.779136  10445  58158       427  \n",
              "2  GALAXY  0.644195   4576  55592       299  \n",
              "3  GALAXY  0.932346   9149  58039       775  \n",
              "4  GALAXY  0.116123   6121  56187       842  \n",
              "5     QSO  1.424659   5026  55855       741  \n",
              "6     QSO  0.586455  11069  58456       113  \n",
              "7  GALAXY  0.477009   6183  56210        15  \n",
              "8  GALAXY  0.660012   6625  56386       719  \n",
              "9    STAR -0.000008   2444  54082       232  "
            ],
            "text/html": [
              "\n",
              "  <div id=\"df-cd98a6b2-2076-43a4-9e03-ec884c9fb83a\">\n",
              "    <div class=\"colab-df-container\">\n",
              "      <div>\n",
              "<style scoped>\n",
              "    .dataframe tbody tr th:only-of-type {\n",
              "        vertical-align: middle;\n",
              "    }\n",
              "\n",
              "    .dataframe tbody tr th {\n",
              "        vertical-align: top;\n",
              "    }\n",
              "\n",
              "    .dataframe thead th {\n",
              "        text-align: right;\n",
              "    }\n",
              "</style>\n",
              "<table border=\"1\" class=\"dataframe\">\n",
              "  <thead>\n",
              "    <tr style=\"text-align: right;\">\n",
              "      <th></th>\n",
              "      <th>obj_ID</th>\n",
              "      <th>alpha</th>\n",
              "      <th>delta</th>\n",
              "      <th>u</th>\n",
              "      <th>g</th>\n",
              "      <th>r</th>\n",
              "      <th>i</th>\n",
              "      <th>z</th>\n",
              "      <th>run_ID</th>\n",
              "      <th>rerun_ID</th>\n",
              "      <th>cam_col</th>\n",
              "      <th>field_ID</th>\n",
              "      <th>spec_obj_ID</th>\n",
              "      <th>class</th>\n",
              "      <th>redshift</th>\n",
              "      <th>plate</th>\n",
              "      <th>MJD</th>\n",
              "      <th>fiber_ID</th>\n",
              "    </tr>\n",
              "  </thead>\n",
              "  <tbody>\n",
              "    <tr>\n",
              "      <th>0</th>\n",
              "      <td>1.237661e+18</td>\n",
              "      <td>135.689107</td>\n",
              "      <td>32.494632</td>\n",
              "      <td>23.87882</td>\n",
              "      <td>22.27530</td>\n",
              "      <td>20.39501</td>\n",
              "      <td>19.16573</td>\n",
              "      <td>18.79371</td>\n",
              "      <td>3606</td>\n",
              "      <td>301</td>\n",
              "      <td>2</td>\n",
              "      <td>79</td>\n",
              "      <td>6.543777e+18</td>\n",
              "      <td>GALAXY</td>\n",
              "      <td>0.634794</td>\n",
              "      <td>5812</td>\n",
              "      <td>56354</td>\n",
              "      <td>171</td>\n",
              "    </tr>\n",
              "    <tr>\n",
              "      <th>1</th>\n",
              "      <td>1.237665e+18</td>\n",
              "      <td>144.826101</td>\n",
              "      <td>31.274185</td>\n",
              "      <td>24.77759</td>\n",
              "      <td>22.83188</td>\n",
              "      <td>22.58444</td>\n",
              "      <td>21.16812</td>\n",
              "      <td>21.61427</td>\n",
              "      <td>4518</td>\n",
              "      <td>301</td>\n",
              "      <td>5</td>\n",
              "      <td>119</td>\n",
              "      <td>1.176014e+19</td>\n",
              "      <td>GALAXY</td>\n",
              "      <td>0.779136</td>\n",
              "      <td>10445</td>\n",
              "      <td>58158</td>\n",
              "      <td>427</td>\n",
              "    </tr>\n",
              "    <tr>\n",
              "      <th>2</th>\n",
              "      <td>1.237661e+18</td>\n",
              "      <td>142.188790</td>\n",
              "      <td>35.582444</td>\n",
              "      <td>25.26307</td>\n",
              "      <td>22.66389</td>\n",
              "      <td>20.60976</td>\n",
              "      <td>19.34857</td>\n",
              "      <td>18.94827</td>\n",
              "      <td>3606</td>\n",
              "      <td>301</td>\n",
              "      <td>2</td>\n",
              "      <td>120</td>\n",
              "      <td>5.152200e+18</td>\n",
              "      <td>GALAXY</td>\n",
              "      <td>0.644195</td>\n",
              "      <td>4576</td>\n",
              "      <td>55592</td>\n",
              "      <td>299</td>\n",
              "    </tr>\n",
              "    <tr>\n",
              "      <th>3</th>\n",
              "      <td>1.237663e+18</td>\n",
              "      <td>338.741038</td>\n",
              "      <td>-0.402828</td>\n",
              "      <td>22.13682</td>\n",
              "      <td>23.77656</td>\n",
              "      <td>21.61162</td>\n",
              "      <td>20.50454</td>\n",
              "      <td>19.25010</td>\n",
              "      <td>4192</td>\n",
              "      <td>301</td>\n",
              "      <td>3</td>\n",
              "      <td>214</td>\n",
              "      <td>1.030107e+19</td>\n",
              "      <td>GALAXY</td>\n",
              "      <td>0.932346</td>\n",
              "      <td>9149</td>\n",
              "      <td>58039</td>\n",
              "      <td>775</td>\n",
              "    </tr>\n",
              "    <tr>\n",
              "      <th>4</th>\n",
              "      <td>1.237680e+18</td>\n",
              "      <td>345.282593</td>\n",
              "      <td>21.183866</td>\n",
              "      <td>19.43718</td>\n",
              "      <td>17.58028</td>\n",
              "      <td>16.49747</td>\n",
              "      <td>15.97711</td>\n",
              "      <td>15.54461</td>\n",
              "      <td>8102</td>\n",
              "      <td>301</td>\n",
              "      <td>3</td>\n",
              "      <td>137</td>\n",
              "      <td>6.891865e+18</td>\n",
              "      <td>GALAXY</td>\n",
              "      <td>0.116123</td>\n",
              "      <td>6121</td>\n",
              "      <td>56187</td>\n",
              "      <td>842</td>\n",
              "    </tr>\n",
              "    <tr>\n",
              "      <th>5</th>\n",
              "      <td>1.237680e+18</td>\n",
              "      <td>340.995121</td>\n",
              "      <td>20.589476</td>\n",
              "      <td>23.48827</td>\n",
              "      <td>23.33776</td>\n",
              "      <td>21.32195</td>\n",
              "      <td>20.25615</td>\n",
              "      <td>19.54544</td>\n",
              "      <td>8102</td>\n",
              "      <td>301</td>\n",
              "      <td>3</td>\n",
              "      <td>110</td>\n",
              "      <td>5.658977e+18</td>\n",
              "      <td>QSO</td>\n",
              "      <td>1.424659</td>\n",
              "      <td>5026</td>\n",
              "      <td>55855</td>\n",
              "      <td>741</td>\n",
              "    </tr>\n",
              "    <tr>\n",
              "      <th>6</th>\n",
              "      <td>1.237679e+18</td>\n",
              "      <td>23.234926</td>\n",
              "      <td>11.418188</td>\n",
              "      <td>21.46973</td>\n",
              "      <td>21.17624</td>\n",
              "      <td>20.92829</td>\n",
              "      <td>20.60826</td>\n",
              "      <td>20.42573</td>\n",
              "      <td>7773</td>\n",
              "      <td>301</td>\n",
              "      <td>2</td>\n",
              "      <td>462</td>\n",
              "      <td>1.246262e+19</td>\n",
              "      <td>QSO</td>\n",
              "      <td>0.586455</td>\n",
              "      <td>11069</td>\n",
              "      <td>58456</td>\n",
              "      <td>113</td>\n",
              "    </tr>\n",
              "    <tr>\n",
              "      <th>7</th>\n",
              "      <td>1.237679e+18</td>\n",
              "      <td>5.433176</td>\n",
              "      <td>12.065186</td>\n",
              "      <td>22.24979</td>\n",
              "      <td>22.02172</td>\n",
              "      <td>20.34126</td>\n",
              "      <td>19.48794</td>\n",
              "      <td>18.84999</td>\n",
              "      <td>7773</td>\n",
              "      <td>301</td>\n",
              "      <td>2</td>\n",
              "      <td>346</td>\n",
              "      <td>6.961443e+18</td>\n",
              "      <td>GALAXY</td>\n",
              "      <td>0.477009</td>\n",
              "      <td>6183</td>\n",
              "      <td>56210</td>\n",
              "      <td>15</td>\n",
              "    </tr>\n",
              "    <tr>\n",
              "      <th>8</th>\n",
              "      <td>1.237661e+18</td>\n",
              "      <td>200.290475</td>\n",
              "      <td>47.199402</td>\n",
              "      <td>24.40286</td>\n",
              "      <td>22.35669</td>\n",
              "      <td>20.61032</td>\n",
              "      <td>19.46490</td>\n",
              "      <td>18.95852</td>\n",
              "      <td>3716</td>\n",
              "      <td>301</td>\n",
              "      <td>5</td>\n",
              "      <td>108</td>\n",
              "      <td>7.459285e+18</td>\n",
              "      <td>GALAXY</td>\n",
              "      <td>0.660012</td>\n",
              "      <td>6625</td>\n",
              "      <td>56386</td>\n",
              "      <td>719</td>\n",
              "    </tr>\n",
              "    <tr>\n",
              "      <th>9</th>\n",
              "      <td>1.237671e+18</td>\n",
              "      <td>39.149691</td>\n",
              "      <td>28.102842</td>\n",
              "      <td>21.74669</td>\n",
              "      <td>20.03493</td>\n",
              "      <td>19.17553</td>\n",
              "      <td>18.81823</td>\n",
              "      <td>18.65422</td>\n",
              "      <td>5934</td>\n",
              "      <td>301</td>\n",
              "      <td>4</td>\n",
              "      <td>122</td>\n",
              "      <td>2.751763e+18</td>\n",
              "      <td>STAR</td>\n",
              "      <td>-0.000008</td>\n",
              "      <td>2444</td>\n",
              "      <td>54082</td>\n",
              "      <td>232</td>\n",
              "    </tr>\n",
              "  </tbody>\n",
              "</table>\n",
              "</div>\n",
              "      <button class=\"colab-df-convert\" onclick=\"convertToInteractive('df-cd98a6b2-2076-43a4-9e03-ec884c9fb83a')\"\n",
              "              title=\"Convert this dataframe to an interactive table.\"\n",
              "              style=\"display:none;\">\n",
              "        \n",
              "  <svg xmlns=\"http://www.w3.org/2000/svg\" height=\"24px\"viewBox=\"0 0 24 24\"\n",
              "       width=\"24px\">\n",
              "    <path d=\"M0 0h24v24H0V0z\" fill=\"none\"/>\n",
              "    <path d=\"M18.56 5.44l.94 2.06.94-2.06 2.06-.94-2.06-.94-.94-2.06-.94 2.06-2.06.94zm-11 1L8.5 8.5l.94-2.06 2.06-.94-2.06-.94L8.5 2.5l-.94 2.06-2.06.94zm10 10l.94 2.06.94-2.06 2.06-.94-2.06-.94-.94-2.06-.94 2.06-2.06.94z\"/><path d=\"M17.41 7.96l-1.37-1.37c-.4-.4-.92-.59-1.43-.59-.52 0-1.04.2-1.43.59L10.3 9.45l-7.72 7.72c-.78.78-.78 2.05 0 2.83L4 21.41c.39.39.9.59 1.41.59.51 0 1.02-.2 1.41-.59l7.78-7.78 2.81-2.81c.8-.78.8-2.07 0-2.86zM5.41 20L4 18.59l7.72-7.72 1.47 1.35L5.41 20z\"/>\n",
              "  </svg>\n",
              "      </button>\n",
              "      \n",
              "  <style>\n",
              "    .colab-df-container {\n",
              "      display:flex;\n",
              "      flex-wrap:wrap;\n",
              "      gap: 12px;\n",
              "    }\n",
              "\n",
              "    .colab-df-convert {\n",
              "      background-color: #E8F0FE;\n",
              "      border: none;\n",
              "      border-radius: 50%;\n",
              "      cursor: pointer;\n",
              "      display: none;\n",
              "      fill: #1967D2;\n",
              "      height: 32px;\n",
              "      padding: 0 0 0 0;\n",
              "      width: 32px;\n",
              "    }\n",
              "\n",
              "    .colab-df-convert:hover {\n",
              "      background-color: #E2EBFA;\n",
              "      box-shadow: 0px 1px 2px rgba(60, 64, 67, 0.3), 0px 1px 3px 1px rgba(60, 64, 67, 0.15);\n",
              "      fill: #174EA6;\n",
              "    }\n",
              "\n",
              "    [theme=dark] .colab-df-convert {\n",
              "      background-color: #3B4455;\n",
              "      fill: #D2E3FC;\n",
              "    }\n",
              "\n",
              "    [theme=dark] .colab-df-convert:hover {\n",
              "      background-color: #434B5C;\n",
              "      box-shadow: 0px 1px 3px 1px rgba(0, 0, 0, 0.15);\n",
              "      filter: drop-shadow(0px 1px 2px rgba(0, 0, 0, 0.3));\n",
              "      fill: #FFFFFF;\n",
              "    }\n",
              "  </style>\n",
              "\n",
              "      <script>\n",
              "        const buttonEl =\n",
              "          document.querySelector('#df-cd98a6b2-2076-43a4-9e03-ec884c9fb83a button.colab-df-convert');\n",
              "        buttonEl.style.display =\n",
              "          google.colab.kernel.accessAllowed ? 'block' : 'none';\n",
              "\n",
              "        async function convertToInteractive(key) {\n",
              "          const element = document.querySelector('#df-cd98a6b2-2076-43a4-9e03-ec884c9fb83a');\n",
              "          const dataTable =\n",
              "            await google.colab.kernel.invokeFunction('convertToInteractive',\n",
              "                                                     [key], {});\n",
              "          if (!dataTable) return;\n",
              "\n",
              "          const docLinkHtml = 'Like what you see? Visit the ' +\n",
              "            '<a target=\"_blank\" href=https://colab.research.google.com/notebooks/data_table.ipynb>data table notebook</a>'\n",
              "            + ' to learn more about interactive tables.';\n",
              "          element.innerHTML = '';\n",
              "          dataTable['output_type'] = 'display_data';\n",
              "          await google.colab.output.renderOutput(dataTable, element);\n",
              "          const docLink = document.createElement('div');\n",
              "          docLink.innerHTML = docLinkHtml;\n",
              "          element.appendChild(docLink);\n",
              "        }\n",
              "      </script>\n",
              "    </div>\n",
              "  </div>\n",
              "  "
            ]
          },
          "metadata": {},
          "execution_count": 4
        }
      ]
    },
    {
      "cell_type": "markdown",
      "source": [
        "## Renaming Class to Obj_Type to Avoid Python Issues"
      ],
      "metadata": {
        "id": "dX1Sug4zC6iO"
      }
    },
    {
      "cell_type": "code",
      "source": [
        "df[\"obj_type\"] = df[\"class\"]\n",
        "df.drop('class',axis=1,inplace=True)\n",
        "df.info()"
      ],
      "metadata": {
        "colab": {
          "base_uri": "https://localhost:8080/"
        },
        "id": "EMvs9I7mDA5h",
        "outputId": "c678f0ee-e324-4850-8574-16ce9eef135a"
      },
      "execution_count": 5,
      "outputs": [
        {
          "output_type": "stream",
          "name": "stdout",
          "text": [
            "<class 'pandas.core.frame.DataFrame'>\n",
            "RangeIndex: 100000 entries, 0 to 99999\n",
            "Data columns (total 18 columns):\n",
            " #   Column       Non-Null Count   Dtype  \n",
            "---  ------       --------------   -----  \n",
            " 0   obj_ID       100000 non-null  float64\n",
            " 1   alpha        100000 non-null  float64\n",
            " 2   delta        100000 non-null  float64\n",
            " 3   u            100000 non-null  float64\n",
            " 4   g            100000 non-null  float64\n",
            " 5   r            100000 non-null  float64\n",
            " 6   i            100000 non-null  float64\n",
            " 7   z            100000 non-null  float64\n",
            " 8   run_ID       100000 non-null  int64  \n",
            " 9   rerun_ID     100000 non-null  int64  \n",
            " 10  cam_col      100000 non-null  int64  \n",
            " 11  field_ID     100000 non-null  int64  \n",
            " 12  spec_obj_ID  100000 non-null  float64\n",
            " 13  redshift     100000 non-null  float64\n",
            " 14  plate        100000 non-null  int64  \n",
            " 15  MJD          100000 non-null  int64  \n",
            " 16  fiber_ID     100000 non-null  int64  \n",
            " 17  obj_type     100000 non-null  object \n",
            "dtypes: float64(10), int64(7), object(1)\n",
            "memory usage: 13.7+ MB\n"
          ]
        }
      ]
    },
    {
      "cell_type": "markdown",
      "source": [
        "## Validity Check\n",
        "\n",
        "I showed that the dataset is comprised of ~60% galaxies during the last homework, but I'll do it again here for continuity's sake."
      ],
      "metadata": {
        "id": "s9I0dyY8DSDy"
      }
    },
    {
      "cell_type": "code",
      "source": [
        "fig, ax = plt.subplots(figsize=(5,5))\n",
        "ax.pie(x=df.obj_type.value_counts(), \n",
        "       labels=df.obj_type.value_counts().index,\n",
        "       autopct='%1.1f%%')\n",
        "ax.set_title('Types')"
      ],
      "metadata": {
        "colab": {
          "base_uri": "https://localhost:8080/",
          "height": 337
        },
        "id": "8lQo7dbzDkHt",
        "outputId": "0be227ce-21a1-478e-dd9b-969583b05cc4"
      },
      "execution_count": 6,
      "outputs": [
        {
          "output_type": "execute_result",
          "data": {
            "text/plain": [
              "Text(0.5, 1.0, 'Types')"
            ]
          },
          "metadata": {},
          "execution_count": 6
        },
        {
          "output_type": "display_data",
          "data": {
            "text/plain": [
              "<Figure size 360x360 with 1 Axes>"
            ],
            "image/png": "[encoded data removed]"
          },
          "metadata": {}
        }
      ]
    },
    {
      "cell_type": "markdown",
      "source": [
        "# Data Processing"
      ],
      "metadata": {
        "id": "mmzmhlm5EBTS"
      }
    },
    {
      "cell_type": "markdown",
      "source": [
        "## IDS\n",
        "The columns {obj_ID, run_ID, rerun_ID, field_ID, spec_obj_ID} are all for use by those making the observations and are not properties of the objects themselves.\n",
        "\n",
        "## Equipment Data\n",
        "\n",
        "The columns {cam_col, plate, fiber_ID} are all recordings of how the data was captured, but are similarly not inherent to the object."
      ],
      "metadata": {
        "id": "z6uiXyzcEpHf"
      }
    },
    {
      "cell_type": "code",
      "source": [
        "df.drop([\"obj_ID\",\"run_ID\",\"rerun_ID\",\"field_ID\",\"spec_obj_ID\",\"cam_col\",\"plate\",\"fiber_ID\"],axis=1,inplace=True)\n",
        "df.describe()"
      ],
      "metadata": {
        "colab": {
          "base_uri": "https://localhost:8080/",
          "height": 364
        },
        "id": "SAOVzH9FEx20",
        "outputId": "3c5e1a73-a89c-4563-e425-8f7c548ca1b9"
      },
      "execution_count": 7,
      "outputs": [
        {
          "output_type": "execute_result",
          "data": {
            "text/plain": [
              "               alpha          delta              u              g  \\\n",
              "count  100000.000000  100000.000000  100000.000000  100000.000000   \n",
              "mean      177.629117      24.135305      21.980468      20.531387   \n",
              "std        96.502241      19.644665      31.769291      31.750292   \n",
              "min         0.005528     -18.785328   -9999.000000   -9999.000000   \n",
              "25%       127.518222       5.146771      20.352353      18.965230   \n",
              "50%       180.900700      23.645922      22.179135      21.099835   \n",
              "75%       233.895005      39.901550      23.687440      22.123767   \n",
              "max       359.999810      83.000519      32.781390      31.602240   \n",
              "\n",
              "                   r              i              z       redshift  \\\n",
              "count  100000.000000  100000.000000  100000.000000  100000.000000   \n",
              "mean       19.645762      19.084854      18.668810       0.576661   \n",
              "std         1.854760       1.757895      31.728152       0.730707   \n",
              "min         9.822070       9.469903   -9999.000000      -0.009971   \n",
              "25%        18.135828      17.732285      17.460677       0.054517   \n",
              "50%        20.125290      19.405145      19.004595       0.424173   \n",
              "75%        21.044785      20.396495      19.921120       0.704154   \n",
              "max        29.571860      32.141470      29.383740       7.011245   \n",
              "\n",
              "                 MJD  \n",
              "count  100000.000000  \n",
              "mean    55588.647500  \n",
              "std      1808.484233  \n",
              "min     51608.000000  \n",
              "25%     54234.000000  \n",
              "50%     55868.500000  \n",
              "75%     56777.000000  \n",
              "max     58932.000000  "
            ],
            "text/html": [
              "\n",
              "  <div id=\"df-5597b7f3-25e6-4b8a-ae46-ead5fa0547c2\">\n",
              "    <div class=\"colab-df-container\">\n",
              "      <div>\n",
              "<style scoped>\n",
              "    .dataframe tbody tr th:only-of-type {\n",
              "        vertical-align: middle;\n",
              "    }\n",
              "\n",
              "    .dataframe tbody tr th {\n",
              "        vertical-align: top;\n",
              "    }\n",
              "\n",
              "    .dataframe thead th {\n",
              "        text-align: right;\n",
              "    }\n",
              "</style>\n",
              "<table border=\"1\" class=\"dataframe\">\n",
              "  <thead>\n",
              "    <tr style=\"text-align: right;\">\n",
              "      <th></th>\n",
              "      <th>alpha</th>\n",
              "      <th>delta</th>\n",
              "      <th>u</th>\n",
              "      <th>g</th>\n",
              "      <th>r</th>\n",
              "      <th>i</th>\n",
              "      <th>z</th>\n",
              "      <th>redshift</th>\n",
              "      <th>MJD</th>\n",
              "    </tr>\n",
              "  </thead>\n",
              "  <tbody>\n",
              "    <tr>\n",
              "      <th>count</th>\n",
              "      <td>100000.000000</td>\n",
              "      <td>100000.000000</td>\n",
              "      <td>100000.000000</td>\n",
              "      <td>100000.000000</td>\n",
              "      <td>100000.000000</td>\n",
              "      <td>100000.000000</td>\n",
              "      <td>100000.000000</td>\n",
              "      <td>100000.000000</td>\n",
              "      <td>100000.000000</td>\n",
              "    </tr>\n",
              "    <tr>\n",
              "      <th>mean</th>\n",
              "      <td>177.629117</td>\n",
              "      <td>24.135305</td>\n",
              "      <td>21.980468</td>\n",
              "      <td>20.531387</td>\n",
              "      <td>19.645762</td>\n",
              "      <td>19.084854</td>\n",
              "      <td>18.668810</td>\n",
              "      <td>0.576661</td>\n",
              "      <td>55588.647500</td>\n",
              "    </tr>\n",
              "    <tr>\n",
              "      <th>std</th>\n",
              "      <td>96.502241</td>\n",
              "      <td>19.644665</td>\n",
              "      <td>31.769291</td>\n",
              "      <td>31.750292</td>\n",
              "      <td>1.854760</td>\n",
              "      <td>1.757895</td>\n",
              "      <td>31.728152</td>\n",
              "      <td>0.730707</td>\n",
              "      <td>1808.484233</td>\n",
              "    </tr>\n",
              "    <tr>\n",
              "      <th>min</th>\n",
              "      <td>0.005528</td>\n",
              "      <td>-18.785328</td>\n",
              "      <td>-9999.000000</td>\n",
              "      <td>-9999.000000</td>\n",
              "      <td>9.822070</td>\n",
              "      <td>9.469903</td>\n",
              "      <td>-9999.000000</td>\n",
              "      <td>-0.009971</td>\n",
              "      <td>51608.000000</td>\n",
              "    </tr>\n",
              "    <tr>\n",
              "      <th>25%</th>\n",
              "      <td>127.518222</td>\n",
              "      <td>5.146771</td>\n",
              "      <td>20.352353</td>\n",
              "      <td>18.965230</td>\n",
              "      <td>18.135828</td>\n",
              "      <td>17.732285</td>\n",
              "      <td>17.460677</td>\n",
              "      <td>0.054517</td>\n",
              "      <td>54234.000000</td>\n",
              "    </tr>\n",
              "    <tr>\n",
              "      <th>50%</th>\n",
              "      <td>180.900700</td>\n",
              "      <td>23.645922</td>\n",
              "      <td>22.179135</td>\n",
              "      <td>21.099835</td>\n",
              "      <td>20.125290</td>\n",
              "      <td>19.405145</td>\n",
              "      <td>19.004595</td>\n",
              "      <td>0.424173</td>\n",
              "      <td>55868.500000</td>\n",
              "    </tr>\n",
              "    <tr>\n",
              "      <th>75%</th>\n",
              "      <td>233.895005</td>\n",
              "      <td>39.901550</td>\n",
              "      <td>23.687440</td>\n",
              "      <td>22.123767</td>\n",
              "      <td>21.044785</td>\n",
              "      <td>20.396495</td>\n",
              "      <td>19.921120</td>\n",
              "      <td>0.704154</td>\n",
              "      <td>56777.000000</td>\n",
              "    </tr>\n",
              "    <tr>\n",
              "      <th>max</th>\n",
              "      <td>359.999810</td>\n",
              "      <td>83.000519</td>\n",
              "      <td>32.781390</td>\n",
              "      <td>31.602240</td>\n",
              "      <td>29.571860</td>\n",
              "      <td>32.141470</td>\n",
              "      <td>29.383740</td>\n",
              "      <td>7.011245</td>\n",
              "      <td>58932.000000</td>\n",
              "    </tr>\n",
              "  </tbody>\n",
              "</table>\n",
              "</div>\n",
              "      <button class=\"colab-df-convert\" onclick=\"convertToInteractive('df-5597b7f3-25e6-4b8a-ae46-ead5fa0547c2')\"\n",
              "              title=\"Convert this dataframe to an interactive table.\"\n",
              "              style=\"display:none;\">\n",
              "        \n",
              "  <svg xmlns=\"http://www.w3.org/2000/svg\" height=\"24px\"viewBox=\"0 0 24 24\"\n",
              "       width=\"24px\">\n",
              "    <path d=\"M0 0h24v24H0V0z\" fill=\"none\"/>\n",
              "    <path d=\"M18.56 5.44l.94 2.06.94-2.06 2.06-.94-2.06-.94-.94-2.06-.94 2.06-2.06.94zm-11 1L8.5 8.5l.94-2.06 2.06-.94-2.06-.94L8.5 2.5l-.94 2.06-2.06.94zm10 10l.94 2.06.94-2.06 2.06-.94-2.06-.94-.94-2.06-.94 2.06-2.06.94z\"/><path d=\"M17.41 7.96l-1.37-1.37c-.4-.4-.92-.59-1.43-.59-.52 0-1.04.2-1.43.59L10.3 9.45l-7.72 7.72c-.78.78-.78 2.05 0 2.83L4 21.41c.39.39.9.59 1.41.59.51 0 1.02-.2 1.41-.59l7.78-7.78 2.81-2.81c.8-.78.8-2.07 0-2.86zM5.41 20L4 18.59l7.72-7.72 1.47 1.35L5.41 20z\"/>\n",
              "  </svg>\n",
              "      </button>\n",
              "      \n",
              "  <style>\n",
              "    .colab-df-container {\n",
              "      display:flex;\n",
              "      flex-wrap:wrap;\n",
              "      gap: 12px;\n",
              "    }\n",
              "\n",
              "    .colab-df-convert {\n",
              "      background-color: #E8F0FE;\n",
              "      border: none;\n",
              "      border-radius: 50%;\n",
              "      cursor: pointer;\n",
              "      display: none;\n",
              "      fill: #1967D2;\n",
              "      height: 32px;\n",
              "      padding: 0 0 0 0;\n",
              "      width: 32px;\n",
              "    }\n",
              "\n",
              "    .colab-df-convert:hover {\n",
              "      background-color: #E2EBFA;\n",
              "      box-shadow: 0px 1px 2px rgba(60, 64, 67, 0.3), 0px 1px 3px 1px rgba(60, 64, 67, 0.15);\n",
              "      fill: #174EA6;\n",
              "    }\n",
              "\n",
              "    [theme=dark] .colab-df-convert {\n",
              "      background-color: #3B4455;\n",
              "      fill: #D2E3FC;\n",
              "    }\n",
              "\n",
              "    [theme=dark] .colab-df-convert:hover {\n",
              "      background-color: #434B5C;\n",
              "      box-shadow: 0px 1px 3px 1px rgba(0, 0, 0, 0.15);\n",
              "      filter: drop-shadow(0px 1px 2px rgba(0, 0, 0, 0.3));\n",
              "      fill: #FFFFFF;\n",
              "    }\n",
              "  </style>\n",
              "\n",
              "      <script>\n",
              "        const buttonEl =\n",
              "          document.querySelector('#df-5597b7f3-25e6-4b8a-ae46-ead5fa0547c2 button.colab-df-convert');\n",
              "        buttonEl.style.display =\n",
              "          google.colab.kernel.accessAllowed ? 'block' : 'none';\n",
              "\n",
              "        async function convertToInteractive(key) {\n",
              "          const element = document.querySelector('#df-5597b7f3-25e6-4b8a-ae46-ead5fa0547c2');\n",
              "          const dataTable =\n",
              "            await google.colab.kernel.invokeFunction('convertToInteractive',\n",
              "                                                     [key], {});\n",
              "          if (!dataTable) return;\n",
              "\n",
              "          const docLinkHtml = 'Like what you see? Visit the ' +\n",
              "            '<a target=\"_blank\" href=https://colab.research.google.com/notebooks/data_table.ipynb>data table notebook</a>'\n",
              "            + ' to learn more about interactive tables.';\n",
              "          element.innerHTML = '';\n",
              "          dataTable['output_type'] = 'display_data';\n",
              "          await google.colab.output.renderOutput(dataTable, element);\n",
              "          const docLink = document.createElement('div');\n",
              "          docLink.innerHTML = docLinkHtml;\n",
              "          element.appendChild(docLink);\n",
              "        }\n",
              "      </script>\n",
              "    </div>\n",
              "  </div>\n",
              "  "
            ]
          },
          "metadata": {},
          "execution_count": 7
        }
      ]
    },
    {
      "cell_type": "markdown",
      "source": [
        "## N/A Check"
      ],
      "metadata": {
        "id": "Kt520pJZFW-5"
      }
    },
    {
      "cell_type": "code",
      "source": [
        "# Dropping the min vals from the u,g,z columns\n",
        "df = df[df.u > -9999.0]\n",
        "df.describe()"
      ],
      "metadata": {
        "colab": {
          "base_uri": "https://localhost:8080/",
          "height": 364
        },
        "id": "N0j9JSazF0ri",
        "outputId": "23c48dee-6ff7-4967-9fde-aca00020e480"
      },
      "execution_count": 8,
      "outputs": [
        {
          "output_type": "execute_result",
          "data": {
            "text/plain": [
              "              alpha         delta             u             g             r  \\\n",
              "count  99999.000000  99999.000000  99999.000000  99999.000000  99999.000000   \n",
              "mean     177.628653     24.135552     22.080679     20.631583     19.645777   \n",
              "std       96.502612     19.644608      2.251068      2.037384      1.854763   \n",
              "min        0.005528    -18.785328     10.996230     10.498200      9.822070   \n",
              "25%      127.517698      5.147477     20.352410     18.965240     18.135795   \n",
              "50%      180.900527     23.646462     22.179140     21.099930     20.125310   \n",
              "75%      233.895005     39.901582     23.687480     22.123775     21.044790   \n",
              "max      359.999810     83.000519     32.781390     31.602240     29.571860   \n",
              "\n",
              "                  i             z      redshift           MJD  \n",
              "count  99999.000000  99999.000000  99999.000000  99999.000000  \n",
              "mean      19.084865     18.768988      0.576667  55588.653687  \n",
              "std        1.757900      1.765982      0.730709   1808.492217  \n",
              "min        9.469903      9.612333     -0.009971  51608.000000  \n",
              "25%       17.732280     17.460830      0.054522  54234.000000  \n",
              "50%       19.405150     19.004600      0.424176  55869.000000  \n",
              "75%       20.396510     19.921120      0.704172  56777.000000  \n",
              "max       32.141470     29.383740      7.011245  58932.000000  "
            ],
            "text/html": [
              "\n",
              "  <div id=\"df-c1902834-6108-44b6-a2e7-2e0a1cdf59e4\">\n",
              "    <div class=\"colab-df-container\">\n",
              "      <div>\n",
              "<style scoped>\n",
              "    .dataframe tbody tr th:only-of-type {\n",
              "        vertical-align: middle;\n",
              "    }\n",
              "\n",
              "    .dataframe tbody tr th {\n",
              "        vertical-align: top;\n",
              "    }\n",
              "\n",
              "    .dataframe thead th {\n",
              "        text-align: right;\n",
              "    }\n",
              "</style>\n",
              "<table border=\"1\" class=\"dataframe\">\n",
              "  <thead>\n",
              "    <tr style=\"text-align: right;\">\n",
              "      <th></th>\n",
              "      <th>alpha</th>\n",
              "      <th>delta</th>\n",
              "      <th>u</th>\n",
              "      <th>g</th>\n",
              "      <th>r</th>\n",
              "      <th>i</th>\n",
              "      <th>z</th>\n",
              "      <th>redshift</th>\n",
              "      <th>MJD</th>\n",
              "    </tr>\n",
              "  </thead>\n",
              "  <tbody>\n",
              "    <tr>\n",
              "      <th>count</th>\n",
              "      <td>99999.000000</td>\n",
              "      <td>99999.000000</td>\n",
              "      <td>99999.000000</td>\n",
              "      <td>99999.000000</td>\n",
              "      <td>99999.000000</td>\n",
              "      <td>99999.000000</td>\n",
              "      <td>99999.000000</td>\n",
              "      <td>99999.000000</td>\n",
              "      <td>99999.000000</td>\n",
              "    </tr>\n",
              "    <tr>\n",
              "      <th>mean</th>\n",
              "      <td>177.628653</td>\n",
              "      <td>24.135552</td>\n",
              "      <td>22.080679</td>\n",
              "      <td>20.631583</td>\n",
              "      <td>19.645777</td>\n",
              "      <td>19.084865</td>\n",
              "      <td>18.768988</td>\n",
              "      <td>0.576667</td>\n",
              "      <td>55588.653687</td>\n",
              "    </tr>\n",
              "    <tr>\n",
              "      <th>std</th>\n",
              "      <td>96.502612</td>\n",
              "      <td>19.644608</td>\n",
              "      <td>2.251068</td>\n",
              "      <td>2.037384</td>\n",
              "      <td>1.854763</td>\n",
              "      <td>1.757900</td>\n",
              "      <td>1.765982</td>\n",
              "      <td>0.730709</td>\n",
              "      <td>1808.492217</td>\n",
              "    </tr>\n",
              "    <tr>\n",
              "      <th>min</th>\n",
              "      <td>0.005528</td>\n",
              "      <td>-18.785328</td>\n",
              "      <td>10.996230</td>\n",
              "      <td>10.498200</td>\n",
              "      <td>9.822070</td>\n",
              "      <td>9.469903</td>\n",
              "      <td>9.612333</td>\n",
              "      <td>-0.009971</td>\n",
              "      <td>51608.000000</td>\n",
              "    </tr>\n",
              "    <tr>\n",
              "      <th>25%</th>\n",
              "      <td>127.517698</td>\n",
              "      <td>5.147477</td>\n",
              "      <td>20.352410</td>\n",
              "      <td>18.965240</td>\n",
              "      <td>18.135795</td>\n",
              "      <td>17.732280</td>\n",
              "      <td>17.460830</td>\n",
              "      <td>0.054522</td>\n",
              "      <td>54234.000000</td>\n",
              "    </tr>\n",
              "    <tr>\n",
              "      <th>50%</th>\n",
              "      <td>180.900527</td>\n",
              "      <td>23.646462</td>\n",
              "      <td>22.179140</td>\n",
              "      <td>21.099930</td>\n",
              "      <td>20.125310</td>\n",
              "      <td>19.405150</td>\n",
              "      <td>19.004600</td>\n",
              "      <td>0.424176</td>\n",
              "      <td>55869.000000</td>\n",
              "    </tr>\n",
              "    <tr>\n",
              "      <th>75%</th>\n",
              "      <td>233.895005</td>\n",
              "      <td>39.901582</td>\n",
              "      <td>23.687480</td>\n",
              "      <td>22.123775</td>\n",
              "      <td>21.044790</td>\n",
              "      <td>20.396510</td>\n",
              "      <td>19.921120</td>\n",
              "      <td>0.704172</td>\n",
              "      <td>56777.000000</td>\n",
              "    </tr>\n",
              "    <tr>\n",
              "      <th>max</th>\n",
              "      <td>359.999810</td>\n",
              "      <td>83.000519</td>\n",
              "      <td>32.781390</td>\n",
              "      <td>31.602240</td>\n",
              "      <td>29.571860</td>\n",
              "      <td>32.141470</td>\n",
              "      <td>29.383740</td>\n",
              "      <td>7.011245</td>\n",
              "      <td>58932.000000</td>\n",
              "    </tr>\n",
              "  </tbody>\n",
              "</table>\n",
              "</div>\n",
              "      <button class=\"colab-df-convert\" onclick=\"convertToInteractive('df-c1902834-6108-44b6-a2e7-2e0a1cdf59e4')\"\n",
              "              title=\"Convert this dataframe to an interactive table.\"\n",
              "              style=\"display:none;\">\n",
              "        \n",
              "  <svg xmlns=\"http://www.w3.org/2000/svg\" height=\"24px\"viewBox=\"0 0 24 24\"\n",
              "       width=\"24px\">\n",
              "    <path d=\"M0 0h24v24H0V0z\" fill=\"none\"/>\n",
              "    <path d=\"M18.56 5.44l.94 2.06.94-2.06 2.06-.94-2.06-.94-.94-2.06-.94 2.06-2.06.94zm-11 1L8.5 8.5l.94-2.06 2.06-.94-2.06-.94L8.5 2.5l-.94 2.06-2.06.94zm10 10l.94 2.06.94-2.06 2.06-.94-2.06-.94-.94-2.06-.94 2.06-2.06.94z\"/><path d=\"M17.41 7.96l-1.37-1.37c-.4-.4-.92-.59-1.43-.59-.52 0-1.04.2-1.43.59L10.3 9.45l-7.72 7.72c-.78.78-.78 2.05 0 2.83L4 21.41c.39.39.9.59 1.41.59.51 0 1.02-.2 1.41-.59l7.78-7.78 2.81-2.81c.8-.78.8-2.07 0-2.86zM5.41 20L4 18.59l7.72-7.72 1.47 1.35L5.41 20z\"/>\n",
              "  </svg>\n",
              "      </button>\n",
              "      \n",
              "  <style>\n",
              "    .colab-df-container {\n",
              "      display:flex;\n",
              "      flex-wrap:wrap;\n",
              "      gap: 12px;\n",
              "    }\n",
              "\n",
              "    .colab-df-convert {\n",
              "      background-color: #E8F0FE;\n",
              "      border: none;\n",
              "      border-radius: 50%;\n",
              "      cursor: pointer;\n",
              "      display: none;\n",
              "      fill: #1967D2;\n",
              "      height: 32px;\n",
              "      padding: 0 0 0 0;\n",
              "      width: 32px;\n",
              "    }\n",
              "\n",
              "    .colab-df-convert:hover {\n",
              "      background-color: #E2EBFA;\n",
              "      box-shadow: 0px 1px 2px rgba(60, 64, 67, 0.3), 0px 1px 3px 1px rgba(60, 64, 67, 0.15);\n",
              "      fill: #174EA6;\n",
              "    }\n",
              "\n",
              "    [theme=dark] .colab-df-convert {\n",
              "      background-color: #3B4455;\n",
              "      fill: #D2E3FC;\n",
              "    }\n",
              "\n",
              "    [theme=dark] .colab-df-convert:hover {\n",
              "      background-color: #434B5C;\n",
              "      box-shadow: 0px 1px 3px 1px rgba(0, 0, 0, 0.15);\n",
              "      filter: drop-shadow(0px 1px 2px rgba(0, 0, 0, 0.3));\n",
              "      fill: #FFFFFF;\n",
              "    }\n",
              "  </style>\n",
              "\n",
              "      <script>\n",
              "        const buttonEl =\n",
              "          document.querySelector('#df-c1902834-6108-44b6-a2e7-2e0a1cdf59e4 button.colab-df-convert');\n",
              "        buttonEl.style.display =\n",
              "          google.colab.kernel.accessAllowed ? 'block' : 'none';\n",
              "\n",
              "        async function convertToInteractive(key) {\n",
              "          const element = document.querySelector('#df-c1902834-6108-44b6-a2e7-2e0a1cdf59e4');\n",
              "          const dataTable =\n",
              "            await google.colab.kernel.invokeFunction('convertToInteractive',\n",
              "                                                     [key], {});\n",
              "          if (!dataTable) return;\n",
              "\n",
              "          const docLinkHtml = 'Like what you see? Visit the ' +\n",
              "            '<a target=\"_blank\" href=https://colab.research.google.com/notebooks/data_table.ipynb>data table notebook</a>'\n",
              "            + ' to learn more about interactive tables.';\n",
              "          element.innerHTML = '';\n",
              "          dataTable['output_type'] = 'display_data';\n",
              "          await google.colab.output.renderOutput(dataTable, element);\n",
              "          const docLink = document.createElement('div');\n",
              "          docLink.innerHTML = docLinkHtml;\n",
              "          element.appendChild(docLink);\n",
              "        }\n",
              "      </script>\n",
              "    </div>\n",
              "  </div>\n",
              "  "
            ]
          },
          "metadata": {},
          "execution_count": 8
        }
      ]
    },
    {
      "cell_type": "code",
      "source": [
        "df.isna()"
      ],
      "metadata": {
        "colab": {
          "base_uri": "https://localhost:8080/",
          "height": 424
        },
        "id": "nbu2aGnZFbcq",
        "outputId": "7a4355e0-2992-44ef-f0a7-8538f2bc4dad"
      },
      "execution_count": 9,
      "outputs": [
        {
          "output_type": "execute_result",
          "data": {
            "text/plain": [
              "       alpha  delta      u      g      r      i      z  redshift    MJD  \\\n",
              "0      False  False  False  False  False  False  False     False  False   \n",
              "1      False  False  False  False  False  False  False     False  False   \n",
              "2      False  False  False  False  False  False  False     False  False   \n",
              "3      False  False  False  False  False  False  False     False  False   \n",
              "4      False  False  False  False  False  False  False     False  False   \n",
              "...      ...    ...    ...    ...    ...    ...    ...       ...    ...   \n",
              "99995  False  False  False  False  False  False  False     False  False   \n",
              "99996  False  False  False  False  False  False  False     False  False   \n",
              "99997  False  False  False  False  False  False  False     False  False   \n",
              "99998  False  False  False  False  False  False  False     False  False   \n",
              "99999  False  False  False  False  False  False  False     False  False   \n",
              "\n",
              "       obj_type  \n",
              "0         False  \n",
              "1         False  \n",
              "2         False  \n",
              "3         False  \n",
              "4         False  \n",
              "...         ...  \n",
              "99995     False  \n",
              "99996     False  \n",
              "99997     False  \n",
              "99998     False  \n",
              "99999     False  \n",
              "\n",
              "[99999 rows x 10 columns]"
            ],
            "text/html": [
              "\n",
              "  <div id=\"df-298bdf87-db63-4c8f-bc90-a579646925d1\">\n",
              "    <div class=\"colab-df-container\">\n",
              "      <div>\n",
              "<style scoped>\n",
              "    .dataframe tbody tr th:only-of-type {\n",
              "        vertical-align: middle;\n",
              "    }\n",
              "\n",
              "    .dataframe tbody tr th {\n",
              "        vertical-align: top;\n",
              "    }\n",
              "\n",
              "    .dataframe thead th {\n",
              "        text-align: right;\n",
              "    }\n",
              "</style>\n",
              "<table border=\"1\" class=\"dataframe\">\n",
              "  <thead>\n",
              "    <tr style=\"text-align: right;\">\n",
              "      <th></th>\n",
              "      <th>alpha</th>\n",
              "      <th>delta</th>\n",
              "      <th>u</th>\n",
              "      <th>g</th>\n",
              "      <th>r</th>\n",
              "      <th>i</th>\n",
              "      <th>z</th>\n",
              "      <th>redshift</th>\n",
              "      <th>MJD</th>\n",
              "      <th>obj_type</th>\n",
              "    </tr>\n",
              "  </thead>\n",
              "  <tbody>\n",
              "    <tr>\n",
              "      <th>0</th>\n",
              "      <td>False</td>\n",
              "      <td>False</td>\n",
              "      <td>False</td>\n",
              "      <td>False</td>\n",
              "      <td>False</td>\n",
              "      <td>False</td>\n",
              "      <td>False</td>\n",
              "      <td>False</td>\n",
              "      <td>False</td>\n",
              "      <td>False</td>\n",
              "    </tr>\n",
              "    <tr>\n",
              "      <th>1</th>\n",
              "      <td>False</td>\n",
              "      <td>False</td>\n",
              "      <td>False</td>\n",
              "      <td>False</td>\n",
              "      <td>False</td>\n",
              "      <td>False</td>\n",
              "      <td>False</td>\n",
              "      <td>False</td>\n",
              "      <td>False</td>\n",
              "      <td>False</td>\n",
              "    </tr>\n",
              "    <tr>\n",
              "      <th>2</th>\n",
              "      <td>False</td>\n",
              "      <td>False</td>\n",
              "      <td>False</td>\n",
              "      <td>False</td>\n",
              "      <td>False</td>\n",
              "      <td>False</td>\n",
              "      <td>False</td>\n",
              "      <td>False</td>\n",
              "      <td>False</td>\n",
              "      <td>False</td>\n",
              "    </tr>\n",
              "    <tr>\n",
              "      <th>3</th>\n",
              "      <td>False</td>\n",
              "      <td>False</td>\n",
              "      <td>False</td>\n",
              "      <td>False</td>\n",
              "      <td>False</td>\n",
              "      <td>False</td>\n",
              "      <td>False</td>\n",
              "      <td>False</td>\n",
              "      <td>False</td>\n",
              "      <td>False</td>\n",
              "    </tr>\n",
              "    <tr>\n",
              "      <th>4</th>\n",
              "      <td>False</td>\n",
              "      <td>False</td>\n",
              "      <td>False</td>\n",
              "      <td>False</td>\n",
              "      <td>False</td>\n",
              "      <td>False</td>\n",
              "      <td>False</td>\n",
              "      <td>False</td>\n",
              "      <td>False</td>\n",
              "      <td>False</td>\n",
              "    </tr>\n",
              "    <tr>\n",
              "      <th>...</th>\n",
              "      <td>...</td>\n",
              "      <td>...</td>\n",
              "      <td>...</td>\n",
              "      <td>...</td>\n",
              "      <td>...</td>\n",
              "      <td>...</td>\n",
              "      <td>...</td>\n",
              "      <td>...</td>\n",
              "      <td>...</td>\n",
              "      <td>...</td>\n",
              "    </tr>\n",
              "    <tr>\n",
              "      <th>99995</th>\n",
              "      <td>False</td>\n",
              "      <td>False</td>\n",
              "      <td>False</td>\n",
              "      <td>False</td>\n",
              "      <td>False</td>\n",
              "      <td>False</td>\n",
              "      <td>False</td>\n",
              "      <td>False</td>\n",
              "      <td>False</td>\n",
              "      <td>False</td>\n",
              "    </tr>\n",
              "    <tr>\n",
              "      <th>99996</th>\n",
              "      <td>False</td>\n",
              "      <td>False</td>\n",
              "      <td>False</td>\n",
              "      <td>False</td>\n",
              "      <td>False</td>\n",
              "      <td>False</td>\n",
              "      <td>False</td>\n",
              "      <td>False</td>\n",
              "      <td>False</td>\n",
              "      <td>False</td>\n",
              "    </tr>\n",
              "    <tr>\n",
              "      <th>99997</th>\n",
              "      <td>False</td>\n",
              "      <td>False</td>\n",
              "      <td>False</td>\n",
              "      <td>False</td>\n",
              "      <td>False</td>\n",
              "      <td>False</td>\n",
              "      <td>False</td>\n",
              "      <td>False</td>\n",
              "      <td>False</td>\n",
              "      <td>False</td>\n",
              "    </tr>\n",
              "    <tr>\n",
              "      <th>99998</th>\n",
              "      <td>False</td>\n",
              "      <td>False</td>\n",
              "      <td>False</td>\n",
              "      <td>False</td>\n",
              "      <td>False</td>\n",
              "      <td>False</td>\n",
              "      <td>False</td>\n",
              "      <td>False</td>\n",
              "      <td>False</td>\n",
              "      <td>False</td>\n",
              "    </tr>\n",
              "    <tr>\n",
              "      <th>99999</th>\n",
              "      <td>False</td>\n",
              "      <td>False</td>\n",
              "      <td>False</td>\n",
              "      <td>False</td>\n",
              "      <td>False</td>\n",
              "      <td>False</td>\n",
              "      <td>False</td>\n",
              "      <td>False</td>\n",
              "      <td>False</td>\n",
              "      <td>False</td>\n",
              "    </tr>\n",
              "  </tbody>\n",
              "</table>\n",
              "<p>99999 rows × 10 columns</p>\n",
              "</div>\n",
              "      <button class=\"colab-df-convert\" onclick=\"convertToInteractive('df-298bdf87-db63-4c8f-bc90-a579646925d1')\"\n",
              "              title=\"Convert this dataframe to an interactive table.\"\n",
              "              style=\"display:none;\">\n",
              "        \n",
              "  <svg xmlns=\"http://www.w3.org/2000/svg\" height=\"24px\"viewBox=\"0 0 24 24\"\n",
              "       width=\"24px\">\n",
              "    <path d=\"M0 0h24v24H0V0z\" fill=\"none\"/>\n",
              "    <path d=\"M18.56 5.44l.94 2.06.94-2.06 2.06-.94-2.06-.94-.94-2.06-.94 2.06-2.06.94zm-11 1L8.5 8.5l.94-2.06 2.06-.94-2.06-.94L8.5 2.5l-.94 2.06-2.06.94zm10 10l.94 2.06.94-2.06 2.06-.94-2.06-.94-.94-2.06-.94 2.06-2.06.94z\"/><path d=\"M17.41 7.96l-1.37-1.37c-.4-.4-.92-.59-1.43-.59-.52 0-1.04.2-1.43.59L10.3 9.45l-7.72 7.72c-.78.78-.78 2.05 0 2.83L4 21.41c.39.39.9.59 1.41.59.51 0 1.02-.2 1.41-.59l7.78-7.78 2.81-2.81c.8-.78.8-2.07 0-2.86zM5.41 20L4 18.59l7.72-7.72 1.47 1.35L5.41 20z\"/>\n",
              "  </svg>\n",
              "      </button>\n",
              "      \n",
              "  <style>\n",
              "    .colab-df-container {\n",
              "      display:flex;\n",
              "      flex-wrap:wrap;\n",
              "      gap: 12px;\n",
              "    }\n",
              "\n",
              "    .colab-df-convert {\n",
              "      background-color: #E8F0FE;\n",
              "      border: none;\n",
              "      border-radius: 50%;\n",
              "      cursor: pointer;\n",
              "      display: none;\n",
              "      fill: #1967D2;\n",
              "      height: 32px;\n",
              "      padding: 0 0 0 0;\n",
              "      width: 32px;\n",
              "    }\n",
              "\n",
              "    .colab-df-convert:hover {\n",
              "      background-color: #E2EBFA;\n",
              "      box-shadow: 0px 1px 2px rgba(60, 64, 67, 0.3), 0px 1px 3px 1px rgba(60, 64, 67, 0.15);\n",
              "      fill: #174EA6;\n",
              "    }\n",
              "\n",
              "    [theme=dark] .colab-df-convert {\n",
              "      background-color: #3B4455;\n",
              "      fill: #D2E3FC;\n",
              "    }\n",
              "\n",
              "    [theme=dark] .colab-df-convert:hover {\n",
              "      background-color: #434B5C;\n",
              "      box-shadow: 0px 1px 3px 1px rgba(0, 0, 0, 0.15);\n",
              "      filter: drop-shadow(0px 1px 2px rgba(0, 0, 0, 0.3));\n",
              "      fill: #FFFFFF;\n",
              "    }\n",
              "  </style>\n",
              "\n",
              "      <script>\n",
              "        const buttonEl =\n",
              "          document.querySelector('#df-298bdf87-db63-4c8f-bc90-a579646925d1 button.colab-df-convert');\n",
              "        buttonEl.style.display =\n",
              "          google.colab.kernel.accessAllowed ? 'block' : 'none';\n",
              "\n",
              "        async function convertToInteractive(key) {\n",
              "          const element = document.querySelector('#df-298bdf87-db63-4c8f-bc90-a579646925d1');\n",
              "          const dataTable =\n",
              "            await google.colab.kernel.invokeFunction('convertToInteractive',\n",
              "                                                     [key], {});\n",
              "          if (!dataTable) return;\n",
              "\n",
              "          const docLinkHtml = 'Like what you see? Visit the ' +\n",
              "            '<a target=\"_blank\" href=https://colab.research.google.com/notebooks/data_table.ipynb>data table notebook</a>'\n",
              "            + ' to learn more about interactive tables.';\n",
              "          element.innerHTML = '';\n",
              "          dataTable['output_type'] = 'display_data';\n",
              "          await google.colab.output.renderOutput(dataTable, element);\n",
              "          const docLink = document.createElement('div');\n",
              "          docLink.innerHTML = docLinkHtml;\n",
              "          element.appendChild(docLink);\n",
              "        }\n",
              "      </script>\n",
              "    </div>\n",
              "  </div>\n",
              "  "
            ]
          },
          "metadata": {},
          "execution_count": 9
        }
      ]
    },
    {
      "cell_type": "markdown",
      "source": [
        "## isGalaxy\n",
        "I had to make a new boolean column for the truth data on whether or not a data point is a galaxy or not."
      ],
      "metadata": {
        "id": "Rm51sAeKG8L8"
      }
    },
    {
      "cell_type": "code",
      "source": [
        "df['isGalaxy'] = 0\n",
        "df.loc[df['obj_type'] == \"GALAXY\", 'isGalaxy'] = 1\n",
        "df.drop('obj_type',axis=1,inplace=True)\n",
        "df.describe()"
      ],
      "metadata": {
        "colab": {
          "base_uri": "https://localhost:8080/",
          "height": 364
        },
        "id": "fJB1dixUIRYr",
        "outputId": "33f594fa-79cc-42ff-b342-9b191deb8810"
      },
      "execution_count": 10,
      "outputs": [
        {
          "output_type": "execute_result",
          "data": {
            "text/plain": [
              "              alpha         delta             u             g             r  \\\n",
              "count  99999.000000  99999.000000  99999.000000  99999.000000  99999.000000   \n",
              "mean     177.628653     24.135552     22.080679     20.631583     19.645777   \n",
              "std       96.502612     19.644608      2.251068      2.037384      1.854763   \n",
              "min        0.005528    -18.785328     10.996230     10.498200      9.822070   \n",
              "25%      127.517698      5.147477     20.352410     18.965240     18.135795   \n",
              "50%      180.900527     23.646462     22.179140     21.099930     20.125310   \n",
              "75%      233.895005     39.901582     23.687480     22.123775     21.044790   \n",
              "max      359.999810     83.000519     32.781390     31.602240     29.571860   \n",
              "\n",
              "                  i             z      redshift           MJD      isGalaxy  \n",
              "count  99999.000000  99999.000000  99999.000000  99999.000000  99999.000000  \n",
              "mean      19.084865     18.768988      0.576667  55588.653687      0.594456  \n",
              "std        1.757900      1.765982      0.730709   1808.492217      0.490999  \n",
              "min        9.469903      9.612333     -0.009971  51608.000000      0.000000  \n",
              "25%       17.732280     17.460830      0.054522  54234.000000      0.000000  \n",
              "50%       19.405150     19.004600      0.424176  55869.000000      1.000000  \n",
              "75%       20.396510     19.921120      0.704172  56777.000000      1.000000  \n",
              "max       32.141470     29.383740      7.011245  58932.000000      1.000000  "
            ],
            "text/html": [
              "\n",
              "  <div id=\"df-e1e39a5b-5ba4-4f09-98e4-76207058a454\">\n",
              "    <div class=\"colab-df-container\">\n",
              "      <div>\n",
              "<style scoped>\n",
              "    .dataframe tbody tr th:only-of-type {\n",
              "        vertical-align: middle;\n",
              "    }\n",
              "\n",
              "    .dataframe tbody tr th {\n",
              "        vertical-align: top;\n",
              "    }\n",
              "\n",
              "    .dataframe thead th {\n",
              "        text-align: right;\n",
              "    }\n",
              "</style>\n",
              "<table border=\"1\" class=\"dataframe\">\n",
              "  <thead>\n",
              "    <tr style=\"text-align: right;\">\n",
              "      <th></th>\n",
              "      <th>alpha</th>\n",
              "      <th>delta</th>\n",
              "      <th>u</th>\n",
              "      <th>g</th>\n",
              "      <th>r</th>\n",
              "      <th>i</th>\n",
              "      <th>z</th>\n",
              "      <th>redshift</th>\n",
              "      <th>MJD</th>\n",
              "      <th>isGalaxy</th>\n",
              "    </tr>\n",
              "  </thead>\n",
              "  <tbody>\n",
              "    <tr>\n",
              "      <th>count</th>\n",
              "      <td>99999.000000</td>\n",
              "      <td>99999.000000</td>\n",
              "      <td>99999.000000</td>\n",
              "      <td>99999.000000</td>\n",
              "      <td>99999.000000</td>\n",
              "      <td>99999.000000</td>\n",
              "      <td>99999.000000</td>\n",
              "      <td>99999.000000</td>\n",
              "      <td>99999.000000</td>\n",
              "      <td>99999.000000</td>\n",
              "    </tr>\n",
              "    <tr>\n",
              "      <th>mean</th>\n",
              "      <td>177.628653</td>\n",
              "      <td>24.135552</td>\n",
              "      <td>22.080679</td>\n",
              "      <td>20.631583</td>\n",
              "      <td>19.645777</td>\n",
              "      <td>19.084865</td>\n",
              "      <td>18.768988</td>\n",
              "      <td>0.576667</td>\n",
              "      <td>55588.653687</td>\n",
              "      <td>0.594456</td>\n",
              "    </tr>\n",
              "    <tr>\n",
              "      <th>std</th>\n",
              "      <td>96.502612</td>\n",
              "      <td>19.644608</td>\n",
              "      <td>2.251068</td>\n",
              "      <td>2.037384</td>\n",
              "      <td>1.854763</td>\n",
              "      <td>1.757900</td>\n",
              "      <td>1.765982</td>\n",
              "      <td>0.730709</td>\n",
              "      <td>1808.492217</td>\n",
              "      <td>0.490999</td>\n",
              "    </tr>\n",
              "    <tr>\n",
              "      <th>min</th>\n",
              "      <td>0.005528</td>\n",
              "      <td>-18.785328</td>\n",
              "      <td>10.996230</td>\n",
              "      <td>10.498200</td>\n",
              "      <td>9.822070</td>\n",
              "      <td>9.469903</td>\n",
              "      <td>9.612333</td>\n",
              "      <td>-0.009971</td>\n",
              "      <td>51608.000000</td>\n",
              "      <td>0.000000</td>\n",
              "    </tr>\n",
              "    <tr>\n",
              "      <th>25%</th>\n",
              "      <td>127.517698</td>\n",
              "      <td>5.147477</td>\n",
              "      <td>20.352410</td>\n",
              "      <td>18.965240</td>\n",
              "      <td>18.135795</td>\n",
              "      <td>17.732280</td>\n",
              "      <td>17.460830</td>\n",
              "      <td>0.054522</td>\n",
              "      <td>54234.000000</td>\n",
              "      <td>0.000000</td>\n",
              "    </tr>\n",
              "    <tr>\n",
              "      <th>50%</th>\n",
              "      <td>180.900527</td>\n",
              "      <td>23.646462</td>\n",
              "      <td>22.179140</td>\n",
              "      <td>21.099930</td>\n",
              "      <td>20.125310</td>\n",
              "      <td>19.405150</td>\n",
              "      <td>19.004600</td>\n",
              "      <td>0.424176</td>\n",
              "      <td>55869.000000</td>\n",
              "      <td>1.000000</td>\n",
              "    </tr>\n",
              "    <tr>\n",
              "      <th>75%</th>\n",
              "      <td>233.895005</td>\n",
              "      <td>39.901582</td>\n",
              "      <td>23.687480</td>\n",
              "      <td>22.123775</td>\n",
              "      <td>21.044790</td>\n",
              "      <td>20.396510</td>\n",
              "      <td>19.921120</td>\n",
              "      <td>0.704172</td>\n",
              "      <td>56777.000000</td>\n",
              "      <td>1.000000</td>\n",
              "    </tr>\n",
              "    <tr>\n",
              "      <th>max</th>\n",
              "      <td>359.999810</td>\n",
              "      <td>83.000519</td>\n",
              "      <td>32.781390</td>\n",
              "      <td>31.602240</td>\n",
              "      <td>29.571860</td>\n",
              "      <td>32.141470</td>\n",
              "      <td>29.383740</td>\n",
              "      <td>7.011245</td>\n",
              "      <td>58932.000000</td>\n",
              "      <td>1.000000</td>\n",
              "    </tr>\n",
              "  </tbody>\n",
              "</table>\n",
              "</div>\n",
              "      <button class=\"colab-df-convert\" onclick=\"convertToInteractive('df-e1e39a5b-5ba4-4f09-98e4-76207058a454')\"\n",
              "              title=\"Convert this dataframe to an interactive table.\"\n",
              "              style=\"display:none;\">\n",
              "        \n",
              "  <svg xmlns=\"http://www.w3.org/2000/svg\" height=\"24px\"viewBox=\"0 0 24 24\"\n",
              "       width=\"24px\">\n",
              "    <path d=\"M0 0h24v24H0V0z\" fill=\"none\"/>\n",
              "    <path d=\"M18.56 5.44l.94 2.06.94-2.06 2.06-.94-2.06-.94-.94-2.06-.94 2.06-2.06.94zm-11 1L8.5 8.5l.94-2.06 2.06-.94-2.06-.94L8.5 2.5l-.94 2.06-2.06.94zm10 10l.94 2.06.94-2.06 2.06-.94-2.06-.94-.94-2.06-.94 2.06-2.06.94z\"/><path d=\"M17.41 7.96l-1.37-1.37c-.4-.4-.92-.59-1.43-.59-.52 0-1.04.2-1.43.59L10.3 9.45l-7.72 7.72c-.78.78-.78 2.05 0 2.83L4 21.41c.39.39.9.59 1.41.59.51 0 1.02-.2 1.41-.59l7.78-7.78 2.81-2.81c.8-.78.8-2.07 0-2.86zM5.41 20L4 18.59l7.72-7.72 1.47 1.35L5.41 20z\"/>\n",
              "  </svg>\n",
              "      </button>\n",
              "      \n",
              "  <style>\n",
              "    .colab-df-container {\n",
              "      display:flex;\n",
              "      flex-wrap:wrap;\n",
              "      gap: 12px;\n",
              "    }\n",
              "\n",
              "    .colab-df-convert {\n",
              "      background-color: #E8F0FE;\n",
              "      border: none;\n",
              "      border-radius: 50%;\n",
              "      cursor: pointer;\n",
              "      display: none;\n",
              "      fill: #1967D2;\n",
              "      height: 32px;\n",
              "      padding: 0 0 0 0;\n",
              "      width: 32px;\n",
              "    }\n",
              "\n",
              "    .colab-df-convert:hover {\n",
              "      background-color: #E2EBFA;\n",
              "      box-shadow: 0px 1px 2px rgba(60, 64, 67, 0.3), 0px 1px 3px 1px rgba(60, 64, 67, 0.15);\n",
              "      fill: #174EA6;\n",
              "    }\n",
              "\n",
              "    [theme=dark] .colab-df-convert {\n",
              "      background-color: #3B4455;\n",
              "      fill: #D2E3FC;\n",
              "    }\n",
              "\n",
              "    [theme=dark] .colab-df-convert:hover {\n",
              "      background-color: #434B5C;\n",
              "      box-shadow: 0px 1px 3px 1px rgba(0, 0, 0, 0.15);\n",
              "      filter: drop-shadow(0px 1px 2px rgba(0, 0, 0, 0.3));\n",
              "      fill: #FFFFFF;\n",
              "    }\n",
              "  </style>\n",
              "\n",
              "      <script>\n",
              "        const buttonEl =\n",
              "          document.querySelector('#df-e1e39a5b-5ba4-4f09-98e4-76207058a454 button.colab-df-convert');\n",
              "        buttonEl.style.display =\n",
              "          google.colab.kernel.accessAllowed ? 'block' : 'none';\n",
              "\n",
              "        async function convertToInteractive(key) {\n",
              "          const element = document.querySelector('#df-e1e39a5b-5ba4-4f09-98e4-76207058a454');\n",
              "          const dataTable =\n",
              "            await google.colab.kernel.invokeFunction('convertToInteractive',\n",
              "                                                     [key], {});\n",
              "          if (!dataTable) return;\n",
              "\n",
              "          const docLinkHtml = 'Like what you see? Visit the ' +\n",
              "            '<a target=\"_blank\" href=https://colab.research.google.com/notebooks/data_table.ipynb>data table notebook</a>'\n",
              "            + ' to learn more about interactive tables.';\n",
              "          element.innerHTML = '';\n",
              "          dataTable['output_type'] = 'display_data';\n",
              "          await google.colab.output.renderOutput(dataTable, element);\n",
              "          const docLink = document.createElement('div');\n",
              "          docLink.innerHTML = docLinkHtml;\n",
              "          element.appendChild(docLink);\n",
              "        }\n",
              "      </script>\n",
              "    </div>\n",
              "  </div>\n",
              "  "
            ]
          },
          "metadata": {},
          "execution_count": 10
        }
      ]
    },
    {
      "cell_type": "markdown",
      "source": [
        "# Correlation Check"
      ],
      "metadata": {
        "id": "KUsUSnEeI-JU"
      }
    },
    {
      "cell_type": "code",
      "source": [
        "fig, ax = plt.subplots(figsize=(10,8))\n",
        "sns.heatmap(df.corr().abs(),annot=False, ax=ax, cmap='rocket_r')"
      ],
      "metadata": {
        "colab": {
          "base_uri": "https://localhost:8080/",
          "height": 505
        },
        "id": "O3Wi85TnJBcM",
        "outputId": "34b7f211-c24c-4850-9403-d6f9108bcde0"
      },
      "execution_count": 11,
      "outputs": [
        {
          "output_type": "execute_result",
          "data": {
            "text/plain": [
              "<matplotlib.axes._subplots.AxesSubplot at 0x7f88397d66d0>"
            ]
          },
          "metadata": {},
          "execution_count": 11
        },
        {
          "output_type": "display_data",
          "data": {
            "text/plain": [
              "<Figure size 720x576 with 2 Axes>"
            ],
            "image/png": "[encoded data removed]"
          },
          "metadata": {
            "needs_background": "light"
          }
        }
      ]
    },
    {
      "cell_type": "code",
      "source": [
        "df.corr()['isGalaxy'].sort_values(ascending=False)"
      ],
      "metadata": {
        "colab": {
          "base_uri": "https://localhost:8080/"
        },
        "id": "TYiRSYYLJH1g",
        "outputId": "366e00fa-8656-493e-c930-907059871652"
      },
      "execution_count": 12,
      "outputs": [
        {
          "output_type": "execute_result",
          "data": {
            "text/plain": [
              "isGalaxy    1.000000\n",
              "u           0.272524\n",
              "g           0.163133\n",
              "alpha       0.004091\n",
              "r          -0.038007\n",
              "delta      -0.038312\n",
              "MJD        -0.110589\n",
              "i          -0.160388\n",
              "z          -0.219269\n",
              "redshift   -0.256938\n",
              "Name: isGalaxy, dtype: float64"
            ]
          },
          "metadata": {},
          "execution_count": 12
        }
      ]
    },
    {
      "cell_type": "markdown",
      "source": [
        "It's looking like the alpha and delta (Right Ascension and Declination) have no meaningful effect whatsoever on anything, least of all my target, so I suppose I might as well remove them from the inputs as well.\n",
        "\n",
        "After some testing, it appears that I still have too many unnecessary variables, and ended up dropping r and MJD as well."
      ],
      "metadata": {
        "id": "Zctyb1a8JONZ"
      }
    },
    {
      "cell_type": "code",
      "source": [
        "df.drop([\"alpha\",\"delta\",\"r\",\"MJD\"],axis=1,inplace=True)\n",
        "fig, ax = plt.subplots(figsize=(10,8))\n",
        "sns.heatmap(df.corr().abs(),annot=False, ax=ax, cmap='rocket_r')"
      ],
      "metadata": {
        "colab": {
          "base_uri": "https://localhost:8080/",
          "height": 505
        },
        "id": "e8d5fbMwJRGo",
        "outputId": "ba0af1ec-d2bb-49ad-ee98-d46ff1bcc54d"
      },
      "execution_count": 13,
      "outputs": [
        {
          "output_type": "execute_result",
          "data": {
            "text/plain": [
              "<matplotlib.axes._subplots.AxesSubplot at 0x7f8836a3b910>"
            ]
          },
          "metadata": {},
          "execution_count": 13
        },
        {
          "output_type": "display_data",
          "data": {
            "text/plain": [
              "<Figure size 720x576 with 2 Axes>"
            ],
            "image/png": "[encoded data removed]"
          },
          "metadata": {
            "needs_background": "light"
          }
        }
      ]
    },
    {
      "cell_type": "markdown",
      "source": [
        "# Partitioning the Data"
      ],
      "metadata": {
        "id": "tMAfNjd_JiQx"
      }
    },
    {
      "cell_type": "code",
      "source": [
        "# independent variables\n",
        "x = df.drop(['isGalaxy'],axis=1)\n",
        "# dependent/target\n",
        "y = df.isGalaxy\n",
        "\n",
        "# Separate Training, Validation and Test Data\n",
        "x_train, x_test, y_train, y_test = train_test_split(x, y, test_size=0.2, random_state=42)\n",
        "x_train, x_valid, y_train, y_valid = train_test_split(x_train, y_train, test_size=0.125, random_state=42)"
      ],
      "metadata": {
        "id": "lqtSX2rRJk37"
      },
      "execution_count": 14,
      "outputs": []
    },
    {
      "cell_type": "markdown",
      "source": [
        "# Feature Scaling\n",
        "\n",
        "I scaled the features using the maximum as the normalizer, as that seemed to make the most sense for the data I was working with."
      ],
      "metadata": {
        "id": "UtJENMZ3KGDG"
      }
    },
    {
      "cell_type": "code",
      "source": [
        "transformer = Normalizer(norm='max').fit(x)\n",
        "x_train = transformer.transform(x_train)\n",
        "x_test = transformer.transform(x_test)\n",
        "x_valid = transformer.transform(x_valid)"
      ],
      "metadata": {
        "id": "hWpb2PBBKH8Z"
      },
      "execution_count": 15,
      "outputs": []
    },
    {
      "cell_type": "markdown",
      "source": [
        "# Trees\n",
        "\n",
        "For this assignment, I am targeting a high accuracy rating. Since my dataset is fairly evenly distributed, and both positive and negative predictions are of equal importance/value, I find my desired outcome best expressed by the accuracy metric rather than precision or recall."
      ],
      "metadata": {
        "id": "LSAc7S-MMgPh"
      }
    },
    {
      "cell_type": "markdown",
      "source": [
        "I've set the random_state to 42, so as to better relate the effects of my modifications."
      ],
      "metadata": {
        "id": "ob60pY18T3Jk"
      }
    },
    {
      "cell_type": "code",
      "source": [
        "t.start()\n",
        "## Training\n",
        "dtc = DecisionTreeClassifier(random_state=42)\n",
        "dtc.fit(x_train,y_train)\n",
        "## Validation\n",
        "valid_score = cross_val_score(dtc, x_valid, y_valid, cv=10, scoring=\"accuracy\")\n",
        "print(\"The Accuracy of the Model with Cross Validation is: {:.3f}%\".format(valid_score.mean()*100))\n",
        "## Testing \n",
        "acc = accuracy_score(dtc.predict(x_test),y_test)\n",
        "print(\"The Accuracy of the Model on the Test Set is : {:.3f}%\".format(acc*100))\n",
        "CMD.from_estimator(dtc,x_test,y_test,display_labels=[\"Not Galaxy\",\"Galaxy\"])\n",
        "t.stop()\n",
        "print(\"TIME_TAKEN: {:.3f}s\".format(t.duration))"
      ],
      "metadata": {
        "colab": {
          "base_uri": "https://localhost:8080/",
          "height": 333
        },
        "id": "nhXdANo4QBAh",
        "outputId": "de541c87-0b36-4702-d1fa-d952f6c8bd60"
      },
      "execution_count": 16,
      "outputs": [
        {
          "output_type": "stream",
          "name": "stdout",
          "text": [
            "The Accuracy of the Model with Cross Validation is: 95.210%\n",
            "The Accuracy of the Model on the Test Set is : 95.575%\n",
            "TIME_TAKEN: 2.076s\n"
          ]
        },
        {
          "output_type": "display_data",
          "data": {
            "text/plain": [
              "<Figure size 432x288 with 2 Axes>"
            ],
            "image/png": "[encoded data removed]"
          },
          "metadata": {
            "needs_background": "light"
          }
        }
      ]
    },
    {
      "cell_type": "markdown",
      "source": [
        "Experimenting with random splits instead of best splits yields roughly the same outcome. The change in accuracy of the cross-validation appears to be approximately a 1% decrease, but I don't see that as being definitive enough to pass any judgement on it."
      ],
      "metadata": {
        "id": "fYxpBrgog2Bq"
      }
    },
    {
      "cell_type": "code",
      "source": [
        "## Training\n",
        "dtc = DecisionTreeClassifier(random_state=42,splitter=\"random\")\n",
        "dtc.fit(x_train,y_train)\n",
        "\n",
        "## Validation\n",
        "valid_score = cross_val_score(dtc, x_valid, y_valid, cv=10, scoring=\"accuracy\")\n",
        "print(\"The Accuracy of the Model with Cross Validation is: {:.3f}%\".format(valid_score.mean()*100))\n",
        "## Testing \n",
        "acc = accuracy_score(dtc.predict(x_test),y_test)\n",
        "print(\"The Accuracy of the Model on the Test Set is : {:.3f}%\".format(acc*100))\n",
        "CMD.from_estimator(dtc,x_test,y_test,display_labels=[\"Not Galaxy\",\"Galaxy\"])"
      ],
      "metadata": {
        "colab": {
          "base_uri": "https://localhost:8080/",
          "height": 333
        },
        "id": "yNUABbWUUT2x",
        "outputId": "2c06e0f9-1307-4789-b9ec-a786906e1805"
      },
      "execution_count": 17,
      "outputs": [
        {
          "output_type": "stream",
          "name": "stdout",
          "text": [
            "The Accuracy of the Model with Cross Validation is: 94.150%\n",
            "The Accuracy of the Model on the Test Set is : 94.860%\n"
          ]
        },
        {
          "output_type": "execute_result",
          "data": {
            "text/plain": [
              "<sklearn.metrics._plot.confusion_matrix.ConfusionMatrixDisplay at 0x7f8836998810>"
            ]
          },
          "metadata": {},
          "execution_count": 17
        },
        {
          "output_type": "display_data",
          "data": {
            "text/plain": [
              "<Figure size 432x288 with 2 Axes>"
            ],
            "image/png": "[encoded data removed]"
          },
          "metadata": {
            "needs_background": "light"
          }
        }
      ]
    },
    {
      "cell_type": "markdown",
      "source": [
        "I also tried changing up the criterion to use entropy rather than the gini index, which likewise yields very similar results."
      ],
      "metadata": {
        "id": "fbq802slhLF3"
      }
    },
    {
      "cell_type": "code",
      "source": [
        "## Training\n",
        "dtc = DecisionTreeClassifier(random_state=42,criterion=\"entropy\")\n",
        "dtc.fit(x_train,y_train)\n",
        "\n",
        "## Validation\n",
        "valid_score = cross_val_score(dtc, x_valid, y_valid, cv=10, scoring=\"accuracy\")\n",
        "print(\"The Accuracy of the Model with Cross Validation is: {:.3f}%\".format(valid_score.mean()*100))\n",
        "## Testing \n",
        "acc = accuracy_score(dtc.predict(x_test),y_test)\n",
        "print(\"The Accuracy of the Model on the Test Set is : {:.3f}%\".format(acc*100))\n",
        "CMD.from_estimator(dtc,x_test,y_test,display_labels=[\"Not Galaxy\",\"Galaxy\"])"
      ],
      "metadata": {
        "colab": {
          "base_uri": "https://localhost:8080/",
          "height": 333
        },
        "id": "JdTjk7Irg7jj",
        "outputId": "52742cbf-90a9-473e-a2b3-8b5222f96b84"
      },
      "execution_count": 18,
      "outputs": [
        {
          "output_type": "stream",
          "name": "stdout",
          "text": [
            "The Accuracy of the Model with Cross Validation is: 95.460%\n",
            "The Accuracy of the Model on the Test Set is : 95.605%\n"
          ]
        },
        {
          "output_type": "execute_result",
          "data": {
            "text/plain": [
              "<sklearn.metrics._plot.confusion_matrix.ConfusionMatrixDisplay at 0x7f8836998bd0>"
            ]
          },
          "metadata": {},
          "execution_count": 18
        },
        {
          "output_type": "display_data",
          "data": {
            "text/plain": [
              "<Figure size 432x288 with 2 Axes>"
            ],
            "image/png": "[encoded data removed]"
          },
          "metadata": {
            "needs_background": "light"
          }
        }
      ]
    },
    {
      "cell_type": "markdown",
      "source": [
        "## Testing Max_Depth\n",
        "\n",
        "I was interested in seeing how much of a difference varying the max_depth of the tree would yield."
      ],
      "metadata": {
        "id": "1LFQrZPrh-Jd"
      }
    },
    {
      "cell_type": "code",
      "source": [
        "err_valid = []\n",
        "m_depth = [x for x in range(1,31)]\n",
        "for i in range(1,31):\n",
        "  ## Training\n",
        "  dtc = DecisionTreeClassifier(random_state=42,max_depth=i)\n",
        "  dtc.fit(x_train,y_train)\n",
        "  ## Validation\n",
        "  valid_score = cross_val_score(dtc, x_valid, y_valid, cv=10, scoring=\"accuracy\")\n",
        "  err_valid.append(100-valid_score.mean()*100)\n",
        "\n",
        "plt.plot(m_depth,err_valid)\n",
        "plt.xlabel(\"Max_Depth\")\n",
        "plt.ylabel(\"Validation Error (%)\")\n",
        "plt.show()"
      ],
      "metadata": {
        "colab": {
          "base_uri": "https://localhost:8080/",
          "height": 280
        },
        "id": "ySMK_5vPiClt",
        "outputId": "c9672003-959e-41fd-d69a-75e8068b0932"
      },
      "execution_count": 19,
      "outputs": [
        {
          "output_type": "display_data",
          "data": {
            "text/plain": [
              "<Figure size 432x288 with 1 Axes>"
            ],
            "image/png": "[encoded data removed]"
          },
          "metadata": {
            "needs_background": "light"
          }
        }
      ]
    },
    {
      "cell_type": "markdown",
      "source": [
        "I'm seeing a minimization of error in cross validation at a Max_Depth of 5-6. It would appear to me that after that point, the model begins overfitting to the training data. With this in mind, I tested the model trained mwith a max_depth of 5."
      ],
      "metadata": {
        "id": "ocCEcR_h1hxP"
      }
    },
    {
      "cell_type": "code",
      "source": [
        "## Training\n",
        "dtc = DecisionTreeClassifier(random_state=42,max_depth=5)\n",
        "dtc.fit(x_train,y_train)\n",
        "## Validation\n",
        "valid_score = cross_val_score(dtc, x_valid, y_valid, cv=10, scoring=\"accuracy\")\n",
        "print(\"The Accuracy of the Model with Cross Validation is: {:.3f}%\".format(valid_score.mean()*100))\n",
        "## Testing \n",
        "acc = accuracy_score(dtc.predict(x_test),y_test)\n",
        "print(\"The Accuracy of the Model on the Test Set is : {:.3f}%\".format(acc*100))\n",
        "CMD.from_estimator(dtc,x_test,y_test,display_labels=[\"Not Galaxy\",\"Galaxy\"])"
      ],
      "metadata": {
        "colab": {
          "base_uri": "https://localhost:8080/",
          "height": 333
        },
        "id": "ptFU6dHO0rhN",
        "outputId": "02bb0a80-c27b-4f0c-f235-8058eaccb77f"
      },
      "execution_count": 20,
      "outputs": [
        {
          "output_type": "stream",
          "name": "stdout",
          "text": [
            "The Accuracy of the Model with Cross Validation is: 96.570%\n",
            "The Accuracy of the Model on the Test Set is : 96.505%\n"
          ]
        },
        {
          "output_type": "execute_result",
          "data": {
            "text/plain": [
              "<sklearn.metrics._plot.confusion_matrix.ConfusionMatrixDisplay at 0x7f8836860050>"
            ]
          },
          "metadata": {},
          "execution_count": 20
        },
        {
          "output_type": "display_data",
          "data": {
            "text/plain": [
              "<Figure size 432x288 with 2 Axes>"
            ],
            "image/png": "[encoded data removed]"
          },
          "metadata": {
            "needs_background": "light"
          }
        }
      ]
    },
    {
      "cell_type": "markdown",
      "source": [
        "While not a large change, setting a max_depth of 5 for the model seems to have yielded a decrease in the error of the cross validation score a little over 1%."
      ],
      "metadata": {
        "id": "Q4rWyR3WPpIl"
      }
    },
    {
      "cell_type": "markdown",
      "source": [
        "## Testing Min_Samples_Split"
      ],
      "metadata": {
        "id": "YIH_6wdljvwQ"
      }
    },
    {
      "cell_type": "code",
      "source": [
        "rng = 50\n",
        "err_valid = []\n",
        "m_depth = [x/float(rng) for x in range(1,rng)]\n",
        "for i in range(1,rng):\n",
        "  ## Training\n",
        "  dtc = DecisionTreeClassifier(random_state=42,min_samples_split=i/float(rng))\n",
        "  dtc.fit(x_train,y_train)\n",
        "  ## Validation\n",
        "  valid_score = cross_val_score(dtc, x_valid, y_valid, cv=10, scoring=\"accuracy\")\n",
        "  err_valid.append(100-valid_score.mean()*100)\n",
        "\n",
        "plt.plot(m_depth,err_valid)\n",
        "plt.xlabel(\"Min_Samples_Split\")\n",
        "plt.ylabel(\"Validation Error (%)\")\n",
        "plt.show()"
      ],
      "metadata": {
        "colab": {
          "base_uri": "https://localhost:8080/",
          "height": 280
        },
        "id": "buGhP-m7jzcx",
        "outputId": "a7fe9215-cdd8-4072-f433-1cddb402acb4"
      },
      "execution_count": 21,
      "outputs": [
        {
          "output_type": "display_data",
          "data": {
            "text/plain": [
              "<Figure size 432x288 with 1 Axes>"
            ],
            "image/png": "[encoded data removed]"
          },
          "metadata": {
            "needs_background": "light"
          }
        }
      ]
    },
    {
      "cell_type": "markdown",
      "source": [
        "I'm not seeing a minimization that I can make here. Maybe I should be trying even smaller values?"
      ],
      "metadata": {
        "id": "RXqADzao0zS9"
      }
    },
    {
      "cell_type": "code",
      "source": [
        "rng = 10\n",
        "err_valid = []\n",
        "m_depth = [x/float(rng*10) for x in range(1,rng)]\n",
        "for i in range(1,rng):\n",
        "  ## Training\n",
        "  dtc = DecisionTreeClassifier(random_state=42,min_samples_split=i/float(rng*10))\n",
        "  dtc.fit(x_train,y_train)\n",
        "  ## Validation\n",
        "  valid_score = cross_val_score(dtc, x_valid, y_valid, cv=10, scoring=\"accuracy\")\n",
        "  err_valid.append(100-valid_score.mean()*100)\n",
        "\n",
        "plt.plot(m_depth,err_valid)\n",
        "plt.xlabel(\"Min_Samples_Split\")\n",
        "plt.ylabel(\"Validation Error (%)\")\n",
        "plt.show()"
      ],
      "metadata": {
        "colab": {
          "base_uri": "https://localhost:8080/",
          "height": 280
        },
        "id": "_KZSO4NCQPll",
        "outputId": "c23e1faa-4a10-49e8-b861-a6c8c3ae6873"
      },
      "execution_count": 22,
      "outputs": [
        {
          "output_type": "display_data",
          "data": {
            "text/plain": [
              "<Figure size 432x288 with 1 Axes>"
            ],
            "image/png": "[encoded data removed]"
          },
          "metadata": {
            "needs_background": "light"
          }
        }
      ]
    },
    {
      "cell_type": "markdown",
      "source": [
        "Now we're getting somewhere..."
      ],
      "metadata": {
        "id": "Nv-V4mN2QmjD"
      }
    },
    {
      "cell_type": "code",
      "source": [
        "rng = 20\n",
        "err_valid = []\n",
        "m_depth = [(x*.002)+0.010 for x in range(1,rng)]\n",
        "for i in range(1,rng):\n",
        "  ## Training\n",
        "  dtc = DecisionTreeClassifier(random_state=42,min_samples_split=(i*.002)+0.010)\n",
        "  dtc.fit(x_train,y_train)\n",
        "  ## Validation\n",
        "  valid_score = cross_val_score(dtc, x_valid, y_valid, cv=10, scoring=\"accuracy\")\n",
        "  err_valid.append(100-valid_score.mean()*100)\n",
        "\n",
        "plt.plot(m_depth,err_valid)\n",
        "plt.xlabel(\"Min_Samples_Split\")\n",
        "plt.ylabel(\"Validation Error (%)\")\n",
        "plt.show()"
      ],
      "metadata": {
        "colab": {
          "base_uri": "https://localhost:8080/",
          "height": 280
        },
        "id": "0lw_eT38QpE7",
        "outputId": "a31684da-c94b-48ab-d129-65341f743d23"
      },
      "execution_count": 23,
      "outputs": [
        {
          "output_type": "display_data",
          "data": {
            "text/plain": [
              "<Figure size 432x288 with 1 Axes>"
            ],
            "image/png": "[encoded data removed]"
          },
          "metadata": {
            "needs_background": "light"
          }
        }
      ]
    },
    {
      "cell_type": "markdown",
      "source": [
        "There we go. It's looking like we begin to overfit the model after a min_samples_split value of approx 0.02."
      ],
      "metadata": {
        "id": "duo6RmSnQ98w"
      }
    },
    {
      "cell_type": "code",
      "source": [
        "## Training\n",
        "dtc = DecisionTreeClassifier(random_state=42,min_samples_split=0.02)\n",
        "dtc.fit(x_train,y_train)\n",
        "## Validation\n",
        "valid_score = cross_val_score(dtc, x_valid, y_valid, cv=10, scoring=\"accuracy\")\n",
        "print(\"The Accuracy of the Model with Cross Validation is: {:.3f}%\".format(valid_score.mean()*100))\n",
        "## Testing \n",
        "acc = accuracy_score(dtc.predict(x_test),y_test)\n",
        "print(\"The Accuracy of the Model on the Test Set is : {:.3f}%\".format(acc*100))\n",
        "CMD.from_estimator(dtc,x_test,y_test,display_labels=[\"Not Galaxy\",\"Galaxy\"])"
      ],
      "metadata": {
        "colab": {
          "base_uri": "https://localhost:8080/",
          "height": 333
        },
        "id": "vH2KDmWDS2dJ",
        "outputId": "cb3b330b-9bee-4cb3-eb15-1c39ef39a045"
      },
      "execution_count": 24,
      "outputs": [
        {
          "output_type": "stream",
          "name": "stdout",
          "text": [
            "The Accuracy of the Model with Cross Validation is: 96.160%\n",
            "The Accuracy of the Model on the Test Set is : 96.360%\n"
          ]
        },
        {
          "output_type": "execute_result",
          "data": {
            "text/plain": [
              "<sklearn.metrics._plot.confusion_matrix.ConfusionMatrixDisplay at 0x7f883667cd10>"
            ]
          },
          "metadata": {},
          "execution_count": 24
        },
        {
          "output_type": "display_data",
          "data": {
            "text/plain": [
              "<Figure size 432x288 with 2 Axes>"
            ],
            "image/png": "[encoded data removed]"
          },
          "metadata": {
            "needs_background": "light"
          }
        }
      ]
    },
    {
      "cell_type": "markdown",
      "source": [
        "This also shows some minor improvement over the original classifier I presented, but again, the gains made in the accuracy of cross validation is very small."
      ],
      "metadata": {
        "id": "ZsAQfWZQTCMN"
      }
    },
    {
      "cell_type": "markdown",
      "source": [
        "## Testing Max_Leaf_Nodes"
      ],
      "metadata": {
        "id": "T5kcaP0-k5z_"
      }
    },
    {
      "cell_type": "code",
      "source": [
        "rng = 30\n",
        "err_valid = []\n",
        "m_depth = [x*5 for x in range(1,rng)]\n",
        "for i in range(1,rng):\n",
        "  ## Training\n",
        "  dtc = DecisionTreeClassifier(random_state=42,max_leaf_nodes=i*5)\n",
        "  dtc.fit(x_train,y_train)\n",
        "  ## Validation\n",
        "  valid_score = cross_val_score(dtc, x_valid, y_valid, cv=10, scoring=\"accuracy\")\n",
        "  err_valid.append(100-valid_score.mean()*100)\n",
        "\n",
        "plt.plot(m_depth,err_valid)\n",
        "plt.xlabel(\"Max_Leaf_Nodes\")\n",
        "plt.ylabel(\"Validation Error (%)\")\n",
        "plt.show()"
      ],
      "metadata": {
        "colab": {
          "base_uri": "https://localhost:8080/",
          "height": 280
        },
        "id": "kBdqG_nWk9Zi",
        "outputId": "0adcb3ed-900f-489f-818e-332dc9ba3bdd"
      },
      "execution_count": 25,
      "outputs": [
        {
          "output_type": "display_data",
          "data": {
            "text/plain": [
              "<Figure size 432x288 with 1 Axes>"
            ],
            "image/png": "[encoded data removed]"
          },
          "metadata": {
            "needs_background": "light"
          }
        }
      ]
    },
    {
      "cell_type": "markdown",
      "source": [
        "Overfitting after approx 25 max_leaf_nodes..."
      ],
      "metadata": {
        "id": "ujxIAkLQTala"
      }
    },
    {
      "cell_type": "code",
      "source": [
        "## Training\n",
        "dtc = DecisionTreeClassifier(random_state=42,max_leaf_nodes=25)\n",
        "dtc.fit(x_train,y_train)\n",
        "## Validation\n",
        "valid_score = cross_val_score(dtc, x_valid, y_valid, cv=10, scoring=\"accuracy\")\n",
        "print(\"The Accuracy of the Model with Cross Validation is: {:.3f}%\".format(valid_score.mean()*100))\n",
        "## Testing \n",
        "acc = accuracy_score(dtc.predict(x_test),y_test)\n",
        "print(\"The Accuracy of the Model on the Test Set is : {:.3f}%\".format(acc*100))\n",
        "CMD.from_estimator(dtc,x_test,y_test,display_labels=[\"Not Galaxy\",\"Galaxy\"])"
      ],
      "metadata": {
        "colab": {
          "base_uri": "https://localhost:8080/",
          "height": 333
        },
        "id": "BCGjYpjluhj2",
        "outputId": "ee22050d-6838-49f2-81e2-328deda1f5a9"
      },
      "execution_count": 26,
      "outputs": [
        {
          "output_type": "stream",
          "name": "stdout",
          "text": [
            "The Accuracy of the Model with Cross Validation is: 96.430%\n",
            "The Accuracy of the Model on the Test Set is : 96.560%\n"
          ]
        },
        {
          "output_type": "execute_result",
          "data": {
            "text/plain": [
              "<sklearn.metrics._plot.confusion_matrix.ConfusionMatrixDisplay at 0x7f88368604d0>"
            ]
          },
          "metadata": {},
          "execution_count": 26
        },
        {
          "output_type": "display_data",
          "data": {
            "text/plain": [
              "<Figure size 432x288 with 2 Axes>"
            ],
            "image/png": "[encoded data removed]"
          },
          "metadata": {
            "needs_background": "light"
          }
        }
      ]
    },
    {
      "cell_type": "markdown",
      "source": [
        "## Bagging Algorithm\n"
      ],
      "metadata": {
        "id": "eZ2XX76EemZO"
      }
    },
    {
      "cell_type": "code",
      "source": [
        "t.start()\n",
        "## Training\n",
        "bme = BaggingClassifier(random_state=42)\n",
        "bme.fit(x_train,y_train)\n",
        "## Validation\n",
        "valid_score = cross_val_score(bme, x_valid, y_valid, cv=10, scoring=\"accuracy\")\n",
        "print(\"The Accuracy of the Model with Cross Validation is: {:.3f}%\".format(valid_score.mean()*100))\n",
        "## Testing \n",
        "acc = accuracy_score(bme.predict(x_test),y_test)\n",
        "print(\"The Accuracy of the Model on the Test Set is : {:.3f}%\".format(acc*100))\n",
        "CMD.from_estimator(bme,x_test,y_test,display_labels=[\"Not Galaxy\",\"Galaxy\"])\n",
        "t.stop()\n",
        "print(\"TIME_TAKEN: {:.3f}s\".format(t.duration))"
      ],
      "metadata": {
        "colab": {
          "base_uri": "https://localhost:8080/",
          "height": 333
        },
        "id": "kqN6zqvPe3gs",
        "outputId": "af09c37f-eb8c-4716-eed6-3e6702feea28"
      },
      "execution_count": 27,
      "outputs": [
        {
          "output_type": "stream",
          "name": "stdout",
          "text": [
            "The Accuracy of the Model with Cross Validation is: 96.540%\n",
            "The Accuracy of the Model on the Test Set is : 96.820%\n",
            "TIME_TAKEN: 7.545s\n"
          ]
        },
        {
          "output_type": "display_data",
          "data": {
            "text/plain": [
              "<Figure size 432x288 with 2 Axes>"
            ],
            "image/png": "[encoded data removed]"
          },
          "metadata": {
            "needs_background": "light"
          }
        }
      ]
    },
    {
      "cell_type": "markdown",
      "source": [
        "Right off the bat, without any modifications on my part, the bagging model appears to have performed better on both the cross validation and the test data than any of my above tests modifying values. This makes sense to me, as the bagging classifier is in essence creating many trees and finding the best versions to create its final model from. It likely found better optimiszations than I was able to in my investigations and likely combine those optimizations to yield an even better model."
      ],
      "metadata": {
        "id": "w0ROShYT4O3b"
      }
    },
    {
      "cell_type": "markdown",
      "source": [
        "## Boosting Algorithm"
      ],
      "metadata": {
        "id": "ivZdmkix4afd"
      }
    },
    {
      "cell_type": "code",
      "source": [
        "t.start()\n",
        "## Training\n",
        "bme = AdaBoostClassifier(random_state=42)\n",
        "bme.fit(x_train,y_train)\n",
        "## Validation\n",
        "valid_score = cross_val_score(bme, x_valid, y_valid, cv=10, scoring=\"accuracy\")\n",
        "print(\"The Accuracy of the Model with Cross Validation is: {:.3f}%\".format(valid_score.mean()*100))\n",
        "## Testing \n",
        "acc = accuracy_score(bme.predict(x_test),y_test)\n",
        "print(\"The Accuracy of the Model on the Test Set is : {:.3f}%\".format(acc*100))\n",
        "CMD.from_estimator(bme,x_test,y_test,display_labels=[\"Not Galaxy\",\"Galaxy\"])\n",
        "t.stop()\n",
        "print(\"TIME_TAKEN: {:.3f}s\".format(t.duration))"
      ],
      "metadata": {
        "colab": {
          "base_uri": "https://localhost:8080/",
          "height": 333
        },
        "id": "6oqRIhFM4dHj",
        "outputId": "6372d20d-734f-4de3-8ecc-96c0d4a8b0c1"
      },
      "execution_count": 28,
      "outputs": [
        {
          "output_type": "stream",
          "name": "stdout",
          "text": [
            "The Accuracy of the Model with Cross Validation is: 95.860%\n",
            "The Accuracy of the Model on the Test Set is : 95.500%\n",
            "TIME_TAKEN: 8.234s\n"
          ]
        },
        {
          "output_type": "display_data",
          "data": {
            "text/plain": [
              "<Figure size 432x288 with 2 Axes>"
            ],
            "image/png": "[encoded data removed]"
          },
          "metadata": {
            "needs_background": "light"
          }
        }
      ]
    },
    {
      "cell_type": "markdown",
      "source": [
        "The Ada Boosting algorithm ended up producing a model with very similar output to my original default tree classifier. I have to imagine that this is do to my model already doing a pretty good job? As far as I understand, boosting algorithms are designed to take weaker models and train them to be better, combining together to create a greater final model. My original model however was already achieving a >95% accuracy rating. I wonder if the original model had already essentially hit the limit of what it was capable of and therefore Ada Boost wasn't able to improve on that any further?"
      ],
      "metadata": {
        "id": "x1Sm727zVImJ"
      }
    },
    {
      "cell_type": "markdown",
      "source": [
        "# Comparisons\n",
        "\n",
        "Using my accuracy metric identified above when introducing the trees, it would seem that the bagging model produced the most desirable results, followed by the boosting and original models. To reiterate, I have chosen accuracy as my metric of choice due to:\n",
        "\n",
        "1. The division of my data into classes being fairly even (60-40)\n",
        "2. There being an equivalent weight/value placed on both positive and negative predictions (neither is more dire/requires more attention, like in predicting illnesses where false positives is usually preferable to false negatives)\n",
        "\n",
        "With these givens as the foundation of my model, I found accuracy to be a more desirable metric than precision or recall.\n",
        "\n",
        "If however, I was to change my mind and require a different metric for evaluating my model, the choice of metrics would certainly change the tierlist of best models for the job.\n",
        "\n",
        "For example: precision only cares about positive predictions. As can be seen, the vast majority of false predictions seen in the boosting output are false positives, which would greatly decrease the observed precision of the model. The other models tend to have a more balanced division of false predictions between positives and negatives.\n",
        "\n",
        "## Proof"
      ],
      "metadata": {
        "id": "ps2les1bwNdB"
      }
    },
    {
      "cell_type": "code",
      "source": [
        "# ADA\n",
        "## Training\n",
        "bme = AdaBoostClassifier(random_state=42)\n",
        "bme.fit(x_train,y_train)\n",
        "## Validation\n",
        "valid_score = cross_val_score(bme, x_valid, y_valid, cv=10, scoring=\"precision\")\n",
        "print(\"The Precision of the Model with Cross Validation is: {:.3f}%\".format(valid_score.mean()*100))\n",
        "# Standard\n",
        "## Training\n",
        "dtc = DecisionTreeClassifier(random_state=42)\n",
        "dtc.fit(x_train,y_train)\n",
        "## Validation\n",
        "valid_score = cross_val_score(dtc, x_valid, y_valid, cv=10, scoring=\"precision\")\n",
        "print(\"The Precision of the Model with Cross Validation is: {:.3f}%\".format(valid_score.mean()*100))"
      ],
      "metadata": {
        "colab": {
          "base_uri": "https://localhost:8080/"
        },
        "id": "zxggamIZazJm",
        "outputId": "d0a1fb8e-fd70-4e0b-a0d2-a18d8449f9ba"
      },
      "execution_count": 29,
      "outputs": [
        {
          "output_type": "stream",
          "name": "stdout",
          "text": [
            "The Precision of the Model with Cross Validation is: 95.684%\n",
            "The Precision of the Model with Cross Validation is: 96.028%\n"
          ]
        }
      ]
    },
    {
      "cell_type": "markdown",
      "source": [
        "If you were to re-examine the outputs, you would see that the precision of the AdaBoost Model is 0.2% lower than its accuracy, while the precision of the Default Model is 0.8% higher than its own accuracy. This is by no means a large difference, as both models still perform a reasonably good job at identifying galaxies, but the difference between the metrics is still present, quanitifable, and matches expectations."
      ],
      "metadata": {
        "id": "dmQCn_08bSV5"
      }
    }
  ]
}