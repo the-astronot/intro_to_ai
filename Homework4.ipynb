{
  "nbformat": 4,
  "nbformat_minor": 0,
  "metadata": {
    "colab": {
      "provenance": [],
      "collapsed_sections": [],
      "authorship_tag": "ABX9TyM66gLrYh/iED26V5wNU2EW",
      "include_colab_link": true
    },
    "kernelspec": {
      "name": "python3",
      "display_name": "Python 3"
    },
    "language_info": {
      "name": "python"
    }
  },
  "cells": [
    {
      "cell_type": "markdown",
      "metadata": {
        "id": "view-in-github",
        "colab_type": "text"
      },
      "source": [
        "<a href=\"https://colab.research.google.com/github/the-astronot/intro_to_ai/blob/main/Homework4.ipynb\" target=\"_parent\"><img src=\"https://colab.research.google.com/assets/colab-badge.svg\" alt=\"Open In Colab\"/></a>"
      ]
    },
    {
      "cell_type": "markdown",
      "source": [
        "# Homework 4"
      ],
      "metadata": {
        "id": "53XmT0yC7UbN"
      }
    },
    {
      "cell_type": "code",
      "execution_count": null,
      "metadata": {
        "id": "jeKjqhiR6yYD"
      },
      "outputs": [],
      "source": [
        "# Mass imports\n",
        "import time\n",
        "import pandas as pd\n",
        "import matplotlib.pyplot as plt\n",
        "import seaborn as sns\n",
        "import numpy as np\n",
        "import tensorflow as tf\n",
        "from tensorflow import keras\n",
        "from keras import layers\n",
        "from sklearn.preprocessing import Normalizer\n",
        "import warnings\n",
        "import datetime as dt\n",
        "warnings.filterwarnings(\"ignore\")"
      ]
    },
    {
      "cell_type": "markdown",
      "source": [
        "## Section 1\n",
        "\n",
        "I found a dataset on Kaggle for [Stock Info](https://www.kaggle.com/datasets/szrlee/stock-time-series-20050101-to-20171231) for the a decade's worth of time. I plan on trying to use RNNs to predict future closing prices. This seemed to be one of the few applications that would be easier to assign values to the training/predictions of."
      ],
      "metadata": {
        "id": "EPYLJdwe7fd8"
      }
    },
    {
      "cell_type": "markdown",
      "source": [
        "## Exploratory Data Analysis"
      ],
      "metadata": {
        "id": "oeOdWR4rkHIF"
      }
    },
    {
      "cell_type": "code",
      "source": [
        "# Loading the dataset\n",
        "df = pd.read_csv('all_stocks_2006-01-01_to_2018-01-01.csv')\n",
        "df.head(10)"
      ],
      "metadata": {
        "colab": {
          "base_uri": "https://localhost:8080/",
          "height": 363
        },
        "id": "9gdnK-Zl7Zni",
        "outputId": "4c664af2-4c5e-4bfd-a48a-2640491618d7"
      },
      "execution_count": null,
      "outputs": [
        {
          "output_type": "execute_result",
          "data": {
            "text/plain": [
              "         Date   Open   High    Low  Close   Volume Name\n",
              "0  2006-01-03  77.76  79.35  77.24  79.11  3117200  MMM\n",
              "1  2006-01-04  79.49  79.49  78.25  78.71  2558000  MMM\n",
              "2  2006-01-05  78.41  78.65  77.56  77.99  2529500  MMM\n",
              "3  2006-01-06  78.64  78.90  77.64  78.63  2479500  MMM\n",
              "4  2006-01-09  78.50  79.83  78.46  79.02  1845600  MMM\n",
              "5  2006-01-10  79.00  79.01  78.08  78.53  1919900  MMM\n",
              "6  2006-01-11  78.44  78.66  77.84  78.37  1911900  MMM\n",
              "7  2006-01-12  78.20  78.23  77.20  77.70  2121100  MMM\n",
              "8  2006-01-13  76.95  78.20  76.95  77.50  1925300  MMM\n",
              "9  2006-01-17  77.10  77.62  77.00  77.09  2073400  MMM"
            ],
            "text/html": [
              "\n",
              "  <div id=\"df-e1677ae7-a2a1-42c9-b310-1c25d07858a7\">\n",
              "    <div class=\"colab-df-container\">\n",
              "      <div>\n",
              "<style scoped>\n",
              "    .dataframe tbody tr th:only-of-type {\n",
              "        vertical-align: middle;\n",
              "    }\n",
              "\n",
              "    .dataframe tbody tr th {\n",
              "        vertical-align: top;\n",
              "    }\n",
              "\n",
              "    .dataframe thead th {\n",
              "        text-align: right;\n",
              "    }\n",
              "</style>\n",
              "<table border=\"1\" class=\"dataframe\">\n",
              "  <thead>\n",
              "    <tr style=\"text-align: right;\">\n",
              "      <th></th>\n",
              "      <th>Date</th>\n",
              "      <th>Open</th>\n",
              "      <th>High</th>\n",
              "      <th>Low</th>\n",
              "      <th>Close</th>\n",
              "      <th>Volume</th>\n",
              "      <th>Name</th>\n",
              "    </tr>\n",
              "  </thead>\n",
              "  <tbody>\n",
              "    <tr>\n",
              "      <th>0</th>\n",
              "      <td>2006-01-03</td>\n",
              "      <td>77.76</td>\n",
              "      <td>79.35</td>\n",
              "      <td>77.24</td>\n",
              "      <td>79.11</td>\n",
              "      <td>3117200</td>\n",
              "      <td>MMM</td>\n",
              "    </tr>\n",
              "    <tr>\n",
              "      <th>1</th>\n",
              "      <td>2006-01-04</td>\n",
              "      <td>79.49</td>\n",
              "      <td>79.49</td>\n",
              "      <td>78.25</td>\n",
              "      <td>78.71</td>\n",
              "      <td>2558000</td>\n",
              "      <td>MMM</td>\n",
              "    </tr>\n",
              "    <tr>\n",
              "      <th>2</th>\n",
              "      <td>2006-01-05</td>\n",
              "      <td>78.41</td>\n",
              "      <td>78.65</td>\n",
              "      <td>77.56</td>\n",
              "      <td>77.99</td>\n",
              "      <td>2529500</td>\n",
              "      <td>MMM</td>\n",
              "    </tr>\n",
              "    <tr>\n",
              "      <th>3</th>\n",
              "      <td>2006-01-06</td>\n",
              "      <td>78.64</td>\n",
              "      <td>78.90</td>\n",
              "      <td>77.64</td>\n",
              "      <td>78.63</td>\n",
              "      <td>2479500</td>\n",
              "      <td>MMM</td>\n",
              "    </tr>\n",
              "    <tr>\n",
              "      <th>4</th>\n",
              "      <td>2006-01-09</td>\n",
              "      <td>78.50</td>\n",
              "      <td>79.83</td>\n",
              "      <td>78.46</td>\n",
              "      <td>79.02</td>\n",
              "      <td>1845600</td>\n",
              "      <td>MMM</td>\n",
              "    </tr>\n",
              "    <tr>\n",
              "      <th>5</th>\n",
              "      <td>2006-01-10</td>\n",
              "      <td>79.00</td>\n",
              "      <td>79.01</td>\n",
              "      <td>78.08</td>\n",
              "      <td>78.53</td>\n",
              "      <td>1919900</td>\n",
              "      <td>MMM</td>\n",
              "    </tr>\n",
              "    <tr>\n",
              "      <th>6</th>\n",
              "      <td>2006-01-11</td>\n",
              "      <td>78.44</td>\n",
              "      <td>78.66</td>\n",
              "      <td>77.84</td>\n",
              "      <td>78.37</td>\n",
              "      <td>1911900</td>\n",
              "      <td>MMM</td>\n",
              "    </tr>\n",
              "    <tr>\n",
              "      <th>7</th>\n",
              "      <td>2006-01-12</td>\n",
              "      <td>78.20</td>\n",
              "      <td>78.23</td>\n",
              "      <td>77.20</td>\n",
              "      <td>77.70</td>\n",
              "      <td>2121100</td>\n",
              "      <td>MMM</td>\n",
              "    </tr>\n",
              "    <tr>\n",
              "      <th>8</th>\n",
              "      <td>2006-01-13</td>\n",
              "      <td>76.95</td>\n",
              "      <td>78.20</td>\n",
              "      <td>76.95</td>\n",
              "      <td>77.50</td>\n",
              "      <td>1925300</td>\n",
              "      <td>MMM</td>\n",
              "    </tr>\n",
              "    <tr>\n",
              "      <th>9</th>\n",
              "      <td>2006-01-17</td>\n",
              "      <td>77.10</td>\n",
              "      <td>77.62</td>\n",
              "      <td>77.00</td>\n",
              "      <td>77.09</td>\n",
              "      <td>2073400</td>\n",
              "      <td>MMM</td>\n",
              "    </tr>\n",
              "  </tbody>\n",
              "</table>\n",
              "</div>\n",
              "      <button class=\"colab-df-convert\" onclick=\"convertToInteractive('df-e1677ae7-a2a1-42c9-b310-1c25d07858a7')\"\n",
              "              title=\"Convert this dataframe to an interactive table.\"\n",
              "              style=\"display:none;\">\n",
              "        \n",
              "  <svg xmlns=\"http://www.w3.org/2000/svg\" height=\"24px\"viewBox=\"0 0 24 24\"\n",
              "       width=\"24px\">\n",
              "    <path d=\"M0 0h24v24H0V0z\" fill=\"none\"/>\n",
              "    <path d=\"M18.56 5.44l.94 2.06.94-2.06 2.06-.94-2.06-.94-.94-2.06-.94 2.06-2.06.94zm-11 1L8.5 8.5l.94-2.06 2.06-.94-2.06-.94L8.5 2.5l-.94 2.06-2.06.94zm10 10l.94 2.06.94-2.06 2.06-.94-2.06-.94-.94-2.06-.94 2.06-2.06.94z\"/><path d=\"M17.41 7.96l-1.37-1.37c-.4-.4-.92-.59-1.43-.59-.52 0-1.04.2-1.43.59L10.3 9.45l-7.72 7.72c-.78.78-.78 2.05 0 2.83L4 21.41c.39.39.9.59 1.41.59.51 0 1.02-.2 1.41-.59l7.78-7.78 2.81-2.81c.8-.78.8-2.07 0-2.86zM5.41 20L4 18.59l7.72-7.72 1.47 1.35L5.41 20z\"/>\n",
              "  </svg>\n",
              "      </button>\n",
              "      \n",
              "  <style>\n",
              "    .colab-df-container {\n",
              "      display:flex;\n",
              "      flex-wrap:wrap;\n",
              "      gap: 12px;\n",
              "    }\n",
              "\n",
              "    .colab-df-convert {\n",
              "      background-color: #E8F0FE;\n",
              "      border: none;\n",
              "      border-radius: 50%;\n",
              "      cursor: pointer;\n",
              "      display: none;\n",
              "      fill: #1967D2;\n",
              "      height: 32px;\n",
              "      padding: 0 0 0 0;\n",
              "      width: 32px;\n",
              "    }\n",
              "\n",
              "    .colab-df-convert:hover {\n",
              "      background-color: #E2EBFA;\n",
              "      box-shadow: 0px 1px 2px rgba(60, 64, 67, 0.3), 0px 1px 3px 1px rgba(60, 64, 67, 0.15);\n",
              "      fill: #174EA6;\n",
              "    }\n",
              "\n",
              "    [theme=dark] .colab-df-convert {\n",
              "      background-color: #3B4455;\n",
              "      fill: #D2E3FC;\n",
              "    }\n",
              "\n",
              "    [theme=dark] .colab-df-convert:hover {\n",
              "      background-color: #434B5C;\n",
              "      box-shadow: 0px 1px 3px 1px rgba(0, 0, 0, 0.15);\n",
              "      filter: drop-shadow(0px 1px 2px rgba(0, 0, 0, 0.3));\n",
              "      fill: #FFFFFF;\n",
              "    }\n",
              "  </style>\n",
              "\n",
              "      <script>\n",
              "        const buttonEl =\n",
              "          document.querySelector('#df-e1677ae7-a2a1-42c9-b310-1c25d07858a7 button.colab-df-convert');\n",
              "        buttonEl.style.display =\n",
              "          google.colab.kernel.accessAllowed ? 'block' : 'none';\n",
              "\n",
              "        async function convertToInteractive(key) {\n",
              "          const element = document.querySelector('#df-e1677ae7-a2a1-42c9-b310-1c25d07858a7');\n",
              "          const dataTable =\n",
              "            await google.colab.kernel.invokeFunction('convertToInteractive',\n",
              "                                                     [key], {});\n",
              "          if (!dataTable) return;\n",
              "\n",
              "          const docLinkHtml = 'Like what you see? Visit the ' +\n",
              "            '<a target=\"_blank\" href=https://colab.research.google.com/notebooks/data_table.ipynb>data table notebook</a>'\n",
              "            + ' to learn more about interactive tables.';\n",
              "          element.innerHTML = '';\n",
              "          dataTable['output_type'] = 'display_data';\n",
              "          await google.colab.output.renderOutput(dataTable, element);\n",
              "          const docLink = document.createElement('div');\n",
              "          docLink.innerHTML = docLinkHtml;\n",
              "          element.appendChild(docLink);\n",
              "        }\n",
              "      </script>\n",
              "    </div>\n",
              "  </div>\n",
              "  "
            ]
          },
          "metadata": {},
          "execution_count": 2
        }
      ]
    },
    {
      "cell_type": "markdown",
      "source": [
        "I get the feeling that the ISO DateTime won't work very well, so I'll add a quick function to go about replacing it."
      ],
      "metadata": {
        "id": "geDwSBLUdc1z"
      }
    },
    {
      "cell_type": "code",
      "source": [
        "def to_date(string):\n",
        "  date = dt.datetime.fromisoformat(string)\n",
        "  return date"
      ],
      "metadata": {
        "id": "H-0WwOPxZhYa"
      },
      "execution_count": null,
      "outputs": []
    },
    {
      "cell_type": "code",
      "source": [
        "start_date = to_date(df['Date'][0])\n",
        "df[\"DaysTime\"] = 0\n",
        "for i in range(len(df[\"DaysTime\"])):\n",
        "  df[\"DaysTime\"][i] = (to_date(df['Date'][i])-start_date).days"
      ],
      "metadata": {
        "id": "ukTlyN7mYXvb"
      },
      "execution_count": null,
      "outputs": []
    },
    {
      "cell_type": "markdown",
      "source": [
        "Looks like everything went alright there. Now for a quick peek at the layout of the dataset."
      ],
      "metadata": {
        "id": "QU5mltbPdtbu"
      }
    },
    {
      "cell_type": "code",
      "source": [
        "df.describe()"
      ],
      "metadata": {
        "colab": {
          "base_uri": "https://localhost:8080/",
          "height": 300
        },
        "id": "pN_dNN9tWxJA",
        "outputId": "0fd37b01-097c-418d-da76-d9a0e1c86919"
      },
      "execution_count": null,
      "outputs": [
        {
          "output_type": "execute_result",
          "data": {
            "text/plain": [
              "               Open          High           Low         Close        Volume  \\\n",
              "count  93587.000000  93602.000000  93592.000000  93612.000000  9.361200e+04   \n",
              "mean      85.623260     86.387045     84.836664     85.641753  2.015667e+07   \n",
              "std      108.151723    108.956365    107.225361    108.121106  3.442108e+07   \n",
              "min        6.750000      7.170000      0.000000      6.660000  0.000000e+00   \n",
              "25%       33.950000     34.290000     33.600000     33.960000  5.040180e+06   \n",
              "50%       60.040000     60.630000     59.490000     60.050000  9.701142e+06   \n",
              "75%       94.000000     94.740000     93.250000     94.012500  2.075222e+07   \n",
              "max     1204.880000   1213.410000   1191.150000   1195.830000  8.432640e+08   \n",
              "\n",
              "           DaysTime  \n",
              "count  93612.000000  \n",
              "mean    2189.678759  \n",
              "std     1264.913560  \n",
              "min        0.000000  \n",
              "25%     1093.000000  \n",
              "50%     2187.000000  \n",
              "75%     3286.000000  \n",
              "max     4378.000000  "
            ],
            "text/html": [
              "\n",
              "  <div id=\"df-6fe896fd-1967-4d05-8e49-bb6c5eca96be\">\n",
              "    <div class=\"colab-df-container\">\n",
              "      <div>\n",
              "<style scoped>\n",
              "    .dataframe tbody tr th:only-of-type {\n",
              "        vertical-align: middle;\n",
              "    }\n",
              "\n",
              "    .dataframe tbody tr th {\n",
              "        vertical-align: top;\n",
              "    }\n",
              "\n",
              "    .dataframe thead th {\n",
              "        text-align: right;\n",
              "    }\n",
              "</style>\n",
              "<table border=\"1\" class=\"dataframe\">\n",
              "  <thead>\n",
              "    <tr style=\"text-align: right;\">\n",
              "      <th></th>\n",
              "      <th>Open</th>\n",
              "      <th>High</th>\n",
              "      <th>Low</th>\n",
              "      <th>Close</th>\n",
              "      <th>Volume</th>\n",
              "      <th>DaysTime</th>\n",
              "    </tr>\n",
              "  </thead>\n",
              "  <tbody>\n",
              "    <tr>\n",
              "      <th>count</th>\n",
              "      <td>93587.000000</td>\n",
              "      <td>93602.000000</td>\n",
              "      <td>93592.000000</td>\n",
              "      <td>93612.000000</td>\n",
              "      <td>9.361200e+04</td>\n",
              "      <td>93612.000000</td>\n",
              "    </tr>\n",
              "    <tr>\n",
              "      <th>mean</th>\n",
              "      <td>85.623260</td>\n",
              "      <td>86.387045</td>\n",
              "      <td>84.836664</td>\n",
              "      <td>85.641753</td>\n",
              "      <td>2.015667e+07</td>\n",
              "      <td>2189.678759</td>\n",
              "    </tr>\n",
              "    <tr>\n",
              "      <th>std</th>\n",
              "      <td>108.151723</td>\n",
              "      <td>108.956365</td>\n",
              "      <td>107.225361</td>\n",
              "      <td>108.121106</td>\n",
              "      <td>3.442108e+07</td>\n",
              "      <td>1264.913560</td>\n",
              "    </tr>\n",
              "    <tr>\n",
              "      <th>min</th>\n",
              "      <td>6.750000</td>\n",
              "      <td>7.170000</td>\n",
              "      <td>0.000000</td>\n",
              "      <td>6.660000</td>\n",
              "      <td>0.000000e+00</td>\n",
              "      <td>0.000000</td>\n",
              "    </tr>\n",
              "    <tr>\n",
              "      <th>25%</th>\n",
              "      <td>33.950000</td>\n",
              "      <td>34.290000</td>\n",
              "      <td>33.600000</td>\n",
              "      <td>33.960000</td>\n",
              "      <td>5.040180e+06</td>\n",
              "      <td>1093.000000</td>\n",
              "    </tr>\n",
              "    <tr>\n",
              "      <th>50%</th>\n",
              "      <td>60.040000</td>\n",
              "      <td>60.630000</td>\n",
              "      <td>59.490000</td>\n",
              "      <td>60.050000</td>\n",
              "      <td>9.701142e+06</td>\n",
              "      <td>2187.000000</td>\n",
              "    </tr>\n",
              "    <tr>\n",
              "      <th>75%</th>\n",
              "      <td>94.000000</td>\n",
              "      <td>94.740000</td>\n",
              "      <td>93.250000</td>\n",
              "      <td>94.012500</td>\n",
              "      <td>2.075222e+07</td>\n",
              "      <td>3286.000000</td>\n",
              "    </tr>\n",
              "    <tr>\n",
              "      <th>max</th>\n",
              "      <td>1204.880000</td>\n",
              "      <td>1213.410000</td>\n",
              "      <td>1191.150000</td>\n",
              "      <td>1195.830000</td>\n",
              "      <td>8.432640e+08</td>\n",
              "      <td>4378.000000</td>\n",
              "    </tr>\n",
              "  </tbody>\n",
              "</table>\n",
              "</div>\n",
              "      <button class=\"colab-df-convert\" onclick=\"convertToInteractive('df-6fe896fd-1967-4d05-8e49-bb6c5eca96be')\"\n",
              "              title=\"Convert this dataframe to an interactive table.\"\n",
              "              style=\"display:none;\">\n",
              "        \n",
              "  <svg xmlns=\"http://www.w3.org/2000/svg\" height=\"24px\"viewBox=\"0 0 24 24\"\n",
              "       width=\"24px\">\n",
              "    <path d=\"M0 0h24v24H0V0z\" fill=\"none\"/>\n",
              "    <path d=\"M18.56 5.44l.94 2.06.94-2.06 2.06-.94-2.06-.94-.94-2.06-.94 2.06-2.06.94zm-11 1L8.5 8.5l.94-2.06 2.06-.94-2.06-.94L8.5 2.5l-.94 2.06-2.06.94zm10 10l.94 2.06.94-2.06 2.06-.94-2.06-.94-.94-2.06-.94 2.06-2.06.94z\"/><path d=\"M17.41 7.96l-1.37-1.37c-.4-.4-.92-.59-1.43-.59-.52 0-1.04.2-1.43.59L10.3 9.45l-7.72 7.72c-.78.78-.78 2.05 0 2.83L4 21.41c.39.39.9.59 1.41.59.51 0 1.02-.2 1.41-.59l7.78-7.78 2.81-2.81c.8-.78.8-2.07 0-2.86zM5.41 20L4 18.59l7.72-7.72 1.47 1.35L5.41 20z\"/>\n",
              "  </svg>\n",
              "      </button>\n",
              "      \n",
              "  <style>\n",
              "    .colab-df-container {\n",
              "      display:flex;\n",
              "      flex-wrap:wrap;\n",
              "      gap: 12px;\n",
              "    }\n",
              "\n",
              "    .colab-df-convert {\n",
              "      background-color: #E8F0FE;\n",
              "      border: none;\n",
              "      border-radius: 50%;\n",
              "      cursor: pointer;\n",
              "      display: none;\n",
              "      fill: #1967D2;\n",
              "      height: 32px;\n",
              "      padding: 0 0 0 0;\n",
              "      width: 32px;\n",
              "    }\n",
              "\n",
              "    .colab-df-convert:hover {\n",
              "      background-color: #E2EBFA;\n",
              "      box-shadow: 0px 1px 2px rgba(60, 64, 67, 0.3), 0px 1px 3px 1px rgba(60, 64, 67, 0.15);\n",
              "      fill: #174EA6;\n",
              "    }\n",
              "\n",
              "    [theme=dark] .colab-df-convert {\n",
              "      background-color: #3B4455;\n",
              "      fill: #D2E3FC;\n",
              "    }\n",
              "\n",
              "    [theme=dark] .colab-df-convert:hover {\n",
              "      background-color: #434B5C;\n",
              "      box-shadow: 0px 1px 3px 1px rgba(0, 0, 0, 0.15);\n",
              "      filter: drop-shadow(0px 1px 2px rgba(0, 0, 0, 0.3));\n",
              "      fill: #FFFFFF;\n",
              "    }\n",
              "  </style>\n",
              "\n",
              "      <script>\n",
              "        const buttonEl =\n",
              "          document.querySelector('#df-6fe896fd-1967-4d05-8e49-bb6c5eca96be button.colab-df-convert');\n",
              "        buttonEl.style.display =\n",
              "          google.colab.kernel.accessAllowed ? 'block' : 'none';\n",
              "\n",
              "        async function convertToInteractive(key) {\n",
              "          const element = document.querySelector('#df-6fe896fd-1967-4d05-8e49-bb6c5eca96be');\n",
              "          const dataTable =\n",
              "            await google.colab.kernel.invokeFunction('convertToInteractive',\n",
              "                                                     [key], {});\n",
              "          if (!dataTable) return;\n",
              "\n",
              "          const docLinkHtml = 'Like what you see? Visit the ' +\n",
              "            '<a target=\"_blank\" href=https://colab.research.google.com/notebooks/data_table.ipynb>data table notebook</a>'\n",
              "            + ' to learn more about interactive tables.';\n",
              "          element.innerHTML = '';\n",
              "          dataTable['output_type'] = 'display_data';\n",
              "          await google.colab.output.renderOutput(dataTable, element);\n",
              "          const docLink = document.createElement('div');\n",
              "          docLink.innerHTML = docLinkHtml;\n",
              "          element.appendChild(docLink);\n",
              "        }\n",
              "      </script>\n",
              "    </div>\n",
              "  </div>\n",
              "  "
            ]
          },
          "metadata": {},
          "execution_count": 5
        }
      ]
    },
    {
      "cell_type": "markdown",
      "source": [
        "Everything is looking okay from a data standpoint. I am seeing a few missing opens, lows, and highs, so I'll go ahead and drop those."
      ],
      "metadata": {
        "id": "HZQT0hqVd-rv"
      }
    },
    {
      "cell_type": "code",
      "source": [
        "df = df[df[\"Open\"].isna() == False]\n",
        "df = df[df[\"High\"].isna() == False]\n",
        "df = df[df[\"Low\"].isna() == False]\n",
        "df.describe()"
      ],
      "metadata": {
        "colab": {
          "base_uri": "https://localhost:8080/",
          "height": 300
        },
        "id": "b4Atdte-ea1y",
        "outputId": "f9e51771-2e48-41b9-de11-7bb57042b060"
      },
      "execution_count": null,
      "outputs": [
        {
          "output_type": "execute_result",
          "data": {
            "text/plain": [
              "               Open          High           Low         Close        Volume  \\\n",
              "count  93587.000000  93587.000000  93587.000000  93587.000000  9.358700e+04   \n",
              "mean      85.623260     86.382961     84.836485     85.634973  2.015982e+07   \n",
              "std      108.151723    108.962620    107.227791    108.130598  3.442490e+07   \n",
              "min        6.750000      7.170000      0.000000      6.660000  8.708300e+04   \n",
              "25%       33.950000     34.290000     33.600000     33.950000  5.040876e+06   \n",
              "50%       60.040000     60.620000     59.490000     60.040000  9.702410e+06   \n",
              "75%       94.000000     94.740000     93.250000     94.000000  2.075386e+07   \n",
              "max     1204.880000   1213.410000   1191.150000   1195.830000  8.432640e+08   \n",
              "\n",
              "           DaysTime  \n",
              "count  93587.000000  \n",
              "mean    2189.154028  \n",
              "std     1264.661432  \n",
              "min        0.000000  \n",
              "25%     1093.000000  \n",
              "50%     2186.000000  \n",
              "75%     3284.000000  \n",
              "max     4378.000000  "
            ],
            "text/html": [
              "\n",
              "  <div id=\"df-374101c4-b85c-496a-9f00-7dc6ab74a98f\">\n",
              "    <div class=\"colab-df-container\">\n",
              "      <div>\n",
              "<style scoped>\n",
              "    .dataframe tbody tr th:only-of-type {\n",
              "        vertical-align: middle;\n",
              "    }\n",
              "\n",
              "    .dataframe tbody tr th {\n",
              "        vertical-align: top;\n",
              "    }\n",
              "\n",
              "    .dataframe thead th {\n",
              "        text-align: right;\n",
              "    }\n",
              "</style>\n",
              "<table border=\"1\" class=\"dataframe\">\n",
              "  <thead>\n",
              "    <tr style=\"text-align: right;\">\n",
              "      <th></th>\n",
              "      <th>Open</th>\n",
              "      <th>High</th>\n",
              "      <th>Low</th>\n",
              "      <th>Close</th>\n",
              "      <th>Volume</th>\n",
              "      <th>DaysTime</th>\n",
              "    </tr>\n",
              "  </thead>\n",
              "  <tbody>\n",
              "    <tr>\n",
              "      <th>count</th>\n",
              "      <td>93587.000000</td>\n",
              "      <td>93587.000000</td>\n",
              "      <td>93587.000000</td>\n",
              "      <td>93587.000000</td>\n",
              "      <td>9.358700e+04</td>\n",
              "      <td>93587.000000</td>\n",
              "    </tr>\n",
              "    <tr>\n",
              "      <th>mean</th>\n",
              "      <td>85.623260</td>\n",
              "      <td>86.382961</td>\n",
              "      <td>84.836485</td>\n",
              "      <td>85.634973</td>\n",
              "      <td>2.015982e+07</td>\n",
              "      <td>2189.154028</td>\n",
              "    </tr>\n",
              "    <tr>\n",
              "      <th>std</th>\n",
              "      <td>108.151723</td>\n",
              "      <td>108.962620</td>\n",
              "      <td>107.227791</td>\n",
              "      <td>108.130598</td>\n",
              "      <td>3.442490e+07</td>\n",
              "      <td>1264.661432</td>\n",
              "    </tr>\n",
              "    <tr>\n",
              "      <th>min</th>\n",
              "      <td>6.750000</td>\n",
              "      <td>7.170000</td>\n",
              "      <td>0.000000</td>\n",
              "      <td>6.660000</td>\n",
              "      <td>8.708300e+04</td>\n",
              "      <td>0.000000</td>\n",
              "    </tr>\n",
              "    <tr>\n",
              "      <th>25%</th>\n",
              "      <td>33.950000</td>\n",
              "      <td>34.290000</td>\n",
              "      <td>33.600000</td>\n",
              "      <td>33.950000</td>\n",
              "      <td>5.040876e+06</td>\n",
              "      <td>1093.000000</td>\n",
              "    </tr>\n",
              "    <tr>\n",
              "      <th>50%</th>\n",
              "      <td>60.040000</td>\n",
              "      <td>60.620000</td>\n",
              "      <td>59.490000</td>\n",
              "      <td>60.040000</td>\n",
              "      <td>9.702410e+06</td>\n",
              "      <td>2186.000000</td>\n",
              "    </tr>\n",
              "    <tr>\n",
              "      <th>75%</th>\n",
              "      <td>94.000000</td>\n",
              "      <td>94.740000</td>\n",
              "      <td>93.250000</td>\n",
              "      <td>94.000000</td>\n",
              "      <td>2.075386e+07</td>\n",
              "      <td>3284.000000</td>\n",
              "    </tr>\n",
              "    <tr>\n",
              "      <th>max</th>\n",
              "      <td>1204.880000</td>\n",
              "      <td>1213.410000</td>\n",
              "      <td>1191.150000</td>\n",
              "      <td>1195.830000</td>\n",
              "      <td>8.432640e+08</td>\n",
              "      <td>4378.000000</td>\n",
              "    </tr>\n",
              "  </tbody>\n",
              "</table>\n",
              "</div>\n",
              "      <button class=\"colab-df-convert\" onclick=\"convertToInteractive('df-374101c4-b85c-496a-9f00-7dc6ab74a98f')\"\n",
              "              title=\"Convert this dataframe to an interactive table.\"\n",
              "              style=\"display:none;\">\n",
              "        \n",
              "  <svg xmlns=\"http://www.w3.org/2000/svg\" height=\"24px\"viewBox=\"0 0 24 24\"\n",
              "       width=\"24px\">\n",
              "    <path d=\"M0 0h24v24H0V0z\" fill=\"none\"/>\n",
              "    <path d=\"M18.56 5.44l.94 2.06.94-2.06 2.06-.94-2.06-.94-.94-2.06-.94 2.06-2.06.94zm-11 1L8.5 8.5l.94-2.06 2.06-.94-2.06-.94L8.5 2.5l-.94 2.06-2.06.94zm10 10l.94 2.06.94-2.06 2.06-.94-2.06-.94-.94-2.06-.94 2.06-2.06.94z\"/><path d=\"M17.41 7.96l-1.37-1.37c-.4-.4-.92-.59-1.43-.59-.52 0-1.04.2-1.43.59L10.3 9.45l-7.72 7.72c-.78.78-.78 2.05 0 2.83L4 21.41c.39.39.9.59 1.41.59.51 0 1.02-.2 1.41-.59l7.78-7.78 2.81-2.81c.8-.78.8-2.07 0-2.86zM5.41 20L4 18.59l7.72-7.72 1.47 1.35L5.41 20z\"/>\n",
              "  </svg>\n",
              "      </button>\n",
              "      \n",
              "  <style>\n",
              "    .colab-df-container {\n",
              "      display:flex;\n",
              "      flex-wrap:wrap;\n",
              "      gap: 12px;\n",
              "    }\n",
              "\n",
              "    .colab-df-convert {\n",
              "      background-color: #E8F0FE;\n",
              "      border: none;\n",
              "      border-radius: 50%;\n",
              "      cursor: pointer;\n",
              "      display: none;\n",
              "      fill: #1967D2;\n",
              "      height: 32px;\n",
              "      padding: 0 0 0 0;\n",
              "      width: 32px;\n",
              "    }\n",
              "\n",
              "    .colab-df-convert:hover {\n",
              "      background-color: #E2EBFA;\n",
              "      box-shadow: 0px 1px 2px rgba(60, 64, 67, 0.3), 0px 1px 3px 1px rgba(60, 64, 67, 0.15);\n",
              "      fill: #174EA6;\n",
              "    }\n",
              "\n",
              "    [theme=dark] .colab-df-convert {\n",
              "      background-color: #3B4455;\n",
              "      fill: #D2E3FC;\n",
              "    }\n",
              "\n",
              "    [theme=dark] .colab-df-convert:hover {\n",
              "      background-color: #434B5C;\n",
              "      box-shadow: 0px 1px 3px 1px rgba(0, 0, 0, 0.15);\n",
              "      filter: drop-shadow(0px 1px 2px rgba(0, 0, 0, 0.3));\n",
              "      fill: #FFFFFF;\n",
              "    }\n",
              "  </style>\n",
              "\n",
              "      <script>\n",
              "        const buttonEl =\n",
              "          document.querySelector('#df-374101c4-b85c-496a-9f00-7dc6ab74a98f button.colab-df-convert');\n",
              "        buttonEl.style.display =\n",
              "          google.colab.kernel.accessAllowed ? 'block' : 'none';\n",
              "\n",
              "        async function convertToInteractive(key) {\n",
              "          const element = document.querySelector('#df-374101c4-b85c-496a-9f00-7dc6ab74a98f');\n",
              "          const dataTable =\n",
              "            await google.colab.kernel.invokeFunction('convertToInteractive',\n",
              "                                                     [key], {});\n",
              "          if (!dataTable) return;\n",
              "\n",
              "          const docLinkHtml = 'Like what you see? Visit the ' +\n",
              "            '<a target=\"_blank\" href=https://colab.research.google.com/notebooks/data_table.ipynb>data table notebook</a>'\n",
              "            + ' to learn more about interactive tables.';\n",
              "          element.innerHTML = '';\n",
              "          dataTable['output_type'] = 'display_data';\n",
              "          await google.colab.output.renderOutput(dataTable, element);\n",
              "          const docLink = document.createElement('div');\n",
              "          docLink.innerHTML = docLinkHtml;\n",
              "          element.appendChild(docLink);\n",
              "        }\n",
              "      </script>\n",
              "    </div>\n",
              "  </div>\n",
              "  "
            ]
          },
          "metadata": {},
          "execution_count": 6
        }
      ]
    },
    {
      "cell_type": "markdown",
      "source": [
        "Much better. I'll plot a few of the indices to get a feel for the data. I chose close prices on a whim, seemed as good as any other feature."
      ],
      "metadata": {
        "id": "T8xIKwozkQUn"
      }
    },
    {
      "cell_type": "markdown",
      "source": [
        "## NA Check"
      ],
      "metadata": {
        "id": "jgIJXA_zzfZK"
      }
    },
    {
      "cell_type": "code",
      "source": [
        "df.isna().sum()"
      ],
      "metadata": {
        "colab": {
          "base_uri": "https://localhost:8080/"
        },
        "id": "QjaKgM4TzhmQ",
        "outputId": "bdf5e5cb-d11d-4c1a-ff07-bcdcc2e65865"
      },
      "execution_count": null,
      "outputs": [
        {
          "output_type": "execute_result",
          "data": {
            "text/plain": [
              "Date        0\n",
              "Open        0\n",
              "High        0\n",
              "Low         0\n",
              "Close       0\n",
              "Volume      0\n",
              "Name        0\n",
              "DaysTime    0\n",
              "dtype: int64"
            ]
          },
          "metadata": {},
          "execution_count": 7
        }
      ]
    },
    {
      "cell_type": "code",
      "source": [
        "indices = {}\n",
        "indices[\"AAPL\"] = df[df[\"Name\"]==\"AAPL\"]\n",
        "indices[\"AMZN\"] = df[df[\"Name\"]==\"AMZN\"]\n",
        "indices[\"GOOGL\"] = df[df[\"Name\"]==\"GOOGL\"]\n",
        "indices[\"MSFT\"] = df[df[\"Name\"]==\"MSFT\"]\n",
        "indices[\"VZ\"] = df[df[\"Name\"]==\"VZ\"]"
      ],
      "metadata": {
        "id": "nGEbNaLEWyYs"
      },
      "execution_count": null,
      "outputs": []
    },
    {
      "cell_type": "code",
      "source": [
        "for index in indices:\n",
        "  plt.plot(indices[index].DaysTime,indices[index].Close,label=index)\n",
        "plt.legend()"
      ],
      "metadata": {
        "colab": {
          "base_uri": "https://localhost:8080/",
          "height": 282
        },
        "id": "0ZFwMVgzXnKD",
        "outputId": "96f09d79-479d-49d4-f2ba-40b2c312763e"
      },
      "execution_count": null,
      "outputs": [
        {
          "output_type": "execute_result",
          "data": {
            "text/plain": [
              "<matplotlib.legend.Legend at 0x7fd62d666850>"
            ]
          },
          "metadata": {},
          "execution_count": 9
        },
        {
          "output_type": "display_data",
          "data": {
            "text/plain": [
              "<Figure size 432x288 with 1 Axes>"
            ],
            "image/png": "[encoded data removed]"
          },
          "metadata": {
            "needs_background": "light"
          }
        }
      ]
    },
    {
      "cell_type": "markdown",
      "source": [
        "Adding in the rest of the stocks..."
      ],
      "metadata": {
        "id": "9-4IA8-4za-j"
      }
    },
    {
      "cell_type": "code",
      "source": [
        "stonks = ['MMM', 'AXP', 'BA', 'CAT', 'CVX', 'CSCO', 'KO', 'DIS', 'XOM', 'GE',\n",
        "      'GS', 'HD', 'IBM', 'INTC', 'JNJ', 'JPM', 'MCD', 'MRK', 'NKE', 'PFE',\n",
        "      'PG', 'TRV', 'UTX', 'UNH', 'WMT', 'AABA']\n",
        "for stonk in stonks:\n",
        "  indices[stonk] = df[df[\"Name\"]==stonk]"
      ],
      "metadata": {
        "id": "kpn86MznCFYq"
      },
      "execution_count": null,
      "outputs": []
    },
    {
      "cell_type": "markdown",
      "source": [
        "After some testing, I have removed Amazon and Google as their values are well above the others and lead to larger errors."
      ],
      "metadata": {
        "id": "k2bxEoZB1bFb"
      }
    },
    {
      "cell_type": "code",
      "source": [
        "indices.pop(\"AMZN\")\n",
        "indices.pop(\"GOOGL\")"
      ],
      "metadata": {
        "colab": {
          "base_uri": "https://localhost:8080/",
          "height": 424
        },
        "id": "Q3Xos4ke-fga",
        "outputId": "8d43b6b2-ae4b-4724-efdc-a8333d249f53"
      },
      "execution_count": null,
      "outputs": [
        {
          "output_type": "execute_result",
          "data": {
            "text/plain": [
              "             Date     Open     High      Low    Close    Volume   Name  \\\n",
              "84555  2006-01-03   211.47   218.05   209.32   217.83  13137450  GOOGL   \n",
              "84556  2006-01-04   222.17   224.70   220.09   222.84  15292353  GOOGL   \n",
              "84557  2006-01-05   223.22   226.00   220.97   225.85  10815661  GOOGL   \n",
              "84558  2006-01-06   228.66   235.49   226.85   233.06  17759521  GOOGL   \n",
              "84559  2006-01-09   233.44   236.94   230.70   233.68  12795837  GOOGL   \n",
              "...           ...      ...      ...      ...      ...       ...    ...   \n",
              "87569  2017-12-22  1070.00  1071.72  1067.64  1068.86    889446  GOOGL   \n",
              "87570  2017-12-26  1068.64  1068.86  1058.64  1065.85    918767  GOOGL   \n",
              "87571  2017-12-27  1066.60  1068.27  1058.38  1060.20   1116203  GOOGL   \n",
              "87572  2017-12-28  1062.25  1064.84  1053.38  1055.95    994249  GOOGL   \n",
              "87573  2017-12-29  1055.49  1058.05  1052.70  1053.40   1180340  GOOGL   \n",
              "\n",
              "       DaysTime  \n",
              "84555         0  \n",
              "84556         1  \n",
              "84557         2  \n",
              "84558         3  \n",
              "84559         6  \n",
              "...         ...  \n",
              "87569      4371  \n",
              "87570      4375  \n",
              "87571      4376  \n",
              "87572      4377  \n",
              "87573      4378  \n",
              "\n",
              "[3019 rows x 8 columns]"
            ],
            "text/html": [
              "\n",
              "  <div id=\"df-7def4d77-7760-4b55-a224-3045e27549d2\">\n",
              "    <div class=\"colab-df-container\">\n",
              "      <div>\n",
              "<style scoped>\n",
              "    .dataframe tbody tr th:only-of-type {\n",
              "        vertical-align: middle;\n",
              "    }\n",
              "\n",
              "    .dataframe tbody tr th {\n",
              "        vertical-align: top;\n",
              "    }\n",
              "\n",
              "    .dataframe thead th {\n",
              "        text-align: right;\n",
              "    }\n",
              "</style>\n",
              "<table border=\"1\" class=\"dataframe\">\n",
              "  <thead>\n",
              "    <tr style=\"text-align: right;\">\n",
              "      <th></th>\n",
              "      <th>Date</th>\n",
              "      <th>Open</th>\n",
              "      <th>High</th>\n",
              "      <th>Low</th>\n",
              "      <th>Close</th>\n",
              "      <th>Volume</th>\n",
              "      <th>Name</th>\n",
              "      <th>DaysTime</th>\n",
              "    </tr>\n",
              "  </thead>\n",
              "  <tbody>\n",
              "    <tr>\n",
              "      <th>84555</th>\n",
              "      <td>2006-01-03</td>\n",
              "      <td>211.47</td>\n",
              "      <td>218.05</td>\n",
              "      <td>209.32</td>\n",
              "      <td>217.83</td>\n",
              "      <td>13137450</td>\n",
              "      <td>GOOGL</td>\n",
              "      <td>0</td>\n",
              "    </tr>\n",
              "    <tr>\n",
              "      <th>84556</th>\n",
              "      <td>2006-01-04</td>\n",
              "      <td>222.17</td>\n",
              "      <td>224.70</td>\n",
              "      <td>220.09</td>\n",
              "      <td>222.84</td>\n",
              "      <td>15292353</td>\n",
              "      <td>GOOGL</td>\n",
              "      <td>1</td>\n",
              "    </tr>\n",
              "    <tr>\n",
              "      <th>84557</th>\n",
              "      <td>2006-01-05</td>\n",
              "      <td>223.22</td>\n",
              "      <td>226.00</td>\n",
              "      <td>220.97</td>\n",
              "      <td>225.85</td>\n",
              "      <td>10815661</td>\n",
              "      <td>GOOGL</td>\n",
              "      <td>2</td>\n",
              "    </tr>\n",
              "    <tr>\n",
              "      <th>84558</th>\n",
              "      <td>2006-01-06</td>\n",
              "      <td>228.66</td>\n",
              "      <td>235.49</td>\n",
              "      <td>226.85</td>\n",
              "      <td>233.06</td>\n",
              "      <td>17759521</td>\n",
              "      <td>GOOGL</td>\n",
              "      <td>3</td>\n",
              "    </tr>\n",
              "    <tr>\n",
              "      <th>84559</th>\n",
              "      <td>2006-01-09</td>\n",
              "      <td>233.44</td>\n",
              "      <td>236.94</td>\n",
              "      <td>230.70</td>\n",
              "      <td>233.68</td>\n",
              "      <td>12795837</td>\n",
              "      <td>GOOGL</td>\n",
              "      <td>6</td>\n",
              "    </tr>\n",
              "    <tr>\n",
              "      <th>...</th>\n",
              "      <td>...</td>\n",
              "      <td>...</td>\n",
              "      <td>...</td>\n",
              "      <td>...</td>\n",
              "      <td>...</td>\n",
              "      <td>...</td>\n",
              "      <td>...</td>\n",
              "      <td>...</td>\n",
              "    </tr>\n",
              "    <tr>\n",
              "      <th>87569</th>\n",
              "      <td>2017-12-22</td>\n",
              "      <td>1070.00</td>\n",
              "      <td>1071.72</td>\n",
              "      <td>1067.64</td>\n",
              "      <td>1068.86</td>\n",
              "      <td>889446</td>\n",
              "      <td>GOOGL</td>\n",
              "      <td>4371</td>\n",
              "    </tr>\n",
              "    <tr>\n",
              "      <th>87570</th>\n",
              "      <td>2017-12-26</td>\n",
              "      <td>1068.64</td>\n",
              "      <td>1068.86</td>\n",
              "      <td>1058.64</td>\n",
              "      <td>1065.85</td>\n",
              "      <td>918767</td>\n",
              "      <td>GOOGL</td>\n",
              "      <td>4375</td>\n",
              "    </tr>\n",
              "    <tr>\n",
              "      <th>87571</th>\n",
              "      <td>2017-12-27</td>\n",
              "      <td>1066.60</td>\n",
              "      <td>1068.27</td>\n",
              "      <td>1058.38</td>\n",
              "      <td>1060.20</td>\n",
              "      <td>1116203</td>\n",
              "      <td>GOOGL</td>\n",
              "      <td>4376</td>\n",
              "    </tr>\n",
              "    <tr>\n",
              "      <th>87572</th>\n",
              "      <td>2017-12-28</td>\n",
              "      <td>1062.25</td>\n",
              "      <td>1064.84</td>\n",
              "      <td>1053.38</td>\n",
              "      <td>1055.95</td>\n",
              "      <td>994249</td>\n",
              "      <td>GOOGL</td>\n",
              "      <td>4377</td>\n",
              "    </tr>\n",
              "    <tr>\n",
              "      <th>87573</th>\n",
              "      <td>2017-12-29</td>\n",
              "      <td>1055.49</td>\n",
              "      <td>1058.05</td>\n",
              "      <td>1052.70</td>\n",
              "      <td>1053.40</td>\n",
              "      <td>1180340</td>\n",
              "      <td>GOOGL</td>\n",
              "      <td>4378</td>\n",
              "    </tr>\n",
              "  </tbody>\n",
              "</table>\n",
              "<p>3019 rows × 8 columns</p>\n",
              "</div>\n",
              "      <button class=\"colab-df-convert\" onclick=\"convertToInteractive('df-7def4d77-7760-4b55-a224-3045e27549d2')\"\n",
              "              title=\"Convert this dataframe to an interactive table.\"\n",
              "              style=\"display:none;\">\n",
              "        \n",
              "  <svg xmlns=\"http://www.w3.org/2000/svg\" height=\"24px\"viewBox=\"0 0 24 24\"\n",
              "       width=\"24px\">\n",
              "    <path d=\"M0 0h24v24H0V0z\" fill=\"none\"/>\n",
              "    <path d=\"M18.56 5.44l.94 2.06.94-2.06 2.06-.94-2.06-.94-.94-2.06-.94 2.06-2.06.94zm-11 1L8.5 8.5l.94-2.06 2.06-.94-2.06-.94L8.5 2.5l-.94 2.06-2.06.94zm10 10l.94 2.06.94-2.06 2.06-.94-2.06-.94-.94-2.06-.94 2.06-2.06.94z\"/><path d=\"M17.41 7.96l-1.37-1.37c-.4-.4-.92-.59-1.43-.59-.52 0-1.04.2-1.43.59L10.3 9.45l-7.72 7.72c-.78.78-.78 2.05 0 2.83L4 21.41c.39.39.9.59 1.41.59.51 0 1.02-.2 1.41-.59l7.78-7.78 2.81-2.81c.8-.78.8-2.07 0-2.86zM5.41 20L4 18.59l7.72-7.72 1.47 1.35L5.41 20z\"/>\n",
              "  </svg>\n",
              "      </button>\n",
              "      \n",
              "  <style>\n",
              "    .colab-df-container {\n",
              "      display:flex;\n",
              "      flex-wrap:wrap;\n",
              "      gap: 12px;\n",
              "    }\n",
              "\n",
              "    .colab-df-convert {\n",
              "      background-color: #E8F0FE;\n",
              "      border: none;\n",
              "      border-radius: 50%;\n",
              "      cursor: pointer;\n",
              "      display: none;\n",
              "      fill: #1967D2;\n",
              "      height: 32px;\n",
              "      padding: 0 0 0 0;\n",
              "      width: 32px;\n",
              "    }\n",
              "\n",
              "    .colab-df-convert:hover {\n",
              "      background-color: #E2EBFA;\n",
              "      box-shadow: 0px 1px 2px rgba(60, 64, 67, 0.3), 0px 1px 3px 1px rgba(60, 64, 67, 0.15);\n",
              "      fill: #174EA6;\n",
              "    }\n",
              "\n",
              "    [theme=dark] .colab-df-convert {\n",
              "      background-color: #3B4455;\n",
              "      fill: #D2E3FC;\n",
              "    }\n",
              "\n",
              "    [theme=dark] .colab-df-convert:hover {\n",
              "      background-color: #434B5C;\n",
              "      box-shadow: 0px 1px 3px 1px rgba(0, 0, 0, 0.15);\n",
              "      filter: drop-shadow(0px 1px 2px rgba(0, 0, 0, 0.3));\n",
              "      fill: #FFFFFF;\n",
              "    }\n",
              "  </style>\n",
              "\n",
              "      <script>\n",
              "        const buttonEl =\n",
              "          document.querySelector('#df-7def4d77-7760-4b55-a224-3045e27549d2 button.colab-df-convert');\n",
              "        buttonEl.style.display =\n",
              "          google.colab.kernel.accessAllowed ? 'block' : 'none';\n",
              "\n",
              "        async function convertToInteractive(key) {\n",
              "          const element = document.querySelector('#df-7def4d77-7760-4b55-a224-3045e27549d2');\n",
              "          const dataTable =\n",
              "            await google.colab.kernel.invokeFunction('convertToInteractive',\n",
              "                                                     [key], {});\n",
              "          if (!dataTable) return;\n",
              "\n",
              "          const docLinkHtml = 'Like what you see? Visit the ' +\n",
              "            '<a target=\"_blank\" href=https://colab.research.google.com/notebooks/data_table.ipynb>data table notebook</a>'\n",
              "            + ' to learn more about interactive tables.';\n",
              "          element.innerHTML = '';\n",
              "          dataTable['output_type'] = 'display_data';\n",
              "          await google.colab.output.renderOutput(dataTable, element);\n",
              "          const docLink = document.createElement('div');\n",
              "          docLink.innerHTML = docLinkHtml;\n",
              "          element.appendChild(docLink);\n",
              "        }\n",
              "      </script>\n",
              "    </div>\n",
              "  </div>\n",
              "  "
            ]
          },
          "metadata": {},
          "execution_count": 11
        }
      ]
    },
    {
      "cell_type": "code",
      "source": [
        "for index in indices:\n",
        "  plt.plot(indices[index].DaysTime,indices[index].Close,label=index)\n",
        "plt.legend()"
      ],
      "metadata": {
        "colab": {
          "base_uri": "https://localhost:8080/",
          "height": 491
        },
        "id": "Qx_OM_0p0IaY",
        "outputId": "898b5717-2fc7-4c84-83b2-f30365f25016"
      },
      "execution_count": null,
      "outputs": [
        {
          "output_type": "execute_result",
          "data": {
            "text/plain": [
              "<matplotlib.legend.Legend at 0x7fd62d14e6d0>"
            ]
          },
          "metadata": {},
          "execution_count": 12
        },
        {
          "output_type": "display_data",
          "data": {
            "text/plain": [
              "<Figure size 432x288 with 1 Axes>"
            ],
            "image/png": "[encoded data removed]"
          },
          "metadata": {
            "needs_background": "light"
          }
        }
      ]
    },
    {
      "cell_type": "code",
      "source": [
        "fig, ax = plt.subplots(figsize=(10,8))\n",
        "sns.heatmap(df.corr().abs(),annot=False, ax=ax, cmap='rocket_r')"
      ],
      "metadata": {
        "colab": {
          "base_uri": "https://localhost:8080/",
          "height": 504
        },
        "id": "h8kHeIDw8klR",
        "outputId": "d17df4fd-af3e-4237-ecb0-9d0bf3f332aa"
      },
      "execution_count": null,
      "outputs": [
        {
          "output_type": "execute_result",
          "data": {
            "text/plain": [
              "<matplotlib.axes._subplots.AxesSubplot at 0x7fd62cfea1d0>"
            ]
          },
          "metadata": {},
          "execution_count": 13
        },
        {
          "output_type": "display_data",
          "data": {
            "text/plain": [
              "<Figure size 720x576 with 2 Axes>"
            ],
            "image/png": "[encoded data removed]"
          },
          "metadata": {
            "needs_background": "light"
          }
        }
      ]
    },
    {
      "cell_type": "markdown",
      "source": [
        "I'm not really sure what I expected here, obviously the prices are going to be highly correlated to each other with some relation to the daystime as the stock prices increase over this period."
      ],
      "metadata": {
        "id": "AefhyXPOzBD8"
      }
    },
    {
      "cell_type": "markdown",
      "source": [
        "# The Model"
      ],
      "metadata": {
        "id": "KDymJfbo7hdP"
      }
    },
    {
      "cell_type": "code",
      "source": [
        "def proc_data(source,days):\n",
        "  size = source.shape[0]-days\n",
        "  train_size = int(0.8*size)\n",
        "  valid_size = int(0.1*size)\n",
        "  test_size = int(0.1*size)\n",
        "  valid_list = source[:valid_size]\n",
        "  test_list = source[valid_size:valid_size+test_size]\n",
        "  train_list = source[valid_size+test_size:valid_size+test_size+train_size]\n",
        "  x_train = np.zeros(shape=(len(train_list)+1-days,days))\n",
        "  x_valid = np.zeros(shape=(len(valid_list)+1-days,days))\n",
        "  x_test = np.zeros(shape=(len(test_list)+1-days,days))\n",
        "  y_train = np.zeros(shape=(x_train.shape[0]))\n",
        "  y_valid = np.zeros(shape=(x_valid.shape[0]))\n",
        "  y_test = np.zeros(shape=(x_test.shape[0]))\n",
        "  t = 0\n",
        "  tt = 0\n",
        "  for i in range(x_test.shape[0]):\n",
        "    for j in range(days):\n",
        "      x_test[i][j] = source[i+j]\n",
        "    y_test[i] = source[days+i]\n",
        "    t+=1\n",
        "  t+=9\n",
        "  for i in range(x_valid.shape[0]):\n",
        "    for j in range(days):\n",
        "      x_valid[i][j] = source[t+i+j]\n",
        "    y_valid[i] = source[days+t+i]\n",
        "    tt+=1\n",
        "  tt+=9\n",
        "  for i in range(x_train.shape[0]):\n",
        "    for j in range(days):\n",
        "      x_train[i][j] = source[t+tt+i+j]\n",
        "    y_train[i] = source[days+t+tt+i]\n",
        "  return x_train, x_valid, x_test, y_train, y_valid, y_test"
      ],
      "metadata": {
        "id": "MTM7-pThp02x"
      },
      "execution_count": null,
      "outputs": []
    },
    {
      "cell_type": "code",
      "source": [
        "class Trainer:\n",
        "  def __init__(self,names_dict):\n",
        "    self.names_dict = names_dict\n",
        "    self.x_train = None\n",
        "    self.x_valid = None\n",
        "    self.x_test = None\n",
        "    self.y_train = None\n",
        "    self.y_valid = None\n",
        "    self.y_test = None\n",
        "    self.model = None\n",
        "    self.max = None\n",
        "\n",
        "  def get_max(self):\n",
        "    if self.max is None:\n",
        "      self.max = 0\n",
        "      for key in self.names_dict:\n",
        "        self.max = max([max(self.names_dict[key]),self.max])\n",
        "\n",
        "  def separate_all(self):\n",
        "    self.get_max()\n",
        "    for key in self.names_dict:\n",
        "      x = self.names_dict[key]/self.max\n",
        "      x_train, x_valid, x_test, y_train, y_valid, y_test = separate(x)\n",
        "      if self.x_train is None:\n",
        "        self.x_train = x_train\n",
        "        self.x_valid = x_valid\n",
        "        self.x_test = x_test\n",
        "        self.y_train = y_train\n",
        "        self.y_valid = y_valid\n",
        "        self.y_test = y_test\n",
        "      else:\n",
        "        self.x_train = np.concatenate((self.x_train,x_train))\n",
        "        self.x_valid = np.concatenate((self.x_valid,x_valid))\n",
        "        self.x_test = np.concatenate((self.x_test,x_test))\n",
        "        self.y_train = np.concatenate((self.y_train,y_train))\n",
        "        self.y_valid = np.concatenate((self.y_valid,y_valid))\n",
        "        self.y_test = np.concatenate((self.y_test,y_test))\n",
        "    \n",
        "  def create_model(self):\n",
        "    self.model = keras.Sequential()\n",
        "    self.model.add(layers.SimpleRNN(4, input_shape=(10,1), activation='tanh'))\n",
        "    self.model.add(layers.Dense(1))\n",
        "    print(self.model.summary())\n",
        "    self.model.compile(\n",
        "      loss=\"mean_squared_error\",\n",
        "      optimizer=\"adamax\"\n",
        "    )\n",
        "\n",
        "  def create_lstm_model(self):\n",
        "    self.model = keras.Sequential()\n",
        "    self.model.add(layers.LSTM(4, input_shape=(10,1), activation='tanh'))\n",
        "    self.model.add(layers.Dense(1))\n",
        "    print(self.model.summary())\n",
        "    self.model.compile(\n",
        "      loss=\"mean_squared_error\",\n",
        "      optimizer=\"adamax\"\n",
        "    )\n",
        "  \n",
        "  def create_gru_model(self):\n",
        "    self.model = keras.Sequential()\n",
        "    self.model.add(layers.GRU(4, input_shape=(10,1), activation='tanh'))\n",
        "    self.model.add(layers.Dense(1))\n",
        "    print(self.model.summary())\n",
        "    self.model.compile(\n",
        "      loss=\"mean_squared_error\",\n",
        "      optimizer=\"adamax\"\n",
        "    )\n",
        "\n",
        "  def train(self, epochs=10, batch_size=32, show_graph=True):\n",
        "    his = self.model.fit(\n",
        "      self.x_train, self.y_train, validation_data=(self.x_valid, self.y_valid), batch_size=batch_size, epochs=epochs\n",
        "    )\n",
        "    if show_graph:\n",
        "      plt.plot(his.history['loss'])\n",
        "      plt.plot(his.history['val_loss'])\n",
        "      plt.title('model loss')\n",
        "      plt.ylabel('loss')\n",
        "      plt.xlabel('epoch')\n",
        "      plt.legend(['loss','val_loss'])\n",
        "      plt.show()\n",
        "    predicted_prices = self.model.predict(self.x_valid)\n",
        "    return get_avg_err(predicted_prices,self.y_valid)\n",
        "\n",
        "  def test(self):\n",
        "    predicted_prices = self.model.predict(self.x_test)\n",
        "    plt.plot(self.y_test*self.max, color='black', label=\"Actual\")\n",
        "    plt.plot(predicted_prices*self.max, color= 'green', label=\"Predicted\")\n",
        "    plt.title(\"Stonks\")\n",
        "    plt.xlabel(\"Time\")\n",
        "    plt.ylabel(\"Price ($)\")\n",
        "    plt.legend()\n",
        "    plt.show()\n",
        "    return get_avg_err(predicted_prices,self.y_test)\n",
        "\n",
        "def get_avg_err(pred,real):\n",
        "  err = 0\n",
        "  for i in range(real.shape[0]):\n",
        "    err += abs(real[i]-pred[i])/real[i]\n",
        "  return err/float(real.shape[0])"
      ],
      "metadata": {
        "id": "qWcaHt_m7II3"
      },
      "execution_count": null,
      "outputs": []
    },
    {
      "cell_type": "code",
      "source": [
        "# Testing the data separator\n",
        "def separate(x):\n",
        "  x_train, x_valid, x_test, y_train, y_valid, y_test = proc_data(x,10)\n",
        "  #print(x)\n",
        "  #print(x_train)\n",
        "  #print(y_train)\n",
        "  #print(x_valid)\n",
        "  #print(y_valid)\n",
        "  #print(x_test.shape)\n",
        "  #print(y_test)\n",
        "  x_train = np.reshape(x_train, (x_train.shape[0], x_train.shape[1], 1))\n",
        "  x_valid = np.reshape(x_valid, (x_valid.shape[0], x_valid.shape[1], 1))\n",
        "  x_test = np.reshape(x_test, (x_test.shape[0], x_test.shape[1], 1))\n",
        "  #print(x_train.shape)\n",
        "  return x_train, x_valid, x_test, y_train, y_valid, y_test\n",
        "\n"
      ],
      "metadata": {
        "id": "RnhOAkzDgipi"
      },
      "execution_count": null,
      "outputs": []
    },
    {
      "cell_type": "code",
      "source": [
        "names_dict = {}\n",
        "for key in indices:\n",
        "  names_dict[key] = indices[key].Close.values\n",
        "trainer = Trainer(names_dict)\n",
        "trainer.separate_all()\n",
        "trainer.create_model()\n",
        "valid_avg_err = trainer.train(epochs=20)[0]\n",
        "test_avg_err = trainer.test()[0]\n",
        "maximum = trainer.max\n",
        "print(\"AVERAGE_ERROR_VALID: {0:.3f}% = ${1:.2f}\".format(valid_avg_err*100.0,valid_avg_err*maximum))\n",
        "print(\"AVERAGE_ERROR_TEST: {0:.3f}% = ${1:.2f}\".format(test_avg_err*100.0,test_avg_err*maximum))"
      ],
      "metadata": {
        "colab": {
          "base_uri": "https://localhost:8080/",
          "height": 1000
        },
        "id": "CWJzLbcg7DSU",
        "outputId": "836f1826-5bea-46d3-fab8-1b91eda35721"
      },
      "execution_count": null,
      "outputs": [
        {
          "output_type": "stream",
          "name": "stdout",
          "text": [
            "Model: \"sequential\"\n",
            "_________________________________________________________________\n",
            " Layer (type)                Output Shape              Param #   \n",
            "=================================================================\n",
            " simple_rnn (SimpleRNN)      (None, 4)                 24        \n",
            "                                                                 \n",
            " dense (Dense)               (None, 1)                 5         \n",
            "                                                                 \n",
            "=================================================================\n",
            "Total params: 29\n",
            "Trainable params: 29\n",
            "Non-trainable params: 0\n",
            "_________________________________________________________________\n",
            "None\n",
            "Epoch 1/20\n",
            "2174/2174 [==============================] - 8s 3ms/step - loss: 8.5372e-04 - val_loss: 1.6364e-04\n",
            "Epoch 2/20\n",
            "2174/2174 [==============================] - 7s 3ms/step - loss: 1.3918e-04 - val_loss: 1.1277e-04\n",
            "Epoch 3/20\n",
            "2174/2174 [==============================] - 7s 3ms/step - loss: 9.4226e-05 - val_loss: 7.8158e-05\n",
            "Epoch 4/20\n",
            "2174/2174 [==============================] - 8s 3ms/step - loss: 6.9325e-05 - val_loss: 5.9982e-05\n",
            "Epoch 5/20\n",
            "2174/2174 [==============================] - 7s 3ms/step - loss: 5.2294e-05 - val_loss: 5.0062e-05\n",
            "Epoch 6/20\n",
            "2174/2174 [==============================] - 7s 3ms/step - loss: 4.1358e-05 - val_loss: 3.9113e-05\n",
            "Epoch 7/20\n",
            "2174/2174 [==============================] - 9s 4ms/step - loss: 3.3842e-05 - val_loss: 3.4133e-05\n",
            "Epoch 8/20\n",
            "2174/2174 [==============================] - 8s 3ms/step - loss: 2.8392e-05 - val_loss: 2.9042e-05\n",
            "Epoch 9/20\n",
            "2174/2174 [==============================] - 7s 3ms/step - loss: 2.4712e-05 - val_loss: 2.5903e-05\n",
            "Epoch 10/20\n",
            "2174/2174 [==============================] - 8s 4ms/step - loss: 2.2104e-05 - val_loss: 2.4167e-05\n",
            "Epoch 11/20\n",
            "2174/2174 [==============================] - 8s 4ms/step - loss: 2.0132e-05 - val_loss: 2.2895e-05\n",
            "Epoch 12/20\n",
            "2174/2174 [==============================] - 7s 3ms/step - loss: 1.8896e-05 - val_loss: 2.1504e-05\n",
            "Epoch 13/20\n",
            "2174/2174 [==============================] - 7s 3ms/step - loss: 1.8141e-05 - val_loss: 2.1467e-05\n",
            "Epoch 14/20\n",
            "2174/2174 [==============================] - 7s 3ms/step - loss: 1.7518e-05 - val_loss: 1.9914e-05\n",
            "Epoch 15/20\n",
            "2174/2174 [==============================] - 7s 3ms/step - loss: 1.7115e-05 - val_loss: 2.0718e-05\n",
            "Epoch 16/20\n",
            "2174/2174 [==============================] - 7s 3ms/step - loss: 1.6783e-05 - val_loss: 1.9480e-05\n",
            "Epoch 17/20\n",
            "2174/2174 [==============================] - 7s 3ms/step - loss: 1.6753e-05 - val_loss: 2.0722e-05\n",
            "Epoch 18/20\n",
            "2174/2174 [==============================] - 7s 3ms/step - loss: 1.6649e-05 - val_loss: 1.9492e-05\n",
            "Epoch 19/20\n",
            "2174/2174 [==============================] - 7s 3ms/step - loss: 1.6456e-05 - val_loss: 1.9469e-05\n",
            "Epoch 20/20\n",
            "2174/2174 [==============================] - 8s 4ms/step - loss: 1.6407e-05 - val_loss: 1.9398e-05\n"
          ]
        },
        {
          "output_type": "display_data",
          "data": {
            "text/plain": [
              "<Figure size 432x288 with 1 Axes>"
            ],
            "image/png": "[encoded data removed]"
          },
          "metadata": {
            "needs_background": "light"
          }
        },
        {
          "output_type": "stream",
          "name": "stdout",
          "text": [
            "264/264 [==============================] - 1s 2ms/step\n",
            "264/264 [==============================] - 1s 2ms/step\n"
          ]
        },
        {
          "output_type": "display_data",
          "data": {
            "text/plain": [
              "<Figure size 432x288 with 1 Axes>"
            ],
            "image/png": "[encoded data removed]"
          },
          "metadata": {
            "needs_background": "light"
          }
        },
        {
          "output_type": "stream",
          "name": "stdout",
          "text": [
            "AVERAGE_ERROR_VALID: 1.312% = $3.91\n",
            "AVERAGE_ERROR_TEST: 1.000% = $2.98\n"
          ]
        }
      ]
    },
    {
      "cell_type": "markdown",
      "source": [
        "## Better than I would have figured\n",
        "\n",
        "I didn't come into this task with much hope for a useful model coming out the other side, but this is actually better than I had hoped for. It certainly wouldn't be making anybody any money, but its predictions aren't ludicrous, so that's a start."
      ],
      "metadata": {
        "id": "mTLgaVmNS5wm"
      }
    },
    {
      "cell_type": "markdown",
      "source": [
        "# LSTM Time"
      ],
      "metadata": {
        "id": "vSpDa3z7UTW2"
      }
    },
    {
      "cell_type": "code",
      "source": [
        "lstm = Trainer(names_dict)\n",
        "lstm.separate_all()\n",
        "lstm.create_lstm_model()\n",
        "valid_avg_err = lstm.train(epochs=20)[0]\n",
        "test_avg_err = lstm.test()[0]\n",
        "maximum = lstm.max\n",
        "print(\"AVERAGE_ERROR_VALID: {0:.3f}% = ${1:.2f}\".format(valid_avg_err*100.0,valid_avg_err*maximum))\n",
        "print(\"AVERAGE_ERROR_TEST: {0:.3f}% = ${1:.2f}\".format(test_avg_err*100.0,test_avg_err*maximum))"
      ],
      "metadata": {
        "colab": {
          "base_uri": "https://localhost:8080/",
          "height": 1000
        },
        "id": "dr2vOZR_VIRh",
        "outputId": "dc7bfa59-7345-491a-fe70-b27e83dee9ae"
      },
      "execution_count": null,
      "outputs": [
        {
          "output_type": "stream",
          "name": "stdout",
          "text": [
            "Model: \"sequential_1\"\n",
            "_________________________________________________________________\n",
            " Layer (type)                Output Shape              Param #   \n",
            "=================================================================\n",
            " lstm (LSTM)                 (None, 4)                 96        \n",
            "                                                                 \n",
            " dense_1 (Dense)             (None, 1)                 5         \n",
            "                                                                 \n",
            "=================================================================\n",
            "Total params: 101\n",
            "Trainable params: 101\n",
            "Non-trainable params: 0\n",
            "_________________________________________________________________\n",
            "None\n",
            "Epoch 1/20\n",
            "2174/2174 [==============================] - 15s 6ms/step - loss: 0.0090 - val_loss: 1.4654e-04\n",
            "Epoch 2/20\n",
            "2174/2174 [==============================] - 13s 6ms/step - loss: 7.6927e-05 - val_loss: 6.1636e-05\n",
            "Epoch 3/20\n",
            "2174/2174 [==============================] - 12s 6ms/step - loss: 4.8191e-05 - val_loss: 5.5734e-05\n",
            "Epoch 4/20\n",
            "2174/2174 [==============================] - 13s 6ms/step - loss: 4.0928e-05 - val_loss: 4.5013e-05\n",
            "Epoch 5/20\n",
            "2174/2174 [==============================] - 13s 6ms/step - loss: 3.4790e-05 - val_loss: 3.9351e-05\n",
            "Epoch 6/20\n",
            "2174/2174 [==============================] - 13s 6ms/step - loss: 3.0349e-05 - val_loss: 3.5648e-05\n",
            "Epoch 7/20\n",
            "2174/2174 [==============================] - 13s 6ms/step - loss: 2.7184e-05 - val_loss: 3.0824e-05\n",
            "Epoch 8/20\n",
            "2174/2174 [==============================] - 15s 7ms/step - loss: 2.4722e-05 - val_loss: 2.8734e-05\n",
            "Epoch 9/20\n",
            "2174/2174 [==============================] - 13s 6ms/step - loss: 2.3058e-05 - val_loss: 2.6995e-05\n",
            "Epoch 10/20\n",
            "2174/2174 [==============================] - 13s 6ms/step - loss: 2.1749e-05 - val_loss: 2.7169e-05\n",
            "Epoch 11/20\n",
            "2174/2174 [==============================] - 13s 6ms/step - loss: 2.0921e-05 - val_loss: 2.5612e-05\n",
            "Epoch 12/20\n",
            "2174/2174 [==============================] - 13s 6ms/step - loss: 2.0049e-05 - val_loss: 2.4220e-05\n",
            "Epoch 13/20\n",
            "2174/2174 [==============================] - 13s 6ms/step - loss: 1.9284e-05 - val_loss: 2.2625e-05\n",
            "Epoch 14/20\n",
            "2174/2174 [==============================] - 13s 6ms/step - loss: 1.8712e-05 - val_loss: 2.1476e-05\n",
            "Epoch 15/20\n",
            "2174/2174 [==============================] - 14s 6ms/step - loss: 1.8205e-05 - val_loss: 2.1154e-05\n",
            "Epoch 16/20\n",
            "2174/2174 [==============================] - 13s 6ms/step - loss: 1.7776e-05 - val_loss: 2.1378e-05\n",
            "Epoch 17/20\n",
            "2174/2174 [==============================] - 13s 6ms/step - loss: 1.7340e-05 - val_loss: 1.9958e-05\n",
            "Epoch 18/20\n",
            "2174/2174 [==============================] - 13s 6ms/step - loss: 1.7058e-05 - val_loss: 2.0224e-05\n",
            "Epoch 19/20\n",
            "2174/2174 [==============================] - 13s 6ms/step - loss: 1.6709e-05 - val_loss: 1.9516e-05\n",
            "Epoch 20/20\n",
            "2174/2174 [==============================] - 13s 6ms/step - loss: 1.6509e-05 - val_loss: 1.9162e-05\n"
          ]
        },
        {
          "output_type": "display_data",
          "data": {
            "text/plain": [
              "<Figure size 432x288 with 1 Axes>"
            ],
            "image/png": "[encoded data removed]"
          },
          "metadata": {
            "needs_background": "light"
          }
        },
        {
          "output_type": "stream",
          "name": "stdout",
          "text": [
            "264/264 [==============================] - 1s 2ms/step\n",
            "264/264 [==============================] - 1s 2ms/step\n"
          ]
        },
        {
          "output_type": "display_data",
          "data": {
            "text/plain": [
              "<Figure size 432x288 with 1 Axes>"
            ],
            "image/png": "[encoded data removed]"
          },
          "metadata": {
            "needs_background": "light"
          }
        },
        {
          "output_type": "stream",
          "name": "stdout",
          "text": [
            "AVERAGE_ERROR_VALID: 1.337% = $3.98\n",
            "AVERAGE_ERROR_TEST: 1.065% = $3.17\n"
          ]
        }
      ]
    },
    {
      "cell_type": "markdown",
      "source": [
        "# GRU"
      ],
      "metadata": {
        "id": "lDicpl4HZtsN"
      }
    },
    {
      "cell_type": "code",
      "source": [
        "gru = Trainer(names_dict)\n",
        "gru.separate_all()\n",
        "gru.create_gru_model()\n",
        "valid_avg_err = gru.train(epochs=20)[0]\n",
        "test_avg_err = gru.test()[0]\n",
        "maximum = gru.max\n",
        "print(\"AVERAGE_ERROR_VALID: {0:.3f}% = ${1:.2f}\".format(valid_avg_err*100.0,valid_avg_err*maximum))\n",
        "print(\"AVERAGE_ERROR_TEST: {0:.3f}% = ${1:.2f}\".format(test_avg_err*100.0,test_avg_err*maximum))"
      ],
      "metadata": {
        "colab": {
          "base_uri": "https://localhost:8080/",
          "height": 1000
        },
        "id": "79eYliMOZvCB",
        "outputId": "3adaaf07-2360-4c1b-e778-840c6e8eccdf"
      },
      "execution_count": null,
      "outputs": [
        {
          "output_type": "stream",
          "name": "stdout",
          "text": [
            "Model: \"sequential_2\"\n",
            "_________________________________________________________________\n",
            " Layer (type)                Output Shape              Param #   \n",
            "=================================================================\n",
            " gru (GRU)                   (None, 4)                 84        \n",
            "                                                                 \n",
            " dense_2 (Dense)             (None, 1)                 5         \n",
            "                                                                 \n",
            "=================================================================\n",
            "Total params: 89\n",
            "Trainable params: 89\n",
            "Non-trainable params: 0\n",
            "_________________________________________________________________\n",
            "None\n",
            "Epoch 1/20\n",
            "2174/2174 [==============================] - 17s 7ms/step - loss: 0.0129 - val_loss: 2.9708e-05\n",
            "Epoch 2/20\n",
            "2174/2174 [==============================] - 15s 7ms/step - loss: 2.5797e-05 - val_loss: 2.5503e-05\n",
            "Epoch 3/20\n",
            "2174/2174 [==============================] - 15s 7ms/step - loss: 2.1981e-05 - val_loss: 2.2321e-05\n",
            "Epoch 4/20\n",
            "2174/2174 [==============================] - 14s 7ms/step - loss: 1.9544e-05 - val_loss: 2.0772e-05\n",
            "Epoch 5/20\n",
            "2174/2174 [==============================] - 14s 6ms/step - loss: 1.8084e-05 - val_loss: 1.9880e-05\n",
            "Epoch 6/20\n",
            "2174/2174 [==============================] - 15s 7ms/step - loss: 1.7511e-05 - val_loss: 2.0722e-05\n",
            "Epoch 7/20\n",
            "2174/2174 [==============================] - 14s 6ms/step - loss: 1.7139e-05 - val_loss: 1.9189e-05\n",
            "Epoch 8/20\n",
            "2174/2174 [==============================] - 14s 6ms/step - loss: 1.6845e-05 - val_loss: 1.8866e-05\n",
            "Epoch 9/20\n",
            "2174/2174 [==============================] - 14s 6ms/step - loss: 1.6616e-05 - val_loss: 1.8685e-05\n",
            "Epoch 10/20\n",
            "2174/2174 [==============================] - 15s 7ms/step - loss: 1.6462e-05 - val_loss: 1.8817e-05\n",
            "Epoch 11/20\n",
            "2174/2174 [==============================] - 14s 7ms/step - loss: 1.6295e-05 - val_loss: 2.0213e-05\n",
            "Epoch 12/20\n",
            "2174/2174 [==============================] - 14s 6ms/step - loss: 1.6263e-05 - val_loss: 1.8531e-05\n",
            "Epoch 13/20\n",
            "2174/2174 [==============================] - 14s 6ms/step - loss: 1.6222e-05 - val_loss: 1.8403e-05\n",
            "Epoch 14/20\n",
            "2174/2174 [==============================] - 14s 7ms/step - loss: 1.6065e-05 - val_loss: 1.8505e-05\n",
            "Epoch 15/20\n",
            "2174/2174 [==============================] - 14s 6ms/step - loss: 1.6198e-05 - val_loss: 1.8368e-05\n",
            "Epoch 16/20\n",
            "2174/2174 [==============================] - 15s 7ms/step - loss: 1.6046e-05 - val_loss: 1.8527e-05\n",
            "Epoch 17/20\n",
            "2174/2174 [==============================] - 16s 7ms/step - loss: 1.5968e-05 - val_loss: 2.0024e-05\n",
            "Epoch 18/20\n",
            "2174/2174 [==============================] - 14s 6ms/step - loss: 1.5971e-05 - val_loss: 1.8314e-05\n",
            "Epoch 19/20\n",
            "2174/2174 [==============================] - 14s 6ms/step - loss: 1.5903e-05 - val_loss: 1.8328e-05\n",
            "Epoch 20/20\n",
            "2174/2174 [==============================] - 15s 7ms/step - loss: 1.5755e-05 - val_loss: 1.8360e-05\n"
          ]
        },
        {
          "output_type": "display_data",
          "data": {
            "text/plain": [
              "<Figure size 432x288 with 1 Axes>"
            ],
            "image/png": "[encoded data removed]"
          },
          "metadata": {
            "needs_background": "light"
          }
        },
        {
          "output_type": "stream",
          "name": "stdout",
          "text": [
            "264/264 [==============================] - 1s 2ms/step\n",
            "264/264 [==============================] - 1s 2ms/step\n"
          ]
        },
        {
          "output_type": "display_data",
          "data": {
            "text/plain": [
              "<Figure size 432x288 with 1 Axes>"
            ],
            "image/png": "[encoded data removed]"
          },
          "metadata": {
            "needs_background": "light"
          }
        },
        {
          "output_type": "stream",
          "name": "stdout",
          "text": [
            "AVERAGE_ERROR_VALID: 1.328% = $3.96\n",
            "AVERAGE_ERROR_TEST: 1.143% = $3.40\n"
          ]
        }
      ]
    },
    {
      "cell_type": "markdown",
      "source": [
        "# Comparison\n",
        "\n",
        "For this particular task, I'm not seeinga big difference between the different models aside from the number of weights that they are training and the resulting time increases from GRUs and LSTMs. I imagine with a problem that more differentiable inputs than simply past prices (words,etc) that going with an LSTM would have showed itself to be a better option. As it stands for this case however, it just seems to take longer."
      ],
      "metadata": {
        "id": "Et3uy4F3cl5B"
      }
    },
    {
      "cell_type": "markdown",
      "source": [
        "# Viability using a different model\n",
        "\n",
        "I don't imagine that you'd be quite as successful with a \"normal\" neural net for this task. While I suppose that the inputs will create some form of nonlinear equation that points towards the output, I am not confident that a regular neural net would be able to pick it out as well. Since I could turn each of the values in the time-based data into a separate feature (as I am currently only using the one feature), I suppose creating a neural net as deep as my time series input was long could achieve similar functionality to a RNN. That would be a very specialized neural net, however."
      ],
      "metadata": {
        "id": "vP58cgB1k5_T"
      }
    },
    {
      "cell_type": "markdown",
      "source": [
        "# Similarity - PART 2\n",
        "\n",
        "First I'll load in the data from word2vec. I exported the weights of the shakespearean writings produced by word2vec and loaded the metadata and vectors into this workbook."
      ],
      "metadata": {
        "id": "WmASxubgliZx"
      }
    },
    {
      "cell_type": "code",
      "source": [
        "w = open(\"metadata.tsv\",\"r\")\n",
        "v = open(\"vectors.tsv\", \"r\")\n",
        "words = w.read().strip(\"\\n\").split(\"\\n\")\n",
        "vectors = []\n",
        "vect_read = v.read().strip(\"\\n\").split(\"\\n\")\n",
        "words.pop(0)\n",
        "vect_read.pop(0)\n",
        "for vect in vect_read:\n",
        "  vectors.append(np.asarray(vect.split(\"\\t\"),dtype=float))\n",
        "w.close()\n",
        "v.close()\n",
        "dictionary = {}\n",
        "for i in range(len(words)):\n",
        "  dictionary[words[i]] = vectors[i]"
      ],
      "metadata": {
        "id": "2WewMJojkxN3"
      },
      "execution_count": 7,
      "outputs": []
    },
    {
      "cell_type": "markdown",
      "source": [
        "## Cosine Similarity"
      ],
      "metadata": {
        "id": "_sJbb3hPkxu-"
      }
    },
    {
      "cell_type": "code",
      "source": [
        "def cossim(X,Y):\n",
        "  #print(X.shape, Y.shape)\n",
        "  prod = np.dot(X,Y)\n",
        "  #print(prod)\n",
        "  X_sqrd = np.square(X)\n",
        "  newX = np.sqrt(np.sum(X_sqrd))\n",
        "  #print(newX)\n",
        "  Y_sqrd = np.square(Y)\n",
        "  newY = np.sqrt(np.sum(Y_sqrd))\n",
        "  #print(newY)\n",
        "  return prod/(newX*newY)"
      ],
      "metadata": {
        "id": "cJTnv0jckeWI"
      },
      "execution_count": 8,
      "outputs": []
    },
    {
      "cell_type": "code",
      "source": [
        "print(\"Want->Need:\",cossim(dictionary[\"want\"],dictionary[\"need\"]))\n",
        "print(\"Love->Hate:\",cossim(dictionary[\"love\"],dictionary[\"hate\"]))\n",
        "print(\"Hope->Fear:\",cossim(dictionary[\"hope\"],dictionary[\"fear\"]))\n",
        "print(\"King->Queen:\",cossim(dictionary[\"king\"],dictionary[\"queen\"]))\n",
        "print(\"Helm->Fruit:\",cossim(dictionary[\"helm\"],dictionary[\"fruit\"]))\n",
        "print(\"Today->Tomorrow:\",cossim(dictionary[\"today\"],dictionary[\"tomorrow\"]))\n",
        "print(\"Heart->Heart:\",cossim(dictionary[\"heart\"],dictionary[\"heart\"]))"
      ],
      "metadata": {
        "colab": {
          "base_uri": "https://localhost:8080/"
        },
        "id": "HHK0XOiCnPuF",
        "outputId": "9b8f04b2-b08d-4b43-846c-54b742f7ba74"
      },
      "execution_count": 9,
      "outputs": [
        {
          "output_type": "stream",
          "name": "stdout",
          "text": [
            "Want->Need: 0.36037132039835407\n",
            "Love->Hate: 0.12369413535185367\n",
            "Hope->Fear: 0.009107819280739962\n",
            "King->Queen: 0.16943026931786342\n",
            "Helm->Fruit: -0.0922283060437243\n",
            "Today->Tomorrow: -0.02354748161402274\n",
            "Heart->Heart: 0.9999999999999998\n"
          ]
        }
      ]
    },
    {
      "cell_type": "markdown",
      "source": [
        "# Dissimilarity\n",
        "\n",
        "The obvious way to measure dissimilarity would be to simply return -1*cosine similarity. I would figure that the opposite score of the similarity would be the dissimilarity of the 2 given words."
      ],
      "metadata": {
        "id": "gWsK7ArJoBH6"
      }
    },
    {
      "cell_type": "code",
      "source": [
        "def dissim(X,Y):\n",
        "  return -1*cossim(X,Y)"
      ],
      "metadata": {
        "id": "v2kks83CoMiG"
      },
      "execution_count": 10,
      "outputs": []
    },
    {
      "cell_type": "code",
      "source": [
        "print(\"Want->Need:\",dissim(dictionary[\"want\"],dictionary[\"need\"]))\n",
        "print(\"Love->Hate:\",dissim(dictionary[\"love\"],dictionary[\"hate\"]))\n",
        "print(\"Hope->Fear:\",dissim(dictionary[\"hope\"],dictionary[\"fear\"]))\n",
        "print(\"King->Queen:\",dissim(dictionary[\"king\"],dictionary[\"queen\"]))\n",
        "print(\"Helm->Fruit:\",dissim(dictionary[\"helm\"],dictionary[\"fruit\"]))\n",
        "print(\"Today->Tomorrow:\",dissim(dictionary[\"today\"],dictionary[\"tomorrow\"]))\n",
        "print(\"Heart->Heart:\",dissim(dictionary[\"heart\"],dictionary[\"heart\"]))"
      ],
      "metadata": {
        "colab": {
          "base_uri": "https://localhost:8080/"
        },
        "id": "xlYCOecloc9J",
        "outputId": "66176de9-8f3e-421f-e882-d50ea34df245"
      },
      "execution_count": 11,
      "outputs": [
        {
          "output_type": "stream",
          "name": "stdout",
          "text": [
            "Want->Need: -0.36037132039835407\n",
            "Love->Hate: -0.12369413535185367\n",
            "Hope->Fear: -0.009107819280739962\n",
            "King->Queen: -0.16943026931786342\n",
            "Helm->Fruit: 0.0922283060437243\n",
            "Today->Tomorrow: 0.02354748161402274\n",
            "Heart->Heart: -0.9999999999999998\n"
          ]
        }
      ]
    },
    {
      "cell_type": "markdown",
      "source": [
        "# Alternative Dissimilaity\n",
        "\n",
        "An alternate measure for dissimilarity would be the Euclidean Distance between the 2 word vectors. Here lower values are more similar, and higher values are more dissimilar.\n",
        "\n",
        "In hindsight, this doesn't work well, and shouldn't due to the vector nature of the arguments. The cosine similarity is nice because it is able to take into account the orthogonality of the different vectors to find vectors that are related, but not necessarily similar or dissimilar. This distance algorithm on the other hand loses the nuance that the other algorithm operates under. It would seem that my original dissimilarity algorithm, though derivative, does a better job at performing its expected duties."
      ],
      "metadata": {
        "id": "-SDQGbkZt6Wd"
      }
    },
    {
      "cell_type": "code",
      "source": [
        "def altdissim(X,Y):\n",
        "  Z = Y-X\n",
        "  return np.sqrt(np.sum(np.square(Z)))"
      ],
      "metadata": {
        "id": "KyvHcid-uKJ7"
      },
      "execution_count": 12,
      "outputs": []
    },
    {
      "cell_type": "code",
      "source": [
        "print(\"Want->Need:\",altdissim(dictionary[\"want\"],dictionary[\"need\"]))\n",
        "print(\"Love->Hate:\",altdissim(dictionary[\"love\"],dictionary[\"hate\"]))\n",
        "print(\"Hope->Fear:\",altdissim(dictionary[\"hope\"],dictionary[\"fear\"]))\n",
        "print(\"King->Queen:\",altdissim(dictionary[\"king\"],dictionary[\"queen\"]))\n",
        "print(\"Helm->Fruit:\",altdissim(dictionary[\"helm\"],dictionary[\"fruit\"]))\n",
        "print(\"Today->Tomorrow:\",altdissim(dictionary[\"today\"],dictionary[\"tomorrow\"]))\n",
        "print(\"Heart->Heart:\",altdissim(dictionary[\"heart\"],dictionary[\"heart\"]))"
      ],
      "metadata": {
        "colab": {
          "base_uri": "https://localhost:8080/"
        },
        "id": "hY8i52PGuq5a",
        "outputId": "8d7b4c2e-5c68-4d4e-be9a-65fb5b7d89ff"
      },
      "execution_count": 13,
      "outputs": [
        {
          "output_type": "stream",
          "name": "stdout",
          "text": [
            "Want->Need: 2.6705754759752662\n",
            "Love->Hate: 2.792847558972841\n",
            "Hope->Fear: 3.1523443626677605\n",
            "King->Queen: 3.453621021157361\n",
            "Helm->Fruit: 2.4450285972703263\n",
            "Today->Tomorrow: 2.847639692088651\n",
            "Heart->Heart: 0.0\n"
          ]
        }
      ]
    },
    {
      "cell_type": "code",
      "source": [
        "def check(word1, word2):\n",
        "  if word1 not in dictionary:\n",
        "    return \"{} not in dictionary...\".format(word1)\n",
        "  if word2 not in dictionary:\n",
        "    return \"{} not in dictionary...\".format(word2)\n",
        "  X = dictionary[word1]\n",
        "  Y = dictionary[word2]\n",
        "  return \"Words: {}, {}\\nSimilarity: {:.3f}\\nDissimilarity: {:.3f}\\nAlt_Dissimilarity: {:.3f}\".format(word1,word2,cossim(X,Y),dissim(X,Y),altdissim(X,Y))"
      ],
      "metadata": {
        "id": "ZbEsoH7dqag_"
      },
      "execution_count": 14,
      "outputs": []
    },
    {
      "cell_type": "markdown",
      "source": [
        "# User Input\n",
        "\n",
        "I have written a function to take 2 user entered words and find the similarity/dissimilarity between them. Try it out in the code below."
      ],
      "metadata": {
        "id": "MIj9eyxGp9JI"
      }
    },
    {
      "cell_type": "code",
      "source": [
        "print(check(\"test\",\"test\"))"
      ],
      "metadata": {
        "colab": {
          "base_uri": "https://localhost:8080/"
        },
        "id": "XXlHfebRqPmk",
        "outputId": "bb253de1-4562-477c-eb6e-857255680d21"
      },
      "execution_count": 16,
      "outputs": [
        {
          "output_type": "stream",
          "name": "stdout",
          "text": [
            "test not in dictionary...\n"
          ]
        }
      ]
    }
  ]
}