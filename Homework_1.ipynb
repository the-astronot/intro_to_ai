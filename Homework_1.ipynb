{
  "nbformat": 4,
  "nbformat_minor": 0,
  "metadata": {
    "colab": {
      "provenance": [],
      "collapsed_sections": [],
      "authorship_tag": "ABX9TyNvE+6MRK6J9jt9w/hQaoPJ",
      "include_colab_link": true
    },
    "kernelspec": {
      "name": "python3",
      "display_name": "Python 3"
    },
    "language_info": {
      "name": "python"
    }
  },
  "cells": [
    {
      "cell_type": "markdown",
      "metadata": {
        "id": "view-in-github",
        "colab_type": "text"
      },
      "source": [
        "<a href=\"https://colab.research.google.com/github/the-astronot/intro_to_ai/blob/main/Homework_1.ipynb\" target=\"_parent\"><img src=\"https://colab.research.google.com/assets/colab-badge.svg\" alt=\"Open In Colab\"/></a>"
      ]
    },
    {
      "cell_type": "markdown",
      "source": [
        "# Homework 1\n"
      ],
      "metadata": {
        "id": "5M_b81I8_yNn"
      }
    },
    {
      "cell_type": "markdown",
      "source": [
        "# Pre-Reqs\n",
        "\n",
        "Here, I'm just getting the space ready so I can tackle the problem."
      ],
      "metadata": {
        "id": "sfKmuWo72vMd"
      }
    },
    {
      "cell_type": "code",
      "execution_count": 1,
      "metadata": {
        "id": "zCe5lKcZI1JX"
      },
      "outputs": [],
      "source": [
        "# import required libraries\n",
        "import time\n",
        "import pandas as pd\n",
        "import matplotlib.pyplot as plt\n",
        "import seaborn as sns\n",
        "import numpy as np\n",
        "from sklearn.model_selection import train_test_split\n",
        "from sklearn.metrics import accuracy_score\n",
        "from sklearn.metrics import f1_score\n",
        "from sklearn.preprocessing import Normalizer\n",
        "import warnings\n",
        "warnings.filterwarnings(\"ignore\")"
      ]
    },
    {
      "cell_type": "code",
      "source": [
        "# Quick timer\n",
        "class Timer:\n",
        "  def __init__(self):\n",
        "    self.active = False\n",
        "    self.duration = 0\n",
        "    self.began = 0\n",
        "  \n",
        "  def start(self):\n",
        "    if self.active == False:\n",
        "      self.began = time.time()\n",
        "      self.active = True\n",
        "  \n",
        "  def stop(self):\n",
        "    if self.active == True:\n",
        "      self.duration = time.time() - self.began\n",
        "      self.active = False\n",
        "\n",
        "  def read(self):\n",
        "    if self.active == False:\n",
        "      return self.duration\n",
        "    return -1\n",
        "  "
      ],
      "metadata": {
        "id": "QeyRNTvCwZB3"
      },
      "execution_count": 2,
      "outputs": []
    },
    {
      "cell_type": "code",
      "source": [
        "t = Timer()\n",
        "debug = False"
      ],
      "metadata": {
        "id": "1x-eQv8ez-CF"
      },
      "execution_count": 3,
      "outputs": []
    },
    {
      "cell_type": "markdown",
      "source": [
        "## Choosing a Problem\n",
        "\n",
        "I just finished up a summer internship at NASA working with star images, so I thought it would be fun for my first ML/AI problem to try and tackle a classifier for identifying astral bodies as stars or not stars. To me, this seemed a particularly good task for logistic regression, as all of the data should be integers/floats that fall within certain bounds, and I am attempting to use them to output a value between 0 and 1 (Not Star or Star).\n",
        "\n",
        "## Finding a Dataset\n",
        "\n",
        "I came across this [stellar classification](https://www.kaggle.com/datasets/fedesoriano/stellar-classification-dataset-sdss17) dataset on Kaggle. It contains all of the measurements/observations made pertaining to observed objects, including what kind of object they are from {Galaxy, Star, Quasar}.\n",
        "From this, I intend to train a model to tell whether or not the observed object is a star or not."
      ],
      "metadata": {
        "id": "s7ohH4quiIKz"
      }
    },
    {
      "cell_type": "markdown",
      "source": [
        "## Exploratory Data Analysis"
      ],
      "metadata": {
        "id": "bO8zQiIQAnUa"
      }
    },
    {
      "cell_type": "code",
      "source": [
        "df = pd.read_csv('star_classification.csv')\n",
        "df.head(10)"
      ],
      "metadata": {
        "colab": {
          "base_uri": "https://localhost:8080/",
          "height": 363
        },
        "id": "BzL4UGFqFZ5o",
        "outputId": "2ee01f02-6167-4055-86a6-9fdb63e62554"
      },
      "execution_count": 4,
      "outputs": [
        {
          "output_type": "execute_result",
          "data": {
            "text/plain": [
              "         obj_ID       alpha      delta         u         g         r  \\\n",
              "0  1.237661e+18  135.689107  32.494632  23.87882  22.27530  20.39501   \n",
              "1  1.237665e+18  144.826101  31.274185  24.77759  22.83188  22.58444   \n",
              "2  1.237661e+18  142.188790  35.582444  25.26307  22.66389  20.60976   \n",
              "3  1.237663e+18  338.741038  -0.402828  22.13682  23.77656  21.61162   \n",
              "4  1.237680e+18  345.282593  21.183866  19.43718  17.58028  16.49747   \n",
              "5  1.237680e+18  340.995121  20.589476  23.48827  23.33776  21.32195   \n",
              "6  1.237679e+18   23.234926  11.418188  21.46973  21.17624  20.92829   \n",
              "7  1.237679e+18    5.433176  12.065186  22.24979  22.02172  20.34126   \n",
              "8  1.237661e+18  200.290475  47.199402  24.40286  22.35669  20.61032   \n",
              "9  1.237671e+18   39.149691  28.102842  21.74669  20.03493  19.17553   \n",
              "\n",
              "          i         z  run_ID  rerun_ID  cam_col  field_ID   spec_obj_ID  \\\n",
              "0  19.16573  18.79371    3606       301        2        79  6.543777e+18   \n",
              "1  21.16812  21.61427    4518       301        5       119  1.176014e+19   \n",
              "2  19.34857  18.94827    3606       301        2       120  5.152200e+18   \n",
              "3  20.50454  19.25010    4192       301        3       214  1.030107e+19   \n",
              "4  15.97711  15.54461    8102       301        3       137  6.891865e+18   \n",
              "5  20.25615  19.54544    8102       301        3       110  5.658977e+18   \n",
              "6  20.60826  20.42573    7773       301        2       462  1.246262e+19   \n",
              "7  19.48794  18.84999    7773       301        2       346  6.961443e+18   \n",
              "8  19.46490  18.95852    3716       301        5       108  7.459285e+18   \n",
              "9  18.81823  18.65422    5934       301        4       122  2.751763e+18   \n",
              "\n",
              "    class  redshift  plate    MJD  fiber_ID  \n",
              "0  GALAXY  0.634794   5812  56354       171  \n",
              "1  GALAXY  0.779136  10445  58158       427  \n",
              "2  GALAXY  0.644195   4576  55592       299  \n",
              "3  GALAXY  0.932346   9149  58039       775  \n",
              "4  GALAXY  0.116123   6121  56187       842  \n",
              "5     QSO  1.424659   5026  55855       741  \n",
              "6     QSO  0.586455  11069  58456       113  \n",
              "7  GALAXY  0.477009   6183  56210        15  \n",
              "8  GALAXY  0.660012   6625  56386       719  \n",
              "9    STAR -0.000008   2444  54082       232  "
            ],
            "text/html": [
              "\n",
              "  <div id=\"df-918f17e7-d645-4d39-bd3d-0d27a49ead91\">\n",
              "    <div class=\"colab-df-container\">\n",
              "      <div>\n",
              "<style scoped>\n",
              "    .dataframe tbody tr th:only-of-type {\n",
              "        vertical-align: middle;\n",
              "    }\n",
              "\n",
              "    .dataframe tbody tr th {\n",
              "        vertical-align: top;\n",
              "    }\n",
              "\n",
              "    .dataframe thead th {\n",
              "        text-align: right;\n",
              "    }\n",
              "</style>\n",
              "<table border=\"1\" class=\"dataframe\">\n",
              "  <thead>\n",
              "    <tr style=\"text-align: right;\">\n",
              "      <th></th>\n",
              "      <th>obj_ID</th>\n",
              "      <th>alpha</th>\n",
              "      <th>delta</th>\n",
              "      <th>u</th>\n",
              "      <th>g</th>\n",
              "      <th>r</th>\n",
              "      <th>i</th>\n",
              "      <th>z</th>\n",
              "      <th>run_ID</th>\n",
              "      <th>rerun_ID</th>\n",
              "      <th>cam_col</th>\n",
              "      <th>field_ID</th>\n",
              "      <th>spec_obj_ID</th>\n",
              "      <th>class</th>\n",
              "      <th>redshift</th>\n",
              "      <th>plate</th>\n",
              "      <th>MJD</th>\n",
              "      <th>fiber_ID</th>\n",
              "    </tr>\n",
              "  </thead>\n",
              "  <tbody>\n",
              "    <tr>\n",
              "      <th>0</th>\n",
              "      <td>1.237661e+18</td>\n",
              "      <td>135.689107</td>\n",
              "      <td>32.494632</td>\n",
              "      <td>23.87882</td>\n",
              "      <td>22.27530</td>\n",
              "      <td>20.39501</td>\n",
              "      <td>19.16573</td>\n",
              "      <td>18.79371</td>\n",
              "      <td>3606</td>\n",
              "      <td>301</td>\n",
              "      <td>2</td>\n",
              "      <td>79</td>\n",
              "      <td>6.543777e+18</td>\n",
              "      <td>GALAXY</td>\n",
              "      <td>0.634794</td>\n",
              "      <td>5812</td>\n",
              "      <td>56354</td>\n",
              "      <td>171</td>\n",
              "    </tr>\n",
              "    <tr>\n",
              "      <th>1</th>\n",
              "      <td>1.237665e+18</td>\n",
              "      <td>144.826101</td>\n",
              "      <td>31.274185</td>\n",
              "      <td>24.77759</td>\n",
              "      <td>22.83188</td>\n",
              "      <td>22.58444</td>\n",
              "      <td>21.16812</td>\n",
              "      <td>21.61427</td>\n",
              "      <td>4518</td>\n",
              "      <td>301</td>\n",
              "      <td>5</td>\n",
              "      <td>119</td>\n",
              "      <td>1.176014e+19</td>\n",
              "      <td>GALAXY</td>\n",
              "      <td>0.779136</td>\n",
              "      <td>10445</td>\n",
              "      <td>58158</td>\n",
              "      <td>427</td>\n",
              "    </tr>\n",
              "    <tr>\n",
              "      <th>2</th>\n",
              "      <td>1.237661e+18</td>\n",
              "      <td>142.188790</td>\n",
              "      <td>35.582444</td>\n",
              "      <td>25.26307</td>\n",
              "      <td>22.66389</td>\n",
              "      <td>20.60976</td>\n",
              "      <td>19.34857</td>\n",
              "      <td>18.94827</td>\n",
              "      <td>3606</td>\n",
              "      <td>301</td>\n",
              "      <td>2</td>\n",
              "      <td>120</td>\n",
              "      <td>5.152200e+18</td>\n",
              "      <td>GALAXY</td>\n",
              "      <td>0.644195</td>\n",
              "      <td>4576</td>\n",
              "      <td>55592</td>\n",
              "      <td>299</td>\n",
              "    </tr>\n",
              "    <tr>\n",
              "      <th>3</th>\n",
              "      <td>1.237663e+18</td>\n",
              "      <td>338.741038</td>\n",
              "      <td>-0.402828</td>\n",
              "      <td>22.13682</td>\n",
              "      <td>23.77656</td>\n",
              "      <td>21.61162</td>\n",
              "      <td>20.50454</td>\n",
              "      <td>19.25010</td>\n",
              "      <td>4192</td>\n",
              "      <td>301</td>\n",
              "      <td>3</td>\n",
              "      <td>214</td>\n",
              "      <td>1.030107e+19</td>\n",
              "      <td>GALAXY</td>\n",
              "      <td>0.932346</td>\n",
              "      <td>9149</td>\n",
              "      <td>58039</td>\n",
              "      <td>775</td>\n",
              "    </tr>\n",
              "    <tr>\n",
              "      <th>4</th>\n",
              "      <td>1.237680e+18</td>\n",
              "      <td>345.282593</td>\n",
              "      <td>21.183866</td>\n",
              "      <td>19.43718</td>\n",
              "      <td>17.58028</td>\n",
              "      <td>16.49747</td>\n",
              "      <td>15.97711</td>\n",
              "      <td>15.54461</td>\n",
              "      <td>8102</td>\n",
              "      <td>301</td>\n",
              "      <td>3</td>\n",
              "      <td>137</td>\n",
              "      <td>6.891865e+18</td>\n",
              "      <td>GALAXY</td>\n",
              "      <td>0.116123</td>\n",
              "      <td>6121</td>\n",
              "      <td>56187</td>\n",
              "      <td>842</td>\n",
              "    </tr>\n",
              "    <tr>\n",
              "      <th>5</th>\n",
              "      <td>1.237680e+18</td>\n",
              "      <td>340.995121</td>\n",
              "      <td>20.589476</td>\n",
              "      <td>23.48827</td>\n",
              "      <td>23.33776</td>\n",
              "      <td>21.32195</td>\n",
              "      <td>20.25615</td>\n",
              "      <td>19.54544</td>\n",
              "      <td>8102</td>\n",
              "      <td>301</td>\n",
              "      <td>3</td>\n",
              "      <td>110</td>\n",
              "      <td>5.658977e+18</td>\n",
              "      <td>QSO</td>\n",
              "      <td>1.424659</td>\n",
              "      <td>5026</td>\n",
              "      <td>55855</td>\n",
              "      <td>741</td>\n",
              "    </tr>\n",
              "    <tr>\n",
              "      <th>6</th>\n",
              "      <td>1.237679e+18</td>\n",
              "      <td>23.234926</td>\n",
              "      <td>11.418188</td>\n",
              "      <td>21.46973</td>\n",
              "      <td>21.17624</td>\n",
              "      <td>20.92829</td>\n",
              "      <td>20.60826</td>\n",
              "      <td>20.42573</td>\n",
              "      <td>7773</td>\n",
              "      <td>301</td>\n",
              "      <td>2</td>\n",
              "      <td>462</td>\n",
              "      <td>1.246262e+19</td>\n",
              "      <td>QSO</td>\n",
              "      <td>0.586455</td>\n",
              "      <td>11069</td>\n",
              "      <td>58456</td>\n",
              "      <td>113</td>\n",
              "    </tr>\n",
              "    <tr>\n",
              "      <th>7</th>\n",
              "      <td>1.237679e+18</td>\n",
              "      <td>5.433176</td>\n",
              "      <td>12.065186</td>\n",
              "      <td>22.24979</td>\n",
              "      <td>22.02172</td>\n",
              "      <td>20.34126</td>\n",
              "      <td>19.48794</td>\n",
              "      <td>18.84999</td>\n",
              "      <td>7773</td>\n",
              "      <td>301</td>\n",
              "      <td>2</td>\n",
              "      <td>346</td>\n",
              "      <td>6.961443e+18</td>\n",
              "      <td>GALAXY</td>\n",
              "      <td>0.477009</td>\n",
              "      <td>6183</td>\n",
              "      <td>56210</td>\n",
              "      <td>15</td>\n",
              "    </tr>\n",
              "    <tr>\n",
              "      <th>8</th>\n",
              "      <td>1.237661e+18</td>\n",
              "      <td>200.290475</td>\n",
              "      <td>47.199402</td>\n",
              "      <td>24.40286</td>\n",
              "      <td>22.35669</td>\n",
              "      <td>20.61032</td>\n",
              "      <td>19.46490</td>\n",
              "      <td>18.95852</td>\n",
              "      <td>3716</td>\n",
              "      <td>301</td>\n",
              "      <td>5</td>\n",
              "      <td>108</td>\n",
              "      <td>7.459285e+18</td>\n",
              "      <td>GALAXY</td>\n",
              "      <td>0.660012</td>\n",
              "      <td>6625</td>\n",
              "      <td>56386</td>\n",
              "      <td>719</td>\n",
              "    </tr>\n",
              "    <tr>\n",
              "      <th>9</th>\n",
              "      <td>1.237671e+18</td>\n",
              "      <td>39.149691</td>\n",
              "      <td>28.102842</td>\n",
              "      <td>21.74669</td>\n",
              "      <td>20.03493</td>\n",
              "      <td>19.17553</td>\n",
              "      <td>18.81823</td>\n",
              "      <td>18.65422</td>\n",
              "      <td>5934</td>\n",
              "      <td>301</td>\n",
              "      <td>4</td>\n",
              "      <td>122</td>\n",
              "      <td>2.751763e+18</td>\n",
              "      <td>STAR</td>\n",
              "      <td>-0.000008</td>\n",
              "      <td>2444</td>\n",
              "      <td>54082</td>\n",
              "      <td>232</td>\n",
              "    </tr>\n",
              "  </tbody>\n",
              "</table>\n",
              "</div>\n",
              "      <button class=\"colab-df-convert\" onclick=\"convertToInteractive('df-918f17e7-d645-4d39-bd3d-0d27a49ead91')\"\n",
              "              title=\"Convert this dataframe to an interactive table.\"\n",
              "              style=\"display:none;\">\n",
              "        \n",
              "  <svg xmlns=\"http://www.w3.org/2000/svg\" height=\"24px\"viewBox=\"0 0 24 24\"\n",
              "       width=\"24px\">\n",
              "    <path d=\"M0 0h24v24H0V0z\" fill=\"none\"/>\n",
              "    <path d=\"M18.56 5.44l.94 2.06.94-2.06 2.06-.94-2.06-.94-.94-2.06-.94 2.06-2.06.94zm-11 1L8.5 8.5l.94-2.06 2.06-.94-2.06-.94L8.5 2.5l-.94 2.06-2.06.94zm10 10l.94 2.06.94-2.06 2.06-.94-2.06-.94-.94-2.06-.94 2.06-2.06.94z\"/><path d=\"M17.41 7.96l-1.37-1.37c-.4-.4-.92-.59-1.43-.59-.52 0-1.04.2-1.43.59L10.3 9.45l-7.72 7.72c-.78.78-.78 2.05 0 2.83L4 21.41c.39.39.9.59 1.41.59.51 0 1.02-.2 1.41-.59l7.78-7.78 2.81-2.81c.8-.78.8-2.07 0-2.86zM5.41 20L4 18.59l7.72-7.72 1.47 1.35L5.41 20z\"/>\n",
              "  </svg>\n",
              "      </button>\n",
              "      \n",
              "  <style>\n",
              "    .colab-df-container {\n",
              "      display:flex;\n",
              "      flex-wrap:wrap;\n",
              "      gap: 12px;\n",
              "    }\n",
              "\n",
              "    .colab-df-convert {\n",
              "      background-color: #E8F0FE;\n",
              "      border: none;\n",
              "      border-radius: 50%;\n",
              "      cursor: pointer;\n",
              "      display: none;\n",
              "      fill: #1967D2;\n",
              "      height: 32px;\n",
              "      padding: 0 0 0 0;\n",
              "      width: 32px;\n",
              "    }\n",
              "\n",
              "    .colab-df-convert:hover {\n",
              "      background-color: #E2EBFA;\n",
              "      box-shadow: 0px 1px 2px rgba(60, 64, 67, 0.3), 0px 1px 3px 1px rgba(60, 64, 67, 0.15);\n",
              "      fill: #174EA6;\n",
              "    }\n",
              "\n",
              "    [theme=dark] .colab-df-convert {\n",
              "      background-color: #3B4455;\n",
              "      fill: #D2E3FC;\n",
              "    }\n",
              "\n",
              "    [theme=dark] .colab-df-convert:hover {\n",
              "      background-color: #434B5C;\n",
              "      box-shadow: 0px 1px 3px 1px rgba(0, 0, 0, 0.15);\n",
              "      filter: drop-shadow(0px 1px 2px rgba(0, 0, 0, 0.3));\n",
              "      fill: #FFFFFF;\n",
              "    }\n",
              "  </style>\n",
              "\n",
              "      <script>\n",
              "        const buttonEl =\n",
              "          document.querySelector('#df-918f17e7-d645-4d39-bd3d-0d27a49ead91 button.colab-df-convert');\n",
              "        buttonEl.style.display =\n",
              "          google.colab.kernel.accessAllowed ? 'block' : 'none';\n",
              "\n",
              "        async function convertToInteractive(key) {\n",
              "          const element = document.querySelector('#df-918f17e7-d645-4d39-bd3d-0d27a49ead91');\n",
              "          const dataTable =\n",
              "            await google.colab.kernel.invokeFunction('convertToInteractive',\n",
              "                                                     [key], {});\n",
              "          if (!dataTable) return;\n",
              "\n",
              "          const docLinkHtml = 'Like what you see? Visit the ' +\n",
              "            '<a target=\"_blank\" href=https://colab.research.google.com/notebooks/data_table.ipynb>data table notebook</a>'\n",
              "            + ' to learn more about interactive tables.';\n",
              "          element.innerHTML = '';\n",
              "          dataTable['output_type'] = 'display_data';\n",
              "          await google.colab.output.renderOutput(dataTable, element);\n",
              "          const docLink = document.createElement('div');\n",
              "          docLink.innerHTML = docLinkHtml;\n",
              "          element.appendChild(docLink);\n",
              "        }\n",
              "      </script>\n",
              "    </div>\n",
              "  </div>\n",
              "  "
            ]
          },
          "metadata": {},
          "execution_count": 4
        }
      ]
    },
    {
      "cell_type": "markdown",
      "source": [
        "I immediately notice that one of the columns is titled class, and am predicting some issues within Python using that, so I'll change it."
      ],
      "metadata": {
        "id": "qHRaSGuU8y0L"
      }
    },
    {
      "cell_type": "code",
      "source": [
        "df[\"obj_type\"] = df[\"class\"]"
      ],
      "metadata": {
        "id": "uwXsVb4b88fx"
      },
      "execution_count": 5,
      "outputs": []
    },
    {
      "cell_type": "code",
      "source": [
        "df.info()"
      ],
      "metadata": {
        "colab": {
          "base_uri": "https://localhost:8080/"
        },
        "id": "8iYeUHTAIm-t",
        "outputId": "14397f34-15f9-474f-d648-31d7bdec9ae0"
      },
      "execution_count": 6,
      "outputs": [
        {
          "output_type": "stream",
          "name": "stdout",
          "text": [
            "<class 'pandas.core.frame.DataFrame'>\n",
            "RangeIndex: 100000 entries, 0 to 99999\n",
            "Data columns (total 19 columns):\n",
            " #   Column       Non-Null Count   Dtype  \n",
            "---  ------       --------------   -----  \n",
            " 0   obj_ID       100000 non-null  float64\n",
            " 1   alpha        100000 non-null  float64\n",
            " 2   delta        100000 non-null  float64\n",
            " 3   u            100000 non-null  float64\n",
            " 4   g            100000 non-null  float64\n",
            " 5   r            100000 non-null  float64\n",
            " 6   i            100000 non-null  float64\n",
            " 7   z            100000 non-null  float64\n",
            " 8   run_ID       100000 non-null  int64  \n",
            " 9   rerun_ID     100000 non-null  int64  \n",
            " 10  cam_col      100000 non-null  int64  \n",
            " 11  field_ID     100000 non-null  int64  \n",
            " 12  spec_obj_ID  100000 non-null  float64\n",
            " 13  class        100000 non-null  object \n",
            " 14  redshift     100000 non-null  float64\n",
            " 15  plate        100000 non-null  int64  \n",
            " 16  MJD          100000 non-null  int64  \n",
            " 17  fiber_ID     100000 non-null  int64  \n",
            " 18  obj_type     100000 non-null  object \n",
            "dtypes: float64(10), int64(7), object(2)\n",
            "memory usage: 14.5+ MB\n"
          ]
        }
      ]
    },
    {
      "cell_type": "markdown",
      "source": [
        "# Validity Check\n",
        "\n",
        "I performed a check to make sure there would be enough star data relative to other object types to make the learning feasible."
      ],
      "metadata": {
        "id": "QC6Lpe5x9dTF"
      }
    },
    {
      "cell_type": "code",
      "source": [
        "fig, ax = plt.subplots(figsize=(5,5))\n",
        "ax.pie(x=df.obj_type.value_counts(), \n",
        "       labels=df.obj_type.value_counts().index,\n",
        "       autopct='%1.1f%%')\n",
        "ax.set_title('Types')"
      ],
      "metadata": {
        "colab": {
          "base_uri": "https://localhost:8080/",
          "height": 337
        },
        "id": "GoXgt1aT8LJh",
        "outputId": "16f871f1-edd6-443b-fc2e-531eaba5abf9"
      },
      "execution_count": 7,
      "outputs": [
        {
          "output_type": "execute_result",
          "data": {
            "text/plain": [
              "Text(0.5, 1.0, 'Types')"
            ]
          },
          "metadata": {},
          "execution_count": 7
        },
        {
          "output_type": "display_data",
          "data": {
            "text/plain": [
              "<Figure size 360x360 with 1 Axes>"
            ],
            "image/png": "[encoded data removed]"
          },
          "metadata": {}
        }
      ]
    },
    {
      "cell_type": "markdown",
      "source": [
        "# Pivoting\n",
        "\n",
        "So, since stars only make up ~22% of the dataset, I pivoted to identifying Galaxies or not Galaxies. I figured since that does a better job of splitting the dataset in half, that this would be an easier task for my first model."
      ],
      "metadata": {
        "id": "LE5bTzsm9qmy"
      }
    },
    {
      "cell_type": "markdown",
      "source": [
        "# Data Processing\n",
        "\n",
        "It is readily apparent that some of these columns will be unhelpful in determining the identity of the object.\n",
        "\n",
        "## IDS\n",
        "\n",
        "The columns {obj_ID, run_ID, rerun_ID, field_ID, spec_obj_ID} are all for use by those making the observations and are not properties of the objects themselves\n",
        "\n",
        "## Equipment Data\n",
        "\n",
        "The columns {cam_col, plate, fiber_ID} are all recordings of how the data was captured, but are similarly not inherent to the object."
      ],
      "metadata": {
        "id": "u8KHijBdFvJG"
      }
    },
    {
      "cell_type": "code",
      "source": [
        "df.drop([\"obj_ID\",\"run_ID\",\"rerun_ID\",\"field_ID\",\"spec_obj_ID\",\"cam_col\",\"plate\",\"fiber_ID\"],axis=1,inplace=True)"
      ],
      "metadata": {
        "id": "KNhve3XbHjQE"
      },
      "execution_count": 8,
      "outputs": []
    },
    {
      "cell_type": "markdown",
      "source": [
        "Let's see how it looks now."
      ],
      "metadata": {
        "id": "bQB2iokWOgLV"
      }
    },
    {
      "cell_type": "code",
      "source": [
        "df.describe()"
      ],
      "metadata": {
        "colab": {
          "base_uri": "https://localhost:8080/",
          "height": 300
        },
        "id": "qSQIx9HAK0rZ",
        "outputId": "218a4c38-a4f8-4eb3-ecf6-19c3198c80aa"
      },
      "execution_count": 9,
      "outputs": [
        {
          "output_type": "execute_result",
          "data": {
            "text/plain": [
              "               alpha          delta              u              g  \\\n",
              "count  100000.000000  100000.000000  100000.000000  100000.000000   \n",
              "mean      177.629117      24.135305      21.980468      20.531387   \n",
              "std        96.502241      19.644665      31.769291      31.750292   \n",
              "min         0.005528     -18.785328   -9999.000000   -9999.000000   \n",
              "25%       127.518222       5.146771      20.352353      18.965230   \n",
              "50%       180.900700      23.645922      22.179135      21.099835   \n",
              "75%       233.895005      39.901550      23.687440      22.123767   \n",
              "max       359.999810      83.000519      32.781390      31.602240   \n",
              "\n",
              "                   r              i              z       redshift  \\\n",
              "count  100000.000000  100000.000000  100000.000000  100000.000000   \n",
              "mean       19.645762      19.084854      18.668810       0.576661   \n",
              "std         1.854760       1.757895      31.728152       0.730707   \n",
              "min         9.822070       9.469903   -9999.000000      -0.009971   \n",
              "25%        18.135828      17.732285      17.460677       0.054517   \n",
              "50%        20.125290      19.405145      19.004595       0.424173   \n",
              "75%        21.044785      20.396495      19.921120       0.704154   \n",
              "max        29.571860      32.141470      29.383740       7.011245   \n",
              "\n",
              "                 MJD  \n",
              "count  100000.000000  \n",
              "mean    55588.647500  \n",
              "std      1808.484233  \n",
              "min     51608.000000  \n",
              "25%     54234.000000  \n",
              "50%     55868.500000  \n",
              "75%     56777.000000  \n",
              "max     58932.000000  "
            ],
            "text/html": [
              "\n",
              "  <div id=\"df-7afec69d-afe9-4f79-aa57-5348f78e87a3\">\n",
              "    <div class=\"colab-df-container\">\n",
              "      <div>\n",
              "<style scoped>\n",
              "    .dataframe tbody tr th:only-of-type {\n",
              "        vertical-align: middle;\n",
              "    }\n",
              "\n",
              "    .dataframe tbody tr th {\n",
              "        vertical-align: top;\n",
              "    }\n",
              "\n",
              "    .dataframe thead th {\n",
              "        text-align: right;\n",
              "    }\n",
              "</style>\n",
              "<table border=\"1\" class=\"dataframe\">\n",
              "  <thead>\n",
              "    <tr style=\"text-align: right;\">\n",
              "      <th></th>\n",
              "      <th>alpha</th>\n",
              "      <th>delta</th>\n",
              "      <th>u</th>\n",
              "      <th>g</th>\n",
              "      <th>r</th>\n",
              "      <th>i</th>\n",
              "      <th>z</th>\n",
              "      <th>redshift</th>\n",
              "      <th>MJD</th>\n",
              "    </tr>\n",
              "  </thead>\n",
              "  <tbody>\n",
              "    <tr>\n",
              "      <th>count</th>\n",
              "      <td>100000.000000</td>\n",
              "      <td>100000.000000</td>\n",
              "      <td>100000.000000</td>\n",
              "      <td>100000.000000</td>\n",
              "      <td>100000.000000</td>\n",
              "      <td>100000.000000</td>\n",
              "      <td>100000.000000</td>\n",
              "      <td>100000.000000</td>\n",
              "      <td>100000.000000</td>\n",
              "    </tr>\n",
              "    <tr>\n",
              "      <th>mean</th>\n",
              "      <td>177.629117</td>\n",
              "      <td>24.135305</td>\n",
              "      <td>21.980468</td>\n",
              "      <td>20.531387</td>\n",
              "      <td>19.645762</td>\n",
              "      <td>19.084854</td>\n",
              "      <td>18.668810</td>\n",
              "      <td>0.576661</td>\n",
              "      <td>55588.647500</td>\n",
              "    </tr>\n",
              "    <tr>\n",
              "      <th>std</th>\n",
              "      <td>96.502241</td>\n",
              "      <td>19.644665</td>\n",
              "      <td>31.769291</td>\n",
              "      <td>31.750292</td>\n",
              "      <td>1.854760</td>\n",
              "      <td>1.757895</td>\n",
              "      <td>31.728152</td>\n",
              "      <td>0.730707</td>\n",
              "      <td>1808.484233</td>\n",
              "    </tr>\n",
              "    <tr>\n",
              "      <th>min</th>\n",
              "      <td>0.005528</td>\n",
              "      <td>-18.785328</td>\n",
              "      <td>-9999.000000</td>\n",
              "      <td>-9999.000000</td>\n",
              "      <td>9.822070</td>\n",
              "      <td>9.469903</td>\n",
              "      <td>-9999.000000</td>\n",
              "      <td>-0.009971</td>\n",
              "      <td>51608.000000</td>\n",
              "    </tr>\n",
              "    <tr>\n",
              "      <th>25%</th>\n",
              "      <td>127.518222</td>\n",
              "      <td>5.146771</td>\n",
              "      <td>20.352353</td>\n",
              "      <td>18.965230</td>\n",
              "      <td>18.135828</td>\n",
              "      <td>17.732285</td>\n",
              "      <td>17.460677</td>\n",
              "      <td>0.054517</td>\n",
              "      <td>54234.000000</td>\n",
              "    </tr>\n",
              "    <tr>\n",
              "      <th>50%</th>\n",
              "      <td>180.900700</td>\n",
              "      <td>23.645922</td>\n",
              "      <td>22.179135</td>\n",
              "      <td>21.099835</td>\n",
              "      <td>20.125290</td>\n",
              "      <td>19.405145</td>\n",
              "      <td>19.004595</td>\n",
              "      <td>0.424173</td>\n",
              "      <td>55868.500000</td>\n",
              "    </tr>\n",
              "    <tr>\n",
              "      <th>75%</th>\n",
              "      <td>233.895005</td>\n",
              "      <td>39.901550</td>\n",
              "      <td>23.687440</td>\n",
              "      <td>22.123767</td>\n",
              "      <td>21.044785</td>\n",
              "      <td>20.396495</td>\n",
              "      <td>19.921120</td>\n",
              "      <td>0.704154</td>\n",
              "      <td>56777.000000</td>\n",
              "    </tr>\n",
              "    <tr>\n",
              "      <th>max</th>\n",
              "      <td>359.999810</td>\n",
              "      <td>83.000519</td>\n",
              "      <td>32.781390</td>\n",
              "      <td>31.602240</td>\n",
              "      <td>29.571860</td>\n",
              "      <td>32.141470</td>\n",
              "      <td>29.383740</td>\n",
              "      <td>7.011245</td>\n",
              "      <td>58932.000000</td>\n",
              "    </tr>\n",
              "  </tbody>\n",
              "</table>\n",
              "</div>\n",
              "      <button class=\"colab-df-convert\" onclick=\"convertToInteractive('df-7afec69d-afe9-4f79-aa57-5348f78e87a3')\"\n",
              "              title=\"Convert this dataframe to an interactive table.\"\n",
              "              style=\"display:none;\">\n",
              "        \n",
              "  <svg xmlns=\"http://www.w3.org/2000/svg\" height=\"24px\"viewBox=\"0 0 24 24\"\n",
              "       width=\"24px\">\n",
              "    <path d=\"M0 0h24v24H0V0z\" fill=\"none\"/>\n",
              "    <path d=\"M18.56 5.44l.94 2.06.94-2.06 2.06-.94-2.06-.94-.94-2.06-.94 2.06-2.06.94zm-11 1L8.5 8.5l.94-2.06 2.06-.94-2.06-.94L8.5 2.5l-.94 2.06-2.06.94zm10 10l.94 2.06.94-2.06 2.06-.94-2.06-.94-.94-2.06-.94 2.06-2.06.94z\"/><path d=\"M17.41 7.96l-1.37-1.37c-.4-.4-.92-.59-1.43-.59-.52 0-1.04.2-1.43.59L10.3 9.45l-7.72 7.72c-.78.78-.78 2.05 0 2.83L4 21.41c.39.39.9.59 1.41.59.51 0 1.02-.2 1.41-.59l7.78-7.78 2.81-2.81c.8-.78.8-2.07 0-2.86zM5.41 20L4 18.59l7.72-7.72 1.47 1.35L5.41 20z\"/>\n",
              "  </svg>\n",
              "      </button>\n",
              "      \n",
              "  <style>\n",
              "    .colab-df-container {\n",
              "      display:flex;\n",
              "      flex-wrap:wrap;\n",
              "      gap: 12px;\n",
              "    }\n",
              "\n",
              "    .colab-df-convert {\n",
              "      background-color: #E8F0FE;\n",
              "      border: none;\n",
              "      border-radius: 50%;\n",
              "      cursor: pointer;\n",
              "      display: none;\n",
              "      fill: #1967D2;\n",
              "      height: 32px;\n",
              "      padding: 0 0 0 0;\n",
              "      width: 32px;\n",
              "    }\n",
              "\n",
              "    .colab-df-convert:hover {\n",
              "      background-color: #E2EBFA;\n",
              "      box-shadow: 0px 1px 2px rgba(60, 64, 67, 0.3), 0px 1px 3px 1px rgba(60, 64, 67, 0.15);\n",
              "      fill: #174EA6;\n",
              "    }\n",
              "\n",
              "    [theme=dark] .colab-df-convert {\n",
              "      background-color: #3B4455;\n",
              "      fill: #D2E3FC;\n",
              "    }\n",
              "\n",
              "    [theme=dark] .colab-df-convert:hover {\n",
              "      background-color: #434B5C;\n",
              "      box-shadow: 0px 1px 3px 1px rgba(0, 0, 0, 0.15);\n",
              "      filter: drop-shadow(0px 1px 2px rgba(0, 0, 0, 0.3));\n",
              "      fill: #FFFFFF;\n",
              "    }\n",
              "  </style>\n",
              "\n",
              "      <script>\n",
              "        const buttonEl =\n",
              "          document.querySelector('#df-7afec69d-afe9-4f79-aa57-5348f78e87a3 button.colab-df-convert');\n",
              "        buttonEl.style.display =\n",
              "          google.colab.kernel.accessAllowed ? 'block' : 'none';\n",
              "\n",
              "        async function convertToInteractive(key) {\n",
              "          const element = document.querySelector('#df-7afec69d-afe9-4f79-aa57-5348f78e87a3');\n",
              "          const dataTable =\n",
              "            await google.colab.kernel.invokeFunction('convertToInteractive',\n",
              "                                                     [key], {});\n",
              "          if (!dataTable) return;\n",
              "\n",
              "          const docLinkHtml = 'Like what you see? Visit the ' +\n",
              "            '<a target=\"_blank\" href=https://colab.research.google.com/notebooks/data_table.ipynb>data table notebook</a>'\n",
              "            + ' to learn more about interactive tables.';\n",
              "          element.innerHTML = '';\n",
              "          dataTable['output_type'] = 'display_data';\n",
              "          await google.colab.output.renderOutput(dataTable, element);\n",
              "          const docLink = document.createElement('div');\n",
              "          docLink.innerHTML = docLinkHtml;\n",
              "          element.appendChild(docLink);\n",
              "        }\n",
              "      </script>\n",
              "    </div>\n",
              "  </div>\n",
              "  "
            ]
          },
          "metadata": {},
          "execution_count": 9
        }
      ]
    },
    {
      "cell_type": "markdown",
      "source": [
        "I'll perform a quick check for N/A or missing values in the dataset, but when I found it, it claimed that there were no empty cells."
      ],
      "metadata": {
        "id": "gdvO9TUCOmKT"
      }
    },
    {
      "cell_type": "code",
      "source": [
        "df.isna()"
      ],
      "metadata": {
        "colab": {
          "base_uri": "https://localhost:8080/",
          "height": 424
        },
        "id": "ELrrxKHZLBBE",
        "outputId": "39c031cc-3e1a-4836-f8ea-f45dc4d8b35c"
      },
      "execution_count": 10,
      "outputs": [
        {
          "output_type": "execute_result",
          "data": {
            "text/plain": [
              "       alpha  delta      u      g      r      i      z  class  redshift  \\\n",
              "0      False  False  False  False  False  False  False  False     False   \n",
              "1      False  False  False  False  False  False  False  False     False   \n",
              "2      False  False  False  False  False  False  False  False     False   \n",
              "3      False  False  False  False  False  False  False  False     False   \n",
              "4      False  False  False  False  False  False  False  False     False   \n",
              "...      ...    ...    ...    ...    ...    ...    ...    ...       ...   \n",
              "99995  False  False  False  False  False  False  False  False     False   \n",
              "99996  False  False  False  False  False  False  False  False     False   \n",
              "99997  False  False  False  False  False  False  False  False     False   \n",
              "99998  False  False  False  False  False  False  False  False     False   \n",
              "99999  False  False  False  False  False  False  False  False     False   \n",
              "\n",
              "         MJD  obj_type  \n",
              "0      False     False  \n",
              "1      False     False  \n",
              "2      False     False  \n",
              "3      False     False  \n",
              "4      False     False  \n",
              "...      ...       ...  \n",
              "99995  False     False  \n",
              "99996  False     False  \n",
              "99997  False     False  \n",
              "99998  False     False  \n",
              "99999  False     False  \n",
              "\n",
              "[100000 rows x 11 columns]"
            ],
            "text/html": [
              "\n",
              "  <div id=\"df-4546030d-517f-4223-9daf-5231184325a9\">\n",
              "    <div class=\"colab-df-container\">\n",
              "      <div>\n",
              "<style scoped>\n",
              "    .dataframe tbody tr th:only-of-type {\n",
              "        vertical-align: middle;\n",
              "    }\n",
              "\n",
              "    .dataframe tbody tr th {\n",
              "        vertical-align: top;\n",
              "    }\n",
              "\n",
              "    .dataframe thead th {\n",
              "        text-align: right;\n",
              "    }\n",
              "</style>\n",
              "<table border=\"1\" class=\"dataframe\">\n",
              "  <thead>\n",
              "    <tr style=\"text-align: right;\">\n",
              "      <th></th>\n",
              "      <th>alpha</th>\n",
              "      <th>delta</th>\n",
              "      <th>u</th>\n",
              "      <th>g</th>\n",
              "      <th>r</th>\n",
              "      <th>i</th>\n",
              "      <th>z</th>\n",
              "      <th>class</th>\n",
              "      <th>redshift</th>\n",
              "      <th>MJD</th>\n",
              "      <th>obj_type</th>\n",
              "    </tr>\n",
              "  </thead>\n",
              "  <tbody>\n",
              "    <tr>\n",
              "      <th>0</th>\n",
              "      <td>False</td>\n",
              "      <td>False</td>\n",
              "      <td>False</td>\n",
              "      <td>False</td>\n",
              "      <td>False</td>\n",
              "      <td>False</td>\n",
              "      <td>False</td>\n",
              "      <td>False</td>\n",
              "      <td>False</td>\n",
              "      <td>False</td>\n",
              "      <td>False</td>\n",
              "    </tr>\n",
              "    <tr>\n",
              "      <th>1</th>\n",
              "      <td>False</td>\n",
              "      <td>False</td>\n",
              "      <td>False</td>\n",
              "      <td>False</td>\n",
              "      <td>False</td>\n",
              "      <td>False</td>\n",
              "      <td>False</td>\n",
              "      <td>False</td>\n",
              "      <td>False</td>\n",
              "      <td>False</td>\n",
              "      <td>False</td>\n",
              "    </tr>\n",
              "    <tr>\n",
              "      <th>2</th>\n",
              "      <td>False</td>\n",
              "      <td>False</td>\n",
              "      <td>False</td>\n",
              "      <td>False</td>\n",
              "      <td>False</td>\n",
              "      <td>False</td>\n",
              "      <td>False</td>\n",
              "      <td>False</td>\n",
              "      <td>False</td>\n",
              "      <td>False</td>\n",
              "      <td>False</td>\n",
              "    </tr>\n",
              "    <tr>\n",
              "      <th>3</th>\n",
              "      <td>False</td>\n",
              "      <td>False</td>\n",
              "      <td>False</td>\n",
              "      <td>False</td>\n",
              "      <td>False</td>\n",
              "      <td>False</td>\n",
              "      <td>False</td>\n",
              "      <td>False</td>\n",
              "      <td>False</td>\n",
              "      <td>False</td>\n",
              "      <td>False</td>\n",
              "    </tr>\n",
              "    <tr>\n",
              "      <th>4</th>\n",
              "      <td>False</td>\n",
              "      <td>False</td>\n",
              "      <td>False</td>\n",
              "      <td>False</td>\n",
              "      <td>False</td>\n",
              "      <td>False</td>\n",
              "      <td>False</td>\n",
              "      <td>False</td>\n",
              "      <td>False</td>\n",
              "      <td>False</td>\n",
              "      <td>False</td>\n",
              "    </tr>\n",
              "    <tr>\n",
              "      <th>...</th>\n",
              "      <td>...</td>\n",
              "      <td>...</td>\n",
              "      <td>...</td>\n",
              "      <td>...</td>\n",
              "      <td>...</td>\n",
              "      <td>...</td>\n",
              "      <td>...</td>\n",
              "      <td>...</td>\n",
              "      <td>...</td>\n",
              "      <td>...</td>\n",
              "      <td>...</td>\n",
              "    </tr>\n",
              "    <tr>\n",
              "      <th>99995</th>\n",
              "      <td>False</td>\n",
              "      <td>False</td>\n",
              "      <td>False</td>\n",
              "      <td>False</td>\n",
              "      <td>False</td>\n",
              "      <td>False</td>\n",
              "      <td>False</td>\n",
              "      <td>False</td>\n",
              "      <td>False</td>\n",
              "      <td>False</td>\n",
              "      <td>False</td>\n",
              "    </tr>\n",
              "    <tr>\n",
              "      <th>99996</th>\n",
              "      <td>False</td>\n",
              "      <td>False</td>\n",
              "      <td>False</td>\n",
              "      <td>False</td>\n",
              "      <td>False</td>\n",
              "      <td>False</td>\n",
              "      <td>False</td>\n",
              "      <td>False</td>\n",
              "      <td>False</td>\n",
              "      <td>False</td>\n",
              "      <td>False</td>\n",
              "    </tr>\n",
              "    <tr>\n",
              "      <th>99997</th>\n",
              "      <td>False</td>\n",
              "      <td>False</td>\n",
              "      <td>False</td>\n",
              "      <td>False</td>\n",
              "      <td>False</td>\n",
              "      <td>False</td>\n",
              "      <td>False</td>\n",
              "      <td>False</td>\n",
              "      <td>False</td>\n",
              "      <td>False</td>\n",
              "      <td>False</td>\n",
              "    </tr>\n",
              "    <tr>\n",
              "      <th>99998</th>\n",
              "      <td>False</td>\n",
              "      <td>False</td>\n",
              "      <td>False</td>\n",
              "      <td>False</td>\n",
              "      <td>False</td>\n",
              "      <td>False</td>\n",
              "      <td>False</td>\n",
              "      <td>False</td>\n",
              "      <td>False</td>\n",
              "      <td>False</td>\n",
              "      <td>False</td>\n",
              "    </tr>\n",
              "    <tr>\n",
              "      <th>99999</th>\n",
              "      <td>False</td>\n",
              "      <td>False</td>\n",
              "      <td>False</td>\n",
              "      <td>False</td>\n",
              "      <td>False</td>\n",
              "      <td>False</td>\n",
              "      <td>False</td>\n",
              "      <td>False</td>\n",
              "      <td>False</td>\n",
              "      <td>False</td>\n",
              "      <td>False</td>\n",
              "    </tr>\n",
              "  </tbody>\n",
              "</table>\n",
              "<p>100000 rows × 11 columns</p>\n",
              "</div>\n",
              "      <button class=\"colab-df-convert\" onclick=\"convertToInteractive('df-4546030d-517f-4223-9daf-5231184325a9')\"\n",
              "              title=\"Convert this dataframe to an interactive table.\"\n",
              "              style=\"display:none;\">\n",
              "        \n",
              "  <svg xmlns=\"http://www.w3.org/2000/svg\" height=\"24px\"viewBox=\"0 0 24 24\"\n",
              "       width=\"24px\">\n",
              "    <path d=\"M0 0h24v24H0V0z\" fill=\"none\"/>\n",
              "    <path d=\"M18.56 5.44l.94 2.06.94-2.06 2.06-.94-2.06-.94-.94-2.06-.94 2.06-2.06.94zm-11 1L8.5 8.5l.94-2.06 2.06-.94-2.06-.94L8.5 2.5l-.94 2.06-2.06.94zm10 10l.94 2.06.94-2.06 2.06-.94-2.06-.94-.94-2.06-.94 2.06-2.06.94z\"/><path d=\"M17.41 7.96l-1.37-1.37c-.4-.4-.92-.59-1.43-.59-.52 0-1.04.2-1.43.59L10.3 9.45l-7.72 7.72c-.78.78-.78 2.05 0 2.83L4 21.41c.39.39.9.59 1.41.59.51 0 1.02-.2 1.41-.59l7.78-7.78 2.81-2.81c.8-.78.8-2.07 0-2.86zM5.41 20L4 18.59l7.72-7.72 1.47 1.35L5.41 20z\"/>\n",
              "  </svg>\n",
              "      </button>\n",
              "      \n",
              "  <style>\n",
              "    .colab-df-container {\n",
              "      display:flex;\n",
              "      flex-wrap:wrap;\n",
              "      gap: 12px;\n",
              "    }\n",
              "\n",
              "    .colab-df-convert {\n",
              "      background-color: #E8F0FE;\n",
              "      border: none;\n",
              "      border-radius: 50%;\n",
              "      cursor: pointer;\n",
              "      display: none;\n",
              "      fill: #1967D2;\n",
              "      height: 32px;\n",
              "      padding: 0 0 0 0;\n",
              "      width: 32px;\n",
              "    }\n",
              "\n",
              "    .colab-df-convert:hover {\n",
              "      background-color: #E2EBFA;\n",
              "      box-shadow: 0px 1px 2px rgba(60, 64, 67, 0.3), 0px 1px 3px 1px rgba(60, 64, 67, 0.15);\n",
              "      fill: #174EA6;\n",
              "    }\n",
              "\n",
              "    [theme=dark] .colab-df-convert {\n",
              "      background-color: #3B4455;\n",
              "      fill: #D2E3FC;\n",
              "    }\n",
              "\n",
              "    [theme=dark] .colab-df-convert:hover {\n",
              "      background-color: #434B5C;\n",
              "      box-shadow: 0px 1px 3px 1px rgba(0, 0, 0, 0.15);\n",
              "      filter: drop-shadow(0px 1px 2px rgba(0, 0, 0, 0.3));\n",
              "      fill: #FFFFFF;\n",
              "    }\n",
              "  </style>\n",
              "\n",
              "      <script>\n",
              "        const buttonEl =\n",
              "          document.querySelector('#df-4546030d-517f-4223-9daf-5231184325a9 button.colab-df-convert');\n",
              "        buttonEl.style.display =\n",
              "          google.colab.kernel.accessAllowed ? 'block' : 'none';\n",
              "\n",
              "        async function convertToInteractive(key) {\n",
              "          const element = document.querySelector('#df-4546030d-517f-4223-9daf-5231184325a9');\n",
              "          const dataTable =\n",
              "            await google.colab.kernel.invokeFunction('convertToInteractive',\n",
              "                                                     [key], {});\n",
              "          if (!dataTable) return;\n",
              "\n",
              "          const docLinkHtml = 'Like what you see? Visit the ' +\n",
              "            '<a target=\"_blank\" href=https://colab.research.google.com/notebooks/data_table.ipynb>data table notebook</a>'\n",
              "            + ' to learn more about interactive tables.';\n",
              "          element.innerHTML = '';\n",
              "          dataTable['output_type'] = 'display_data';\n",
              "          await google.colab.output.renderOutput(dataTable, element);\n",
              "          const docLink = document.createElement('div');\n",
              "          docLink.innerHTML = docLinkHtml;\n",
              "          element.appendChild(docLink);\n",
              "        }\n",
              "      </script>\n",
              "    </div>\n",
              "  </div>\n",
              "  "
            ]
          },
          "metadata": {},
          "execution_count": 10
        }
      ]
    },
    {
      "cell_type": "markdown",
      "source": [
        "Looks good to me."
      ],
      "metadata": {
        "id": "bSPCb6HdOyVk"
      }
    },
    {
      "cell_type": "markdown",
      "source": [
        "##isGalaxy\n",
        "\n",
        "I didn't find any missing values, so I progressed onto combining the strings for class/obj_type into a boolean based on whether or not an instance was a galaxy or not."
      ],
      "metadata": {
        "id": "hzyyPVdxJ77-"
      }
    },
    {
      "cell_type": "code",
      "source": [
        "df['isGalaxy'] = 0\n",
        "df.loc[df['class'] == \"GALAXY\", 'isGalaxy'] = 1\n",
        "df.describe()"
      ],
      "metadata": {
        "colab": {
          "base_uri": "https://localhost:8080/",
          "height": 300
        },
        "id": "T8J-dBc0LcP4",
        "outputId": "73ababb7-9c87-4c85-baa0-5f2ca71f7e96"
      },
      "execution_count": 11,
      "outputs": [
        {
          "output_type": "execute_result",
          "data": {
            "text/plain": [
              "               alpha          delta              u              g  \\\n",
              "count  100000.000000  100000.000000  100000.000000  100000.000000   \n",
              "mean      177.629117      24.135305      21.980468      20.531387   \n",
              "std        96.502241      19.644665      31.769291      31.750292   \n",
              "min         0.005528     -18.785328   -9999.000000   -9999.000000   \n",
              "25%       127.518222       5.146771      20.352353      18.965230   \n",
              "50%       180.900700      23.645922      22.179135      21.099835   \n",
              "75%       233.895005      39.901550      23.687440      22.123767   \n",
              "max       359.999810      83.000519      32.781390      31.602240   \n",
              "\n",
              "                   r              i              z       redshift  \\\n",
              "count  100000.000000  100000.000000  100000.000000  100000.000000   \n",
              "mean       19.645762      19.084854      18.668810       0.576661   \n",
              "std         1.854760       1.757895      31.728152       0.730707   \n",
              "min         9.822070       9.469903   -9999.000000      -0.009971   \n",
              "25%        18.135828      17.732285      17.460677       0.054517   \n",
              "50%        20.125290      19.405145      19.004595       0.424173   \n",
              "75%        21.044785      20.396495      19.921120       0.704154   \n",
              "max        29.571860      32.141470      29.383740       7.011245   \n",
              "\n",
              "                 MJD       isGalaxy  \n",
              "count  100000.000000  100000.000000  \n",
              "mean    55588.647500       0.594450  \n",
              "std      1808.484233       0.491001  \n",
              "min     51608.000000       0.000000  \n",
              "25%     54234.000000       0.000000  \n",
              "50%     55868.500000       1.000000  \n",
              "75%     56777.000000       1.000000  \n",
              "max     58932.000000       1.000000  "
            ],
            "text/html": [
              "\n",
              "  <div id=\"df-8a23305e-77cb-409b-823b-afd74fe9a678\">\n",
              "    <div class=\"colab-df-container\">\n",
              "      <div>\n",
              "<style scoped>\n",
              "    .dataframe tbody tr th:only-of-type {\n",
              "        vertical-align: middle;\n",
              "    }\n",
              "\n",
              "    .dataframe tbody tr th {\n",
              "        vertical-align: top;\n",
              "    }\n",
              "\n",
              "    .dataframe thead th {\n",
              "        text-align: right;\n",
              "    }\n",
              "</style>\n",
              "<table border=\"1\" class=\"dataframe\">\n",
              "  <thead>\n",
              "    <tr style=\"text-align: right;\">\n",
              "      <th></th>\n",
              "      <th>alpha</th>\n",
              "      <th>delta</th>\n",
              "      <th>u</th>\n",
              "      <th>g</th>\n",
              "      <th>r</th>\n",
              "      <th>i</th>\n",
              "      <th>z</th>\n",
              "      <th>redshift</th>\n",
              "      <th>MJD</th>\n",
              "      <th>isGalaxy</th>\n",
              "    </tr>\n",
              "  </thead>\n",
              "  <tbody>\n",
              "    <tr>\n",
              "      <th>count</th>\n",
              "      <td>100000.000000</td>\n",
              "      <td>100000.000000</td>\n",
              "      <td>100000.000000</td>\n",
              "      <td>100000.000000</td>\n",
              "      <td>100000.000000</td>\n",
              "      <td>100000.000000</td>\n",
              "      <td>100000.000000</td>\n",
              "      <td>100000.000000</td>\n",
              "      <td>100000.000000</td>\n",
              "      <td>100000.000000</td>\n",
              "    </tr>\n",
              "    <tr>\n",
              "      <th>mean</th>\n",
              "      <td>177.629117</td>\n",
              "      <td>24.135305</td>\n",
              "      <td>21.980468</td>\n",
              "      <td>20.531387</td>\n",
              "      <td>19.645762</td>\n",
              "      <td>19.084854</td>\n",
              "      <td>18.668810</td>\n",
              "      <td>0.576661</td>\n",
              "      <td>55588.647500</td>\n",
              "      <td>0.594450</td>\n",
              "    </tr>\n",
              "    <tr>\n",
              "      <th>std</th>\n",
              "      <td>96.502241</td>\n",
              "      <td>19.644665</td>\n",
              "      <td>31.769291</td>\n",
              "      <td>31.750292</td>\n",
              "      <td>1.854760</td>\n",
              "      <td>1.757895</td>\n",
              "      <td>31.728152</td>\n",
              "      <td>0.730707</td>\n",
              "      <td>1808.484233</td>\n",
              "      <td>0.491001</td>\n",
              "    </tr>\n",
              "    <tr>\n",
              "      <th>min</th>\n",
              "      <td>0.005528</td>\n",
              "      <td>-18.785328</td>\n",
              "      <td>-9999.000000</td>\n",
              "      <td>-9999.000000</td>\n",
              "      <td>9.822070</td>\n",
              "      <td>9.469903</td>\n",
              "      <td>-9999.000000</td>\n",
              "      <td>-0.009971</td>\n",
              "      <td>51608.000000</td>\n",
              "      <td>0.000000</td>\n",
              "    </tr>\n",
              "    <tr>\n",
              "      <th>25%</th>\n",
              "      <td>127.518222</td>\n",
              "      <td>5.146771</td>\n",
              "      <td>20.352353</td>\n",
              "      <td>18.965230</td>\n",
              "      <td>18.135828</td>\n",
              "      <td>17.732285</td>\n",
              "      <td>17.460677</td>\n",
              "      <td>0.054517</td>\n",
              "      <td>54234.000000</td>\n",
              "      <td>0.000000</td>\n",
              "    </tr>\n",
              "    <tr>\n",
              "      <th>50%</th>\n",
              "      <td>180.900700</td>\n",
              "      <td>23.645922</td>\n",
              "      <td>22.179135</td>\n",
              "      <td>21.099835</td>\n",
              "      <td>20.125290</td>\n",
              "      <td>19.405145</td>\n",
              "      <td>19.004595</td>\n",
              "      <td>0.424173</td>\n",
              "      <td>55868.500000</td>\n",
              "      <td>1.000000</td>\n",
              "    </tr>\n",
              "    <tr>\n",
              "      <th>75%</th>\n",
              "      <td>233.895005</td>\n",
              "      <td>39.901550</td>\n",
              "      <td>23.687440</td>\n",
              "      <td>22.123767</td>\n",
              "      <td>21.044785</td>\n",
              "      <td>20.396495</td>\n",
              "      <td>19.921120</td>\n",
              "      <td>0.704154</td>\n",
              "      <td>56777.000000</td>\n",
              "      <td>1.000000</td>\n",
              "    </tr>\n",
              "    <tr>\n",
              "      <th>max</th>\n",
              "      <td>359.999810</td>\n",
              "      <td>83.000519</td>\n",
              "      <td>32.781390</td>\n",
              "      <td>31.602240</td>\n",
              "      <td>29.571860</td>\n",
              "      <td>32.141470</td>\n",
              "      <td>29.383740</td>\n",
              "      <td>7.011245</td>\n",
              "      <td>58932.000000</td>\n",
              "      <td>1.000000</td>\n",
              "    </tr>\n",
              "  </tbody>\n",
              "</table>\n",
              "</div>\n",
              "      <button class=\"colab-df-convert\" onclick=\"convertToInteractive('df-8a23305e-77cb-409b-823b-afd74fe9a678')\"\n",
              "              title=\"Convert this dataframe to an interactive table.\"\n",
              "              style=\"display:none;\">\n",
              "        \n",
              "  <svg xmlns=\"http://www.w3.org/2000/svg\" height=\"24px\"viewBox=\"0 0 24 24\"\n",
              "       width=\"24px\">\n",
              "    <path d=\"M0 0h24v24H0V0z\" fill=\"none\"/>\n",
              "    <path d=\"M18.56 5.44l.94 2.06.94-2.06 2.06-.94-2.06-.94-.94-2.06-.94 2.06-2.06.94zm-11 1L8.5 8.5l.94-2.06 2.06-.94-2.06-.94L8.5 2.5l-.94 2.06-2.06.94zm10 10l.94 2.06.94-2.06 2.06-.94-2.06-.94-.94-2.06-.94 2.06-2.06.94z\"/><path d=\"M17.41 7.96l-1.37-1.37c-.4-.4-.92-.59-1.43-.59-.52 0-1.04.2-1.43.59L10.3 9.45l-7.72 7.72c-.78.78-.78 2.05 0 2.83L4 21.41c.39.39.9.59 1.41.59.51 0 1.02-.2 1.41-.59l7.78-7.78 2.81-2.81c.8-.78.8-2.07 0-2.86zM5.41 20L4 18.59l7.72-7.72 1.47 1.35L5.41 20z\"/>\n",
              "  </svg>\n",
              "      </button>\n",
              "      \n",
              "  <style>\n",
              "    .colab-df-container {\n",
              "      display:flex;\n",
              "      flex-wrap:wrap;\n",
              "      gap: 12px;\n",
              "    }\n",
              "\n",
              "    .colab-df-convert {\n",
              "      background-color: #E8F0FE;\n",
              "      border: none;\n",
              "      border-radius: 50%;\n",
              "      cursor: pointer;\n",
              "      display: none;\n",
              "      fill: #1967D2;\n",
              "      height: 32px;\n",
              "      padding: 0 0 0 0;\n",
              "      width: 32px;\n",
              "    }\n",
              "\n",
              "    .colab-df-convert:hover {\n",
              "      background-color: #E2EBFA;\n",
              "      box-shadow: 0px 1px 2px rgba(60, 64, 67, 0.3), 0px 1px 3px 1px rgba(60, 64, 67, 0.15);\n",
              "      fill: #174EA6;\n",
              "    }\n",
              "\n",
              "    [theme=dark] .colab-df-convert {\n",
              "      background-color: #3B4455;\n",
              "      fill: #D2E3FC;\n",
              "    }\n",
              "\n",
              "    [theme=dark] .colab-df-convert:hover {\n",
              "      background-color: #434B5C;\n",
              "      box-shadow: 0px 1px 3px 1px rgba(0, 0, 0, 0.15);\n",
              "      filter: drop-shadow(0px 1px 2px rgba(0, 0, 0, 0.3));\n",
              "      fill: #FFFFFF;\n",
              "    }\n",
              "  </style>\n",
              "\n",
              "      <script>\n",
              "        const buttonEl =\n",
              "          document.querySelector('#df-8a23305e-77cb-409b-823b-afd74fe9a678 button.colab-df-convert');\n",
              "        buttonEl.style.display =\n",
              "          google.colab.kernel.accessAllowed ? 'block' : 'none';\n",
              "\n",
              "        async function convertToInteractive(key) {\n",
              "          const element = document.querySelector('#df-8a23305e-77cb-409b-823b-afd74fe9a678');\n",
              "          const dataTable =\n",
              "            await google.colab.kernel.invokeFunction('convertToInteractive',\n",
              "                                                     [key], {});\n",
              "          if (!dataTable) return;\n",
              "\n",
              "          const docLinkHtml = 'Like what you see? Visit the ' +\n",
              "            '<a target=\"_blank\" href=https://colab.research.google.com/notebooks/data_table.ipynb>data table notebook</a>'\n",
              "            + ' to learn more about interactive tables.';\n",
              "          element.innerHTML = '';\n",
              "          dataTable['output_type'] = 'display_data';\n",
              "          await google.colab.output.renderOutput(dataTable, element);\n",
              "          const docLink = document.createElement('div');\n",
              "          docLink.innerHTML = docLinkHtml;\n",
              "          element.appendChild(docLink);\n",
              "        }\n",
              "      </script>\n",
              "    </div>\n",
              "  </div>\n",
              "  "
            ]
          },
          "metadata": {},
          "execution_count": 11
        }
      ]
    },
    {
      "cell_type": "markdown",
      "source": [
        "While there weren't any N/A or missing rows, I noticed that the minimum here for several columns is -9999. I figured that I have enough datapoints to just toss any rows with this issue."
      ],
      "metadata": {
        "id": "R7Fxwanq-jfn"
      }
    },
    {
      "cell_type": "code",
      "source": [
        "df = df[df.u > -9999.0]\n",
        "df.describe()"
      ],
      "metadata": {
        "colab": {
          "base_uri": "https://localhost:8080/",
          "height": 300
        },
        "id": "95lEwUX7kQwP",
        "outputId": "26d57b1a-5faa-4bde-ea4c-261b7618798a"
      },
      "execution_count": 12,
      "outputs": [
        {
          "output_type": "execute_result",
          "data": {
            "text/plain": [
              "              alpha         delta             u             g             r  \\\n",
              "count  99999.000000  99999.000000  99999.000000  99999.000000  99999.000000   \n",
              "mean     177.628653     24.135552     22.080679     20.631583     19.645777   \n",
              "std       96.502612     19.644608      2.251068      2.037384      1.854763   \n",
              "min        0.005528    -18.785328     10.996230     10.498200      9.822070   \n",
              "25%      127.517698      5.147477     20.352410     18.965240     18.135795   \n",
              "50%      180.900527     23.646462     22.179140     21.099930     20.125310   \n",
              "75%      233.895005     39.901582     23.687480     22.123775     21.044790   \n",
              "max      359.999810     83.000519     32.781390     31.602240     29.571860   \n",
              "\n",
              "                  i             z      redshift           MJD      isGalaxy  \n",
              "count  99999.000000  99999.000000  99999.000000  99999.000000  99999.000000  \n",
              "mean      19.084865     18.768988      0.576667  55588.653687      0.594456  \n",
              "std        1.757900      1.765982      0.730709   1808.492217      0.490999  \n",
              "min        9.469903      9.612333     -0.009971  51608.000000      0.000000  \n",
              "25%       17.732280     17.460830      0.054522  54234.000000      0.000000  \n",
              "50%       19.405150     19.004600      0.424176  55869.000000      1.000000  \n",
              "75%       20.396510     19.921120      0.704172  56777.000000      1.000000  \n",
              "max       32.141470     29.383740      7.011245  58932.000000      1.000000  "
            ],
            "text/html": [
              "\n",
              "  <div id=\"df-49a6c572-6447-4342-9357-33cb44f13969\">\n",
              "    <div class=\"colab-df-container\">\n",
              "      <div>\n",
              "<style scoped>\n",
              "    .dataframe tbody tr th:only-of-type {\n",
              "        vertical-align: middle;\n",
              "    }\n",
              "\n",
              "    .dataframe tbody tr th {\n",
              "        vertical-align: top;\n",
              "    }\n",
              "\n",
              "    .dataframe thead th {\n",
              "        text-align: right;\n",
              "    }\n",
              "</style>\n",
              "<table border=\"1\" class=\"dataframe\">\n",
              "  <thead>\n",
              "    <tr style=\"text-align: right;\">\n",
              "      <th></th>\n",
              "      <th>alpha</th>\n",
              "      <th>delta</th>\n",
              "      <th>u</th>\n",
              "      <th>g</th>\n",
              "      <th>r</th>\n",
              "      <th>i</th>\n",
              "      <th>z</th>\n",
              "      <th>redshift</th>\n",
              "      <th>MJD</th>\n",
              "      <th>isGalaxy</th>\n",
              "    </tr>\n",
              "  </thead>\n",
              "  <tbody>\n",
              "    <tr>\n",
              "      <th>count</th>\n",
              "      <td>99999.000000</td>\n",
              "      <td>99999.000000</td>\n",
              "      <td>99999.000000</td>\n",
              "      <td>99999.000000</td>\n",
              "      <td>99999.000000</td>\n",
              "      <td>99999.000000</td>\n",
              "      <td>99999.000000</td>\n",
              "      <td>99999.000000</td>\n",
              "      <td>99999.000000</td>\n",
              "      <td>99999.000000</td>\n",
              "    </tr>\n",
              "    <tr>\n",
              "      <th>mean</th>\n",
              "      <td>177.628653</td>\n",
              "      <td>24.135552</td>\n",
              "      <td>22.080679</td>\n",
              "      <td>20.631583</td>\n",
              "      <td>19.645777</td>\n",
              "      <td>19.084865</td>\n",
              "      <td>18.768988</td>\n",
              "      <td>0.576667</td>\n",
              "      <td>55588.653687</td>\n",
              "      <td>0.594456</td>\n",
              "    </tr>\n",
              "    <tr>\n",
              "      <th>std</th>\n",
              "      <td>96.502612</td>\n",
              "      <td>19.644608</td>\n",
              "      <td>2.251068</td>\n",
              "      <td>2.037384</td>\n",
              "      <td>1.854763</td>\n",
              "      <td>1.757900</td>\n",
              "      <td>1.765982</td>\n",
              "      <td>0.730709</td>\n",
              "      <td>1808.492217</td>\n",
              "      <td>0.490999</td>\n",
              "    </tr>\n",
              "    <tr>\n",
              "      <th>min</th>\n",
              "      <td>0.005528</td>\n",
              "      <td>-18.785328</td>\n",
              "      <td>10.996230</td>\n",
              "      <td>10.498200</td>\n",
              "      <td>9.822070</td>\n",
              "      <td>9.469903</td>\n",
              "      <td>9.612333</td>\n",
              "      <td>-0.009971</td>\n",
              "      <td>51608.000000</td>\n",
              "      <td>0.000000</td>\n",
              "    </tr>\n",
              "    <tr>\n",
              "      <th>25%</th>\n",
              "      <td>127.517698</td>\n",
              "      <td>5.147477</td>\n",
              "      <td>20.352410</td>\n",
              "      <td>18.965240</td>\n",
              "      <td>18.135795</td>\n",
              "      <td>17.732280</td>\n",
              "      <td>17.460830</td>\n",
              "      <td>0.054522</td>\n",
              "      <td>54234.000000</td>\n",
              "      <td>0.000000</td>\n",
              "    </tr>\n",
              "    <tr>\n",
              "      <th>50%</th>\n",
              "      <td>180.900527</td>\n",
              "      <td>23.646462</td>\n",
              "      <td>22.179140</td>\n",
              "      <td>21.099930</td>\n",
              "      <td>20.125310</td>\n",
              "      <td>19.405150</td>\n",
              "      <td>19.004600</td>\n",
              "      <td>0.424176</td>\n",
              "      <td>55869.000000</td>\n",
              "      <td>1.000000</td>\n",
              "    </tr>\n",
              "    <tr>\n",
              "      <th>75%</th>\n",
              "      <td>233.895005</td>\n",
              "      <td>39.901582</td>\n",
              "      <td>23.687480</td>\n",
              "      <td>22.123775</td>\n",
              "      <td>21.044790</td>\n",
              "      <td>20.396510</td>\n",
              "      <td>19.921120</td>\n",
              "      <td>0.704172</td>\n",
              "      <td>56777.000000</td>\n",
              "      <td>1.000000</td>\n",
              "    </tr>\n",
              "    <tr>\n",
              "      <th>max</th>\n",
              "      <td>359.999810</td>\n",
              "      <td>83.000519</td>\n",
              "      <td>32.781390</td>\n",
              "      <td>31.602240</td>\n",
              "      <td>29.571860</td>\n",
              "      <td>32.141470</td>\n",
              "      <td>29.383740</td>\n",
              "      <td>7.011245</td>\n",
              "      <td>58932.000000</td>\n",
              "      <td>1.000000</td>\n",
              "    </tr>\n",
              "  </tbody>\n",
              "</table>\n",
              "</div>\n",
              "      <button class=\"colab-df-convert\" onclick=\"convertToInteractive('df-49a6c572-6447-4342-9357-33cb44f13969')\"\n",
              "              title=\"Convert this dataframe to an interactive table.\"\n",
              "              style=\"display:none;\">\n",
              "        \n",
              "  <svg xmlns=\"http://www.w3.org/2000/svg\" height=\"24px\"viewBox=\"0 0 24 24\"\n",
              "       width=\"24px\">\n",
              "    <path d=\"M0 0h24v24H0V0z\" fill=\"none\"/>\n",
              "    <path d=\"M18.56 5.44l.94 2.06.94-2.06 2.06-.94-2.06-.94-.94-2.06-.94 2.06-2.06.94zm-11 1L8.5 8.5l.94-2.06 2.06-.94-2.06-.94L8.5 2.5l-.94 2.06-2.06.94zm10 10l.94 2.06.94-2.06 2.06-.94-2.06-.94-.94-2.06-.94 2.06-2.06.94z\"/><path d=\"M17.41 7.96l-1.37-1.37c-.4-.4-.92-.59-1.43-.59-.52 0-1.04.2-1.43.59L10.3 9.45l-7.72 7.72c-.78.78-.78 2.05 0 2.83L4 21.41c.39.39.9.59 1.41.59.51 0 1.02-.2 1.41-.59l7.78-7.78 2.81-2.81c.8-.78.8-2.07 0-2.86zM5.41 20L4 18.59l7.72-7.72 1.47 1.35L5.41 20z\"/>\n",
              "  </svg>\n",
              "      </button>\n",
              "      \n",
              "  <style>\n",
              "    .colab-df-container {\n",
              "      display:flex;\n",
              "      flex-wrap:wrap;\n",
              "      gap: 12px;\n",
              "    }\n",
              "\n",
              "    .colab-df-convert {\n",
              "      background-color: #E8F0FE;\n",
              "      border: none;\n",
              "      border-radius: 50%;\n",
              "      cursor: pointer;\n",
              "      display: none;\n",
              "      fill: #1967D2;\n",
              "      height: 32px;\n",
              "      padding: 0 0 0 0;\n",
              "      width: 32px;\n",
              "    }\n",
              "\n",
              "    .colab-df-convert:hover {\n",
              "      background-color: #E2EBFA;\n",
              "      box-shadow: 0px 1px 2px rgba(60, 64, 67, 0.3), 0px 1px 3px 1px rgba(60, 64, 67, 0.15);\n",
              "      fill: #174EA6;\n",
              "    }\n",
              "\n",
              "    [theme=dark] .colab-df-convert {\n",
              "      background-color: #3B4455;\n",
              "      fill: #D2E3FC;\n",
              "    }\n",
              "\n",
              "    [theme=dark] .colab-df-convert:hover {\n",
              "      background-color: #434B5C;\n",
              "      box-shadow: 0px 1px 3px 1px rgba(0, 0, 0, 0.15);\n",
              "      filter: drop-shadow(0px 1px 2px rgba(0, 0, 0, 0.3));\n",
              "      fill: #FFFFFF;\n",
              "    }\n",
              "  </style>\n",
              "\n",
              "      <script>\n",
              "        const buttonEl =\n",
              "          document.querySelector('#df-49a6c572-6447-4342-9357-33cb44f13969 button.colab-df-convert');\n",
              "        buttonEl.style.display =\n",
              "          google.colab.kernel.accessAllowed ? 'block' : 'none';\n",
              "\n",
              "        async function convertToInteractive(key) {\n",
              "          const element = document.querySelector('#df-49a6c572-6447-4342-9357-33cb44f13969');\n",
              "          const dataTable =\n",
              "            await google.colab.kernel.invokeFunction('convertToInteractive',\n",
              "                                                     [key], {});\n",
              "          if (!dataTable) return;\n",
              "\n",
              "          const docLinkHtml = 'Like what you see? Visit the ' +\n",
              "            '<a target=\"_blank\" href=https://colab.research.google.com/notebooks/data_table.ipynb>data table notebook</a>'\n",
              "            + ' to learn more about interactive tables.';\n",
              "          element.innerHTML = '';\n",
              "          dataTable['output_type'] = 'display_data';\n",
              "          await google.colab.output.renderOutput(dataTable, element);\n",
              "          const docLink = document.createElement('div');\n",
              "          docLink.innerHTML = docLinkHtml;\n",
              "          element.appendChild(docLink);\n",
              "        }\n",
              "      </script>\n",
              "    </div>\n",
              "  </div>\n",
              "  "
            ]
          },
          "metadata": {},
          "execution_count": 12
        }
      ]
    },
    {
      "cell_type": "markdown",
      "source": [
        "Turns out it was just one point. \n",
        "\n",
        "With that done, I can drop the classes from the dataset."
      ],
      "metadata": {
        "id": "mkabmz_EN275"
      }
    },
    {
      "cell_type": "code",
      "source": [
        "df.drop('class',axis=1,inplace=True)\n",
        "df.drop('obj_type',axis=1,inplace=True)"
      ],
      "metadata": {
        "id": "Nlob2DqXOO__"
      },
      "execution_count": null,
      "outputs": []
    },
    {
      "cell_type": "markdown",
      "source": [
        "## Correlation Check \n",
        "Now to take a look at the correlation of the inputs."
      ],
      "metadata": {
        "id": "wRmhrx5MPBwo"
      }
    },
    {
      "cell_type": "code",
      "source": [
        "fig, ax = plt.subplots(figsize=(10,8))\n",
        "sns.heatmap(df.corr().abs(),annot=False, ax=ax, cmap='rocket_r')"
      ],
      "metadata": {
        "colab": {
          "base_uri": "https://localhost:8080/",
          "height": 505
        },
        "id": "tDG9zCZVNDwg",
        "outputId": "7cc79f4a-4093-4f10-931d-2e7ebd1675d4"
      },
      "execution_count": 14,
      "outputs": [
        {
          "output_type": "execute_result",
          "data": {
            "text/plain": [
              "<matplotlib.axes._subplots.AxesSubplot at 0x7f0c5f653e90>"
            ]
          },
          "metadata": {},
          "execution_count": 14
        },
        {
          "output_type": "display_data",
          "data": {
            "text/plain": [
              "<Figure size 720x576 with 2 Axes>"
            ],
            "image/png": "[encoded data removed]"
          },
          "metadata": {
            "needs_background": "light"
          }
        }
      ]
    },
    {
      "cell_type": "code",
      "source": [
        "df.corr()['isGalaxy'].sort_values(ascending=False)"
      ],
      "metadata": {
        "colab": {
          "base_uri": "https://localhost:8080/"
        },
        "id": "1NeKfcLlP0lq",
        "outputId": "d1231fe0-c8c0-4fd4-fd51-3ae7a758f41d"
      },
      "execution_count": 15,
      "outputs": [
        {
          "output_type": "execute_result",
          "data": {
            "text/plain": [
              "isGalaxy    1.000000\n",
              "u           0.272524\n",
              "g           0.163133\n",
              "alpha       0.004091\n",
              "r          -0.038007\n",
              "delta      -0.038312\n",
              "MJD        -0.110589\n",
              "i          -0.160388\n",
              "z          -0.219269\n",
              "redshift   -0.256938\n",
              "Name: isGalaxy, dtype: float64"
            ]
          },
          "metadata": {},
          "execution_count": 15
        }
      ]
    },
    {
      "cell_type": "markdown",
      "source": [
        "It's looking like the alpha and delta (Right Ascension and Declination) have no meaningful effect whatsoever on anything, least of all my target, so I suppose I might as well remove them from the inputs as well.\n",
        "\n",
        "After some testing, it appears that I still have too many unnecessary variables, and ended up dropping r and MJD as well."
      ],
      "metadata": {
        "id": "yANkyBHdUbVp"
      }
    },
    {
      "cell_type": "code",
      "source": [
        "df.drop([\"alpha\",\"delta\",\"r\",\"MJD\"],axis=1,inplace=True)"
      ],
      "metadata": {
        "id": "0B6RLxktUvxT"
      },
      "execution_count": 16,
      "outputs": []
    },
    {
      "cell_type": "code",
      "source": [
        "fig, ax = plt.subplots(figsize=(10,8))\n",
        "sns.heatmap(df.corr().abs(),annot=False, ax=ax, cmap='rocket_r')"
      ],
      "metadata": {
        "colab": {
          "base_uri": "https://localhost:8080/",
          "height": 505
        },
        "id": "qpBdi7X3nGzI",
        "outputId": "5d82c5c6-ee16-47fb-a169-01daa26ea5e2"
      },
      "execution_count": 17,
      "outputs": [
        {
          "output_type": "execute_result",
          "data": {
            "text/plain": [
              "<matplotlib.axes._subplots.AxesSubplot at 0x7f0c5d069c90>"
            ]
          },
          "metadata": {},
          "execution_count": 17
        },
        {
          "output_type": "display_data",
          "data": {
            "text/plain": [
              "<Figure size 720x576 with 2 Axes>"
            ],
            "image/png": "[encoded data removed]"
          },
          "metadata": {
            "needs_background": "light"
          }
        }
      ]
    },
    {
      "cell_type": "markdown",
      "source": [
        "# Partitioning the Data"
      ],
      "metadata": {
        "id": "GXlohw8HRRzs"
      }
    },
    {
      "cell_type": "code",
      "source": [
        "# independent variables\n",
        "x = df.drop(['isGalaxy'],axis=1)\n",
        "# dependent/target\n",
        "y = df.isGalaxy"
      ],
      "metadata": {
        "id": "6QpP2C-vRVLX"
      },
      "execution_count": 18,
      "outputs": []
    },
    {
      "cell_type": "code",
      "source": [
        "# Separate Training and Test Data\n",
        "x_train, x_test, y_train, y_test = train_test_split(x, y, test_size=0.2, random_state=42)"
      ],
      "metadata": {
        "id": "OvjujLxLTJZV"
      },
      "execution_count": 19,
      "outputs": []
    },
    {
      "cell_type": "markdown",
      "source": [
        "# Feature Scaling"
      ],
      "metadata": {
        "id": "1MqVloNcwfDF"
      }
    },
    {
      "cell_type": "code",
      "source": [
        "transformer = Normalizer(norm='max').fit(x_train)\n",
        "x_train = transformer.transform(x_train)\n",
        "x_test = transformer.transform(x_test)"
      ],
      "metadata": {
        "id": "sSNEXwEwwbK7"
      },
      "execution_count": null,
      "outputs": []
    },
    {
      "cell_type": "markdown",
      "source": [
        "# Implementing Logistic Regression"
      ],
      "metadata": {
        "id": "HMZkpmnBAJWu"
      }
    },
    {
      "cell_type": "code",
      "source": [
        "# Rolling up a quick sigmoid function\n",
        "def sigmoid(x):\n",
        "  #print(x)\n",
        "  return np.exp(x)/(1+np.exp(x))\n",
        "\n",
        "# Defining the prediction function\n",
        "def predict(w,X,b):\n",
        "  return sigmoid(np.dot(w.T,X.T) + b).flatten().T\n",
        "\n",
        "# Defining the cost function\n",
        "def cost(m,Y,A):\n",
        "  return -1/float(m) * np.sum(Y * np.log(A) + (1-Y) * (np.log(1-A)))"
      ],
      "metadata": {
        "id": "LqszAkM8ANuK"
      },
      "execution_count": 21,
      "outputs": []
    },
    {
      "cell_type": "code",
      "source": [
        "# Defining the derivative w.r.t W\n",
        "def dW(X,A,Y,n):\n",
        "  return np.dot(X, (A-Y).T)/n"
      ],
      "metadata": {
        "id": "Xc6P9OYjAWH7"
      },
      "execution_count": 22,
      "outputs": []
    },
    {
      "cell_type": "code",
      "source": [
        "# Defining the derivative w.r.t B\n",
        "def dB(A,Y,n):\n",
        "  return np.sum(A-Y)/n"
      ],
      "metadata": {
        "id": "3PzFe5csF7lg"
      },
      "execution_count": 23,
      "outputs": []
    },
    {
      "cell_type": "code",
      "source": [
        "# Update\n",
        "def update(eta,w,b,dw,db):\n",
        "  w = w - eta*dw.T\n",
        "  b = b - eta*db.T\n",
        "  return w,b"
      ],
      "metadata": {
        "id": "yX-L_MoDbgkG"
      },
      "execution_count": 24,
      "outputs": []
    },
    {
      "cell_type": "code",
      "source": [
        "# Predict\n",
        "def final_predict(w,X,b):\n",
        "  y_hat = predict(w,X,b)\n",
        "  if debug:\n",
        "    print(\"Avg: {}, Std: {}\".format(y_hat.mean(),y_hat.std()))\n",
        "  for i in range(len(y_hat)):\n",
        "    if y_hat[i] < 0.5:\n",
        "      y_hat[i] = 0\n",
        "    else:\n",
        "      y_hat[i] = 1\n",
        "  return y_hat"
      ],
      "metadata": {
        "id": "0rHY9Ozeb3oY"
      },
      "execution_count": 25,
      "outputs": []
    },
    {
      "cell_type": "code",
      "source": [
        "# Test\n",
        "def test(x_test, y_test,w,b):\n",
        "  predictions = final_predict(w,x_test,b)\n",
        "  correct = 0\n",
        "  if debug:\n",
        "    print(\"Weights:\")\n",
        "    for weight in w:\n",
        "      print(weight)\n",
        "    print(\"BIAS:\")\n",
        "    print(b)\n",
        "    print(\"Prediction:\")\n",
        "    print(predictions)\n",
        "    print(\"Reality:\")\n",
        "    print(y_test)\n",
        "  for i in range(len(predictions)):\n",
        "    if predictions[i] == y_test[i]:\n",
        "      correct += 1\n",
        "  f1 = f1_score(y_test,predictions)\n",
        "  acc = accuracy_score(y_test,predictions)\n",
        "  return correct/float(len(predictions)), f1, acc\n",
        "\n",
        "# Check and print\n",
        "def finish(x_test,y_test,w,b,t,epochs):\n",
        "  perc_correct, f1, acc = test(x_test,y_test.to_numpy().flatten(),w,b)\n",
        "  perc_correct*=100\n",
        "  t.stop()\n",
        "\n",
        "  print(\"After {0} epochs over {1:.2f} seconds, the model is capable of correctly identifying GALAXIES {2:.3f}% of the time\".format(epochs, t.read(), perc_correct))\n",
        "  print(\"Accuracy: {0:.3f}\\nF1: {1:3f}\".format(acc, f1))"
      ],
      "metadata": {
        "id": "7QbAYXLY5i8d"
      },
      "execution_count": 26,
      "outputs": []
    },
    {
      "cell_type": "code",
      "source": [
        "# Logistic Regression (Function)\n",
        "def log_reg(w,x,y,b,rate,esc_val):\n",
        "  y_hat = predict(w,x_train,b)\n",
        "  c = cost(m,y_train,y_hat)\n",
        "  dw = dW(x_train.T,y_hat,y_train,n)\n",
        "  db = dB(y_hat,y_train,n)\n",
        "  return (update(rate, w, b, dw, db), abs(dw.max()) < esc_val)\n"
      ],
      "metadata": {
        "id": "qR2DIzjyvOHV"
      },
      "execution_count": 27,
      "outputs": []
    },
    {
      "cell_type": "code",
      "source": [
        "# Logistic Regression (Basic)\n",
        "t.start()\n",
        "\n",
        "epochs = 10000\n",
        "n=x_train.shape[1]\n",
        "m=x_train.shape[0]\n",
        "rate = 0.0002\n",
        "w = np.random.uniform(size=n)\n",
        "b = np.random.uniform()\n",
        "esc_val = 0.01\n",
        "for i in range(epochs):\n",
        "  (w,b),esc = log_reg(w,x_train,y_train,b,rate,esc_val)\n",
        "  if esc:\n",
        "    epochs = i\n",
        "    break\n",
        "\n",
        "finish(x_test,y_test,w,b,t,epochs)"
      ],
      "metadata": {
        "colab": {
          "base_uri": "https://localhost:8080/"
        },
        "id": "bBOyy_s5tJdq",
        "outputId": "8652ed97-940c-4d76-9ef4-3bd58de60839"
      },
      "execution_count": 28,
      "outputs": [
        {
          "output_type": "stream",
          "name": "stdout",
          "text": [
            "After 10000 epochs over 224.03 seconds, the model is capable of correctly identifying GALAXIES 82.095% of the time\n",
            "Accuracy: 0.821\n",
            "F1: 0.862602\n"
          ]
        }
      ]
    },
    {
      "cell_type": "code",
      "source": [
        "# Logistic Regression (Mini-Batch)\n",
        "t.start()\n",
        "\n",
        "epochs = 10000\n",
        "n = x.shape[1]\n",
        "rate = 0.0002\n",
        "w = np.random.uniform(size=n)\n",
        "b = np.random.uniform()\n",
        "min_esc = 0.01\n",
        "batch_size = 100\n",
        "m = batch_size\n",
        "start_index = 0\n",
        "\n",
        "randomize = np.arange(m)\n",
        "np.random.shuffle(randomize)\n",
        "x_train_stoc = x_train[randomize]\n",
        "y_train_stoc = y_train.to_numpy()[randomize]\n",
        "\n",
        "for i in range(epochs):\n",
        "  if start_index + batch_size > m:\n",
        "    start_index = 0\n",
        "    randomize = np.arange(m)\n",
        "    np.random.shuffle(randomize)\n",
        "    x_train_stoc = x_train[randomize]\n",
        "    y_train_stoc = y_train.to_numpy()[randomize]\n",
        "  x_batch = x_train_stoc[start_index:start_index+batch_size:1]\n",
        "  y_batch = y_train_stoc[start_index:start_index+batch_size:1]\n",
        "  start_index += batch_size\n",
        "  (w,b),esc = log_reg(w,x_batch,y_batch,b,rate,esc_val)\n",
        "  if esc:\n",
        "    epochs = i\n",
        "    break\n",
        "\n",
        "finish(x_test,y_test,w,b,t,epochs)"
      ],
      "metadata": {
        "colab": {
          "base_uri": "https://localhost:8080/"
        },
        "id": "0t42mgjcjIch",
        "outputId": "5b36dc48-706a-4bc6-eb9a-586d81639a17"
      },
      "execution_count": 29,
      "outputs": [
        {
          "output_type": "stream",
          "name": "stdout",
          "text": [
            "After 10000 epochs over 211.45 seconds, the model is capable of correctly identifying GALAXIES 82.090% of the time\n",
            "Accuracy: 0.821\n",
            "F1: 0.862569\n"
          ]
        }
      ]
    },
    {
      "cell_type": "code",
      "source": [
        "# Logistic Regression (Stochastic)\n",
        "t.start()\n",
        "\n",
        "epochs = 10\n",
        "n=x_train.shape[1]\n",
        "m=x_train.shape[0]\n",
        "rate = 0.0002\n",
        "w = np.random.uniform(size=n)\n",
        "b = np.random.uniform()\n",
        "esc_val = 0.01\n",
        "for i in range(epochs):\n",
        "  randomize = np.arange(m)\n",
        "  np.random.shuffle(randomize)\n",
        "  x_train_stoc = x_train[randomize]\n",
        "  y_train_stoc = y_train.to_numpy()[randomize]\n",
        "  for j in range(int(m/100)):\n",
        "    x_data = x_train_stoc[j]\n",
        "    y_data = y_train_stoc[j]\n",
        "    (w,b),esc = log_reg(w,x_data,y_data,b,rate,esc_val)\n",
        "    if esc:\n",
        "      epochs = i+1\n",
        "      break\n",
        "\n",
        "finish(x_test,y_test,w,b,t,epochs)"
      ],
      "metadata": {
        "colab": {
          "base_uri": "https://localhost:8080/"
        },
        "id": "1_UdQjenqA6a",
        "outputId": "374d0abc-582d-4ae6-c5fa-055aaae88ca5"
      },
      "execution_count": 30,
      "outputs": [
        {
          "output_type": "stream",
          "name": "stdout",
          "text": [
            "After 10 epochs over 179.31 seconds, the model is capable of correctly identifying GALAXIES 81.730% of the time\n",
            "Accuracy: 0.817\n",
            "F1: 0.860758\n"
          ]
        }
      ]
    },
    {
      "cell_type": "markdown",
      "source": [
        "# Comparison of Methods\n",
        "\n",
        "All 3 versions of Gradient Descent ended up with approximately the same results in approximately the same amount of time. I did have to stretch SGD some to get the time to work out however, as I have just shy of 100,000 datapoints to process, and SGD is functionally like I was running it all inside a for loop. I don't get the benefits afforded to the other two of the speedy matrix algebra to the same extent."
      ],
      "metadata": {
        "id": "bSdsTEJE_H35"
      }
    },
    {
      "cell_type": "markdown",
      "source": [
        "# Optimization Algorithms\n",
        "\n",
        "For my first optimization algorithm, I attempted to implement Momentum."
      ],
      "metadata": {
        "id": "-X3_59cL_nu-"
      }
    },
    {
      "cell_type": "code",
      "source": [
        "def momentum_update(eta,gamma,w,b,dw,db,vtw,vtb):\n",
        "  vtw = vtw*gamma + eta*dw.T\n",
        "  vtb = vtb*gamma + eta*db.T\n",
        "  w = w - vtw\n",
        "  b = b - vtb\n",
        "  return w,b,vtw,vtb\n",
        "\n",
        "def mom_log_reg(w,x,y,b,vtw,vtb,rate,esc_val):\n",
        "  y_hat = predict(w,x_train,b)\n",
        "  c = cost(m,y_train,y_hat)\n",
        "  dw = dW(x_train.T,y_hat,y_train,n)\n",
        "  db = dB(y_hat,y_train,n)\n",
        "  return (momentum_update(rate, .9, w, b, dw, db,vtw,vtb), abs(dw.max()) < esc_val)\n"
      ],
      "metadata": {
        "id": "GKY4jzBjAQCE"
      },
      "execution_count": 31,
      "outputs": []
    },
    {
      "cell_type": "code",
      "source": [
        "# Testing Momentum\n",
        "t.start()\n",
        "epochs = 10000\n",
        "n=x_train.shape[1]\n",
        "m=x_train.shape[0]\n",
        "rate = 0.0002\n",
        "w = np.random.uniform(size=n)\n",
        "b = np.random.uniform()\n",
        "esc_val = 0.01\n",
        "vtw = 0.0\n",
        "vtb = 0.0\n",
        "for i in range(epochs):\n",
        "  (w,b,vtw,vtb),esc = mom_log_reg(w,x_train,y_train,b,vtw,vtb,rate,esc_val)\n",
        "  if esc:\n",
        "    epochs = i+1\n",
        "    break\n",
        "\n",
        "finish(x_test,y_test,w,b,t,epochs)"
      ],
      "metadata": {
        "id": "rJ1oo5hsFBEF",
        "colab": {
          "base_uri": "https://localhost:8080/"
        },
        "outputId": "f692ec7a-5c93-4ab3-fd27-b08fceb90fd0"
      },
      "execution_count": 32,
      "outputs": [
        {
          "output_type": "stream",
          "name": "stdout",
          "text": [
            "After 10000 epochs over 209.87 seconds, the model is capable of correctly identifying GALAXIES 83.650% of the time\n",
            "Accuracy: 0.837\n",
            "F1: 0.865377\n"
          ]
        }
      ]
    },
    {
      "cell_type": "markdown",
      "source": [
        "I then attempted to implement Nesterov Accelerated Gradient (NAG)"
      ],
      "metadata": {
        "id": "6Y-kwRceKNqf"
      }
    },
    {
      "cell_type": "code",
      "source": [
        "# NAG\n",
        "def nag_update(eta,gamma,w,b,dw,db,vtw,vtb,x,y,n):\n",
        "  delta_w = dW(x.T,predict(w-gamma*vtw,x,b),y,n)\n",
        "  vtw = vtw*gamma + eta*delta_w.T\n",
        "  vtb = vtb*gamma + eta*b\n",
        "  w = w - vtw\n",
        "  b = b - vtb\n",
        "  return w,b,vtw,vtb\n",
        "\n",
        "def nag_log_reg(w,x,y,b,vtw,vtb,rate,esc_val,n):\n",
        "  y_hat = predict(w,x,b)\n",
        "  c = cost(m,y,y_hat)\n",
        "  dw = dW(x.T,y_hat,y,n)\n",
        "  db = dB(y_hat,y,n)\n",
        "  return (nag_update(rate, .9, w, b, dw, db,vtw,vtb,x,y,n), abs(dw.max()) < esc_val)\n"
      ],
      "metadata": {
        "id": "HbRfU2jlKVRy"
      },
      "execution_count": 33,
      "outputs": []
    },
    {
      "cell_type": "code",
      "source": [
        "# Testing NAG\n",
        "t.start()\n",
        "epochs = 10000\n",
        "n=x_train.shape[1]\n",
        "m=x_train.shape[0]\n",
        "rate = 0.0002\n",
        "w = np.random.uniform(size=n)\n",
        "b = np.random.uniform()\n",
        "esc_val = 0.000001\n",
        "vtw = 0.0\n",
        "vtb = 0.0\n",
        "for i in range(epochs):\n",
        "  (w,b,vtw,vtb),esc = nag_log_reg(w,x_train,y_train,b,vtw,vtb,rate,esc_val,n)\n",
        "  if esc or abs(vtw.max())<esc_val:\n",
        "    epochs = i+1\n",
        "    break\n",
        "\n",
        "finish(x_test,y_test,w,b,t,epochs)"
      ],
      "metadata": {
        "id": "i9JHbDtXLgC9",
        "colab": {
          "base_uri": "https://localhost:8080/"
        },
        "outputId": "a4688d69-cc62-4cee-cb4c-40f2d6b778ec"
      },
      "execution_count": 34,
      "outputs": [
        {
          "output_type": "stream",
          "name": "stdout",
          "text": [
            "After 10000 epochs over 297.40 seconds, the model is capable of correctly identifying GALAXIES 82.315% of the time\n",
            "Accuracy: 0.823\n",
            "F1: 0.848982\n"
          ]
        }
      ]
    },
    {
      "cell_type": "markdown",
      "source": [
        "# Comparison of Optimizers\n",
        "\n",
        "Similarly to the different flavors of Gradient Descent, the 2 optimizers both terminated with approximately the same results. The Nesterov Accelerate Gradient however, consumed quite a bit more time than either the vanilla Gradient Descent or Momentum optimizer."
      ],
      "metadata": {
        "id": "3UCYynSl_8tK"
      }
    }
  ]
}